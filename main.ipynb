{
  "metadata": {
    "kernelspec": {
      "name": "python",
      "display_name": "Python (Pyodide)",
      "language": "python"
    },
    "language_info": {
      "codemirror_mode": {
        "name": "python",
        "version": 3
      },
      "file_extension": ".py",
      "mimetype": "text/x-python",
      "name": "python",
      "nbconvert_exporter": "python",
      "pygments_lexer": "ipython3",
      "version": "3.8"
    }
  },
  "nbformat_minor": 5,
  "nbformat": 4,
  "cells": [
    {
      "id": "be6ccaf0-2ba0-4cc6-a367-a603b05d79c8",
      "cell_type": "code",
      "source": "import pandas as pd",
      "metadata": {
        "trusted": true
      },
      "outputs": [],
      "execution_count": 48
    },
    {
      "id": "1cd3c6c1-9830-4db9-98b7-a616270eaea2",
      "cell_type": "code",
      "source": "import numpy as np",
      "metadata": {
        "trusted": true
      },
      "outputs": [],
      "execution_count": 49
    },
    {
      "id": "6a1ee973-4620-427b-b91c-cf32259d525d",
      "cell_type": "code",
      "source": "df=pd.read_csv(\"electronic-card-transactions-september-2024-csv-tables.csv\")",
      "metadata": {
        "trusted": true
      },
      "outputs": [],
      "execution_count": 50
    },
    {
      "id": "c71bed38-2fe9-4af9-8cdd-24905321ea05",
      "cell_type": "code",
      "source": "df",
      "metadata": {
        "trusted": true
      },
      "outputs": [
        {
          "execution_count": 51,
          "output_type": "execute_result",
          "data": {
            "text/plain": "      Series_reference   Period  Data_value  Suppressed STATUS    UNITS  \\\n0           ECTA.S19A1  2001.03      2462.5         NaN      F  Dollars   \n1           ECTA.S19A1  2002.03     17177.2         NaN      F  Dollars   \n2           ECTA.S19A1  2003.03     22530.5         NaN      F  Dollars   \n3           ECTA.S19A1  2004.03     28005.1         NaN      F  Dollars   \n4           ECTA.S19A1  2005.03     30629.6         NaN      F  Dollars   \n...                ...      ...         ...         ...    ...      ...   \n20792       ECTQ.S4AXP  2023.09        33.2         NaN      F  Percent   \n20793       ECTQ.S4AXP  2023.12        32.7         NaN      F  Percent   \n20794       ECTQ.S4AXP  2024.03        32.1         NaN      F  Percent   \n20795       ECTQ.S4AXP  2024.06        33.3         NaN      F  Percent   \n20796       ECTQ.S4AXP  2024.09        33.4         NaN      F  Percent   \n\n       Magnitude                                        Subject  \\\n0              6  Electronic Card Transactions (ANZSIC06) - ECT   \n1              6  Electronic Card Transactions (ANZSIC06) - ECT   \n2              6  Electronic Card Transactions (ANZSIC06) - ECT   \n3              6  Electronic Card Transactions (ANZSIC06) - ECT   \n4              6  Electronic Card Transactions (ANZSIC06) - ECT   \n...          ...                                            ...   \n20792          0  Electronic Card Transactions (ANZSIC06) - ECT   \n20793          0  Electronic Card Transactions (ANZSIC06) - ECT   \n20794          0  Electronic Card Transactions (ANZSIC06) - ECT   \n20795          0  Electronic Card Transactions (ANZSIC06) - ECT   \n20796          0  Electronic Card Transactions (ANZSIC06) - ECT   \n\n                                                   Group Series_title_1  \\\n0      Total values - Electronic card transactions A/...         Actual   \n1      Total values - Electronic card transactions A/...         Actual   \n2      Total values - Electronic card transactions A/...         Actual   \n3      Total values - Electronic card transactions A/...         Actual   \n4      Total values - Electronic card transactions A/...         Actual   \n...                                                  ...            ...   \n20792  Electronic card transactions by mean and propo...         Actual   \n20793  Electronic card transactions by mean and propo...         Actual   \n20794  Electronic card transactions by mean and propo...         Actual   \n20795  Electronic card transactions by mean and propo...         Actual   \n20796  Electronic card transactions by mean and propo...         Actual   \n\n                                          Series_title_2  Series_title_3  \\\n0                                   RTS total industries             NaN   \n1                                   RTS total industries             NaN   \n2                                   RTS total industries             NaN   \n3                                   RTS total industries             NaN   \n4                                   RTS total industries             NaN   \n...                                                  ...             ...   \n20792  Debit card usage as a proportion of total ECT ...  Proportion (%)   \n20793  Debit card usage as a proportion of total ECT ...  Proportion (%)   \n20794  Debit card usage as a proportion of total ECT ...  Proportion (%)   \n20795  Debit card usage as a proportion of total ECT ...  Proportion (%)   \n20796  Debit card usage as a proportion of total ECT ...  Proportion (%)   \n\n       Series_title_4  Series_title_5  \n0                 NaN             NaN  \n1                 NaN             NaN  \n2                 NaN             NaN  \n3                 NaN             NaN  \n4                 NaN             NaN  \n...               ...             ...  \n20792             NaN             NaN  \n20793             NaN             NaN  \n20794             NaN             NaN  \n20795             NaN             NaN  \n20796             NaN             NaN  \n\n[20797 rows x 14 columns]",
            "text/html": "<div>\n<style scoped>\n    .dataframe tbody tr th:only-of-type {\n        vertical-align: middle;\n    }\n\n    .dataframe tbody tr th {\n        vertical-align: top;\n    }\n\n    .dataframe thead th {\n        text-align: right;\n    }\n</style>\n<table border=\"1\" class=\"dataframe\">\n  <thead>\n    <tr style=\"text-align: right;\">\n      <th></th>\n      <th>Series_reference</th>\n      <th>Period</th>\n      <th>Data_value</th>\n      <th>Suppressed</th>\n      <th>STATUS</th>\n      <th>UNITS</th>\n      <th>Magnitude</th>\n      <th>Subject</th>\n      <th>Group</th>\n      <th>Series_title_1</th>\n      <th>Series_title_2</th>\n      <th>Series_title_3</th>\n      <th>Series_title_4</th>\n      <th>Series_title_5</th>\n    </tr>\n  </thead>\n  <tbody>\n    <tr>\n      <th>0</th>\n      <td>ECTA.S19A1</td>\n      <td>2001.03</td>\n      <td>2462.5</td>\n      <td>NaN</td>\n      <td>F</td>\n      <td>Dollars</td>\n      <td>6</td>\n      <td>Electronic Card Transactions (ANZSIC06) - ECT</td>\n      <td>Total values - Electronic card transactions A/...</td>\n      <td>Actual</td>\n      <td>RTS total industries</td>\n      <td>NaN</td>\n      <td>NaN</td>\n      <td>NaN</td>\n    </tr>\n    <tr>\n      <th>1</th>\n      <td>ECTA.S19A1</td>\n      <td>2002.03</td>\n      <td>17177.2</td>\n      <td>NaN</td>\n      <td>F</td>\n      <td>Dollars</td>\n      <td>6</td>\n      <td>Electronic Card Transactions (ANZSIC06) - ECT</td>\n      <td>Total values - Electronic card transactions A/...</td>\n      <td>Actual</td>\n      <td>RTS total industries</td>\n      <td>NaN</td>\n      <td>NaN</td>\n      <td>NaN</td>\n    </tr>\n    <tr>\n      <th>2</th>\n      <td>ECTA.S19A1</td>\n      <td>2003.03</td>\n      <td>22530.5</td>\n      <td>NaN</td>\n      <td>F</td>\n      <td>Dollars</td>\n      <td>6</td>\n      <td>Electronic Card Transactions (ANZSIC06) - ECT</td>\n      <td>Total values - Electronic card transactions A/...</td>\n      <td>Actual</td>\n      <td>RTS total industries</td>\n      <td>NaN</td>\n      <td>NaN</td>\n      <td>NaN</td>\n    </tr>\n    <tr>\n      <th>3</th>\n      <td>ECTA.S19A1</td>\n      <td>2004.03</td>\n      <td>28005.1</td>\n      <td>NaN</td>\n      <td>F</td>\n      <td>Dollars</td>\n      <td>6</td>\n      <td>Electronic Card Transactions (ANZSIC06) - ECT</td>\n      <td>Total values - Electronic card transactions A/...</td>\n      <td>Actual</td>\n      <td>RTS total industries</td>\n      <td>NaN</td>\n      <td>NaN</td>\n      <td>NaN</td>\n    </tr>\n    <tr>\n      <th>4</th>\n      <td>ECTA.S19A1</td>\n      <td>2005.03</td>\n      <td>30629.6</td>\n      <td>NaN</td>\n      <td>F</td>\n      <td>Dollars</td>\n      <td>6</td>\n      <td>Electronic Card Transactions (ANZSIC06) - ECT</td>\n      <td>Total values - Electronic card transactions A/...</td>\n      <td>Actual</td>\n      <td>RTS total industries</td>\n      <td>NaN</td>\n      <td>NaN</td>\n      <td>NaN</td>\n    </tr>\n    <tr>\n      <th>...</th>\n      <td>...</td>\n      <td>...</td>\n      <td>...</td>\n      <td>...</td>\n      <td>...</td>\n      <td>...</td>\n      <td>...</td>\n      <td>...</td>\n      <td>...</td>\n      <td>...</td>\n      <td>...</td>\n      <td>...</td>\n      <td>...</td>\n      <td>...</td>\n    </tr>\n    <tr>\n      <th>20792</th>\n      <td>ECTQ.S4AXP</td>\n      <td>2023.09</td>\n      <td>33.2</td>\n      <td>NaN</td>\n      <td>F</td>\n      <td>Percent</td>\n      <td>0</td>\n      <td>Electronic Card Transactions (ANZSIC06) - ECT</td>\n      <td>Electronic card transactions by mean and propo...</td>\n      <td>Actual</td>\n      <td>Debit card usage as a proportion of total ECT ...</td>\n      <td>Proportion (%)</td>\n      <td>NaN</td>\n      <td>NaN</td>\n    </tr>\n    <tr>\n      <th>20793</th>\n      <td>ECTQ.S4AXP</td>\n      <td>2023.12</td>\n      <td>32.7</td>\n      <td>NaN</td>\n      <td>F</td>\n      <td>Percent</td>\n      <td>0</td>\n      <td>Electronic Card Transactions (ANZSIC06) - ECT</td>\n      <td>Electronic card transactions by mean and propo...</td>\n      <td>Actual</td>\n      <td>Debit card usage as a proportion of total ECT ...</td>\n      <td>Proportion (%)</td>\n      <td>NaN</td>\n      <td>NaN</td>\n    </tr>\n    <tr>\n      <th>20794</th>\n      <td>ECTQ.S4AXP</td>\n      <td>2024.03</td>\n      <td>32.1</td>\n      <td>NaN</td>\n      <td>F</td>\n      <td>Percent</td>\n      <td>0</td>\n      <td>Electronic Card Transactions (ANZSIC06) - ECT</td>\n      <td>Electronic card transactions by mean and propo...</td>\n      <td>Actual</td>\n      <td>Debit card usage as a proportion of total ECT ...</td>\n      <td>Proportion (%)</td>\n      <td>NaN</td>\n      <td>NaN</td>\n    </tr>\n    <tr>\n      <th>20795</th>\n      <td>ECTQ.S4AXP</td>\n      <td>2024.06</td>\n      <td>33.3</td>\n      <td>NaN</td>\n      <td>F</td>\n      <td>Percent</td>\n      <td>0</td>\n      <td>Electronic Card Transactions (ANZSIC06) - ECT</td>\n      <td>Electronic card transactions by mean and propo...</td>\n      <td>Actual</td>\n      <td>Debit card usage as a proportion of total ECT ...</td>\n      <td>Proportion (%)</td>\n      <td>NaN</td>\n      <td>NaN</td>\n    </tr>\n    <tr>\n      <th>20796</th>\n      <td>ECTQ.S4AXP</td>\n      <td>2024.09</td>\n      <td>33.4</td>\n      <td>NaN</td>\n      <td>F</td>\n      <td>Percent</td>\n      <td>0</td>\n      <td>Electronic Card Transactions (ANZSIC06) - ECT</td>\n      <td>Electronic card transactions by mean and propo...</td>\n      <td>Actual</td>\n      <td>Debit card usage as a proportion of total ECT ...</td>\n      <td>Proportion (%)</td>\n      <td>NaN</td>\n      <td>NaN</td>\n    </tr>\n  </tbody>\n</table>\n<p>20797 rows × 14 columns</p>\n</div>"
          },
          "metadata": {}
        }
      ],
      "execution_count": 51
    },
    {
      "id": "0e6577eb-81bd-44e0-8980-ff7f6ea31d11",
      "cell_type": "code",
      "source": "df['Subject']",
      "metadata": {
        "trusted": true
      },
      "outputs": [
        {
          "execution_count": 15,
          "output_type": "execute_result",
          "data": {
            "text/plain": "0        Electronic Card Transactions (ANZSIC06) - ECT\n1        Electronic Card Transactions (ANZSIC06) - ECT\n2        Electronic Card Transactions (ANZSIC06) - ECT\n3        Electronic Card Transactions (ANZSIC06) - ECT\n4        Electronic Card Transactions (ANZSIC06) - ECT\n                             ...                      \n20792    Electronic Card Transactions (ANZSIC06) - ECT\n20793    Electronic Card Transactions (ANZSIC06) - ECT\n20794    Electronic Card Transactions (ANZSIC06) - ECT\n20795    Electronic Card Transactions (ANZSIC06) - ECT\n20796    Electronic Card Transactions (ANZSIC06) - ECT\nName: Subject, Length: 20797, dtype: object"
          },
          "metadata": {}
        }
      ],
      "execution_count": 15
    },
    {
      "id": "f469cdd7-ed39-42e3-b583-5b587948a34f",
      "cell_type": "code",
      "source": "df.columns",
      "metadata": {
        "trusted": true
      },
      "outputs": [
        {
          "execution_count": 9,
          "output_type": "execute_result",
          "data": {
            "text/plain": "Index(['Series_reference', 'Period', 'Data_value', 'Suppressed', 'STATUS',\n       'UNITS', 'Magnitude', 'Subject', 'Group', 'Series_title_1',\n       'Series_title_2', 'Series_title_3', 'Series_title_4', 'Series_title_5'],\n      dtype='object')"
          },
          "metadata": {}
        }
      ],
      "execution_count": 9
    },
    {
      "id": "b8a6a04e-4604-4bdd-bf0c-a65ac73da9f3",
      "cell_type": "code",
      "source": "df.head()",
      "metadata": {
        "trusted": true
      },
      "outputs": [
        {
          "execution_count": 16,
          "output_type": "execute_result",
          "data": {
            "text/plain": "  Series_reference   Period  Data_value  Suppressed STATUS    UNITS  \\\n0       ECTA.S19A1  2001.03      2462.5         NaN      F  Dollars   \n1       ECTA.S19A1  2002.03     17177.2         NaN      F  Dollars   \n2       ECTA.S19A1  2003.03     22530.5         NaN      F  Dollars   \n3       ECTA.S19A1  2004.03     28005.1         NaN      F  Dollars   \n4       ECTA.S19A1  2005.03     30629.6         NaN      F  Dollars   \n\n   Magnitude                                        Subject  \\\n0          6  Electronic Card Transactions (ANZSIC06) - ECT   \n1          6  Electronic Card Transactions (ANZSIC06) - ECT   \n2          6  Electronic Card Transactions (ANZSIC06) - ECT   \n3          6  Electronic Card Transactions (ANZSIC06) - ECT   \n4          6  Electronic Card Transactions (ANZSIC06) - ECT   \n\n                                               Group Series_title_1  \\\n0  Total values - Electronic card transactions A/...         Actual   \n1  Total values - Electronic card transactions A/...         Actual   \n2  Total values - Electronic card transactions A/...         Actual   \n3  Total values - Electronic card transactions A/...         Actual   \n4  Total values - Electronic card transactions A/...         Actual   \n\n         Series_title_2 Series_title_3  Series_title_4  Series_title_5  \n0  RTS total industries            NaN             NaN             NaN  \n1  RTS total industries            NaN             NaN             NaN  \n2  RTS total industries            NaN             NaN             NaN  \n3  RTS total industries            NaN             NaN             NaN  \n4  RTS total industries            NaN             NaN             NaN  ",
            "text/html": "<div>\n<style scoped>\n    .dataframe tbody tr th:only-of-type {\n        vertical-align: middle;\n    }\n\n    .dataframe tbody tr th {\n        vertical-align: top;\n    }\n\n    .dataframe thead th {\n        text-align: right;\n    }\n</style>\n<table border=\"1\" class=\"dataframe\">\n  <thead>\n    <tr style=\"text-align: right;\">\n      <th></th>\n      <th>Series_reference</th>\n      <th>Period</th>\n      <th>Data_value</th>\n      <th>Suppressed</th>\n      <th>STATUS</th>\n      <th>UNITS</th>\n      <th>Magnitude</th>\n      <th>Subject</th>\n      <th>Group</th>\n      <th>Series_title_1</th>\n      <th>Series_title_2</th>\n      <th>Series_title_3</th>\n      <th>Series_title_4</th>\n      <th>Series_title_5</th>\n    </tr>\n  </thead>\n  <tbody>\n    <tr>\n      <th>0</th>\n      <td>ECTA.S19A1</td>\n      <td>2001.03</td>\n      <td>2462.5</td>\n      <td>NaN</td>\n      <td>F</td>\n      <td>Dollars</td>\n      <td>6</td>\n      <td>Electronic Card Transactions (ANZSIC06) - ECT</td>\n      <td>Total values - Electronic card transactions A/...</td>\n      <td>Actual</td>\n      <td>RTS total industries</td>\n      <td>NaN</td>\n      <td>NaN</td>\n      <td>NaN</td>\n    </tr>\n    <tr>\n      <th>1</th>\n      <td>ECTA.S19A1</td>\n      <td>2002.03</td>\n      <td>17177.2</td>\n      <td>NaN</td>\n      <td>F</td>\n      <td>Dollars</td>\n      <td>6</td>\n      <td>Electronic Card Transactions (ANZSIC06) - ECT</td>\n      <td>Total values - Electronic card transactions A/...</td>\n      <td>Actual</td>\n      <td>RTS total industries</td>\n      <td>NaN</td>\n      <td>NaN</td>\n      <td>NaN</td>\n    </tr>\n    <tr>\n      <th>2</th>\n      <td>ECTA.S19A1</td>\n      <td>2003.03</td>\n      <td>22530.5</td>\n      <td>NaN</td>\n      <td>F</td>\n      <td>Dollars</td>\n      <td>6</td>\n      <td>Electronic Card Transactions (ANZSIC06) - ECT</td>\n      <td>Total values - Electronic card transactions A/...</td>\n      <td>Actual</td>\n      <td>RTS total industries</td>\n      <td>NaN</td>\n      <td>NaN</td>\n      <td>NaN</td>\n    </tr>\n    <tr>\n      <th>3</th>\n      <td>ECTA.S19A1</td>\n      <td>2004.03</td>\n      <td>28005.1</td>\n      <td>NaN</td>\n      <td>F</td>\n      <td>Dollars</td>\n      <td>6</td>\n      <td>Electronic Card Transactions (ANZSIC06) - ECT</td>\n      <td>Total values - Electronic card transactions A/...</td>\n      <td>Actual</td>\n      <td>RTS total industries</td>\n      <td>NaN</td>\n      <td>NaN</td>\n      <td>NaN</td>\n    </tr>\n    <tr>\n      <th>4</th>\n      <td>ECTA.S19A1</td>\n      <td>2005.03</td>\n      <td>30629.6</td>\n      <td>NaN</td>\n      <td>F</td>\n      <td>Dollars</td>\n      <td>6</td>\n      <td>Electronic Card Transactions (ANZSIC06) - ECT</td>\n      <td>Total values - Electronic card transactions A/...</td>\n      <td>Actual</td>\n      <td>RTS total industries</td>\n      <td>NaN</td>\n      <td>NaN</td>\n      <td>NaN</td>\n    </tr>\n  </tbody>\n</table>\n</div>"
          },
          "metadata": {}
        }
      ],
      "execution_count": 16
    },
    {
      "id": "663a7be0-884b-4843-aea9-2b26aa804231",
      "cell_type": "code",
      "source": "df.head(10)",
      "metadata": {
        "trusted": true
      },
      "outputs": [
        {
          "execution_count": 35,
          "output_type": "execute_result",
          "data": {
            "text/plain": "  Series_reference   Period  Data_value  Suppressed STATUS    UNITS  \\\n0       ECTA.S19A1  2001.03      2462.5         NaN      F  Dollars   \n1       ECTA.S19A1  2002.03     17177.2         NaN      F  Dollars   \n2       ECTA.S19A1  2003.03     22530.5         NaN      F  Dollars   \n3       ECTA.S19A1  2004.03     28005.1         NaN      F  Dollars   \n4       ECTA.S19A1  2005.03     30629.6         NaN      F  Dollars   \n5       ECTA.S19A1  2006.03     33317.4         NaN      F  Dollars   \n6       ECTA.S19A1  2007.03     36422.0         NaN      F  Dollars   \n7       ECTA.S19A1  2008.03     39198.0         NaN      F  Dollars   \n8       ECTA.S19A1  2009.03     40629.4         NaN      F  Dollars   \n9       ECTA.S19A1  2010.03     41815.4         NaN      F  Dollars   \n\n   mainMagnitude                                    mainSubject  \\\n0              6  Electronic Card Transactions (ANZSIC06) - ECT   \n1              6  Electronic Card Transactions (ANZSIC06) - ECT   \n2              6  Electronic Card Transactions (ANZSIC06) - ECT   \n3              6  Electronic Card Transactions (ANZSIC06) - ECT   \n4              6  Electronic Card Transactions (ANZSIC06) - ECT   \n5              6  Electronic Card Transactions (ANZSIC06) - ECT   \n6              6  Electronic Card Transactions (ANZSIC06) - ECT   \n7              6  Electronic Card Transactions (ANZSIC06) - ECT   \n8              6  Electronic Card Transactions (ANZSIC06) - ECT   \n9              6  Electronic Card Transactions (ANZSIC06) - ECT   \n\n                                               Group Series_title_1  \\\n0  Total values - Electronic card transactions A/...         Actual   \n1  Total values - Electronic card transactions A/...         Actual   \n2  Total values - Electronic card transactions A/...         Actual   \n3  Total values - Electronic card transactions A/...         Actual   \n4  Total values - Electronic card transactions A/...         Actual   \n5  Total values - Electronic card transactions A/...         Actual   \n6  Total values - Electronic card transactions A/...         Actual   \n7  Total values - Electronic card transactions A/...         Actual   \n8  Total values - Electronic card transactions A/...         Actual   \n9  Total values - Electronic card transactions A/...         Actual   \n\n         Series_title_2 Series_title_3  Series_title_4  Series_title_5  \n0  RTS total industries            NaN             NaN             NaN  \n1  RTS total industries            NaN             NaN             NaN  \n2  RTS total industries            NaN             NaN             NaN  \n3  RTS total industries            NaN             NaN             NaN  \n4  RTS total industries            NaN             NaN             NaN  \n5  RTS total industries            NaN             NaN             NaN  \n6  RTS total industries            NaN             NaN             NaN  \n7  RTS total industries            NaN             NaN             NaN  \n8  RTS total industries            NaN             NaN             NaN  \n9  RTS total industries            NaN             NaN             NaN  ",
            "text/html": "<div>\n<style scoped>\n    .dataframe tbody tr th:only-of-type {\n        vertical-align: middle;\n    }\n\n    .dataframe tbody tr th {\n        vertical-align: top;\n    }\n\n    .dataframe thead th {\n        text-align: right;\n    }\n</style>\n<table border=\"1\" class=\"dataframe\">\n  <thead>\n    <tr style=\"text-align: right;\">\n      <th></th>\n      <th>Series_reference</th>\n      <th>Period</th>\n      <th>Data_value</th>\n      <th>Suppressed</th>\n      <th>STATUS</th>\n      <th>UNITS</th>\n      <th>mainMagnitude</th>\n      <th>mainSubject</th>\n      <th>Group</th>\n      <th>Series_title_1</th>\n      <th>Series_title_2</th>\n      <th>Series_title_3</th>\n      <th>Series_title_4</th>\n      <th>Series_title_5</th>\n    </tr>\n  </thead>\n  <tbody>\n    <tr>\n      <th>0</th>\n      <td>ECTA.S19A1</td>\n      <td>2001.03</td>\n      <td>2462.5</td>\n      <td>NaN</td>\n      <td>F</td>\n      <td>Dollars</td>\n      <td>6</td>\n      <td>Electronic Card Transactions (ANZSIC06) - ECT</td>\n      <td>Total values - Electronic card transactions A/...</td>\n      <td>Actual</td>\n      <td>RTS total industries</td>\n      <td>NaN</td>\n      <td>NaN</td>\n      <td>NaN</td>\n    </tr>\n    <tr>\n      <th>1</th>\n      <td>ECTA.S19A1</td>\n      <td>2002.03</td>\n      <td>17177.2</td>\n      <td>NaN</td>\n      <td>F</td>\n      <td>Dollars</td>\n      <td>6</td>\n      <td>Electronic Card Transactions (ANZSIC06) - ECT</td>\n      <td>Total values - Electronic card transactions A/...</td>\n      <td>Actual</td>\n      <td>RTS total industries</td>\n      <td>NaN</td>\n      <td>NaN</td>\n      <td>NaN</td>\n    </tr>\n    <tr>\n      <th>2</th>\n      <td>ECTA.S19A1</td>\n      <td>2003.03</td>\n      <td>22530.5</td>\n      <td>NaN</td>\n      <td>F</td>\n      <td>Dollars</td>\n      <td>6</td>\n      <td>Electronic Card Transactions (ANZSIC06) - ECT</td>\n      <td>Total values - Electronic card transactions A/...</td>\n      <td>Actual</td>\n      <td>RTS total industries</td>\n      <td>NaN</td>\n      <td>NaN</td>\n      <td>NaN</td>\n    </tr>\n    <tr>\n      <th>3</th>\n      <td>ECTA.S19A1</td>\n      <td>2004.03</td>\n      <td>28005.1</td>\n      <td>NaN</td>\n      <td>F</td>\n      <td>Dollars</td>\n      <td>6</td>\n      <td>Electronic Card Transactions (ANZSIC06) - ECT</td>\n      <td>Total values - Electronic card transactions A/...</td>\n      <td>Actual</td>\n      <td>RTS total industries</td>\n      <td>NaN</td>\n      <td>NaN</td>\n      <td>NaN</td>\n    </tr>\n    <tr>\n      <th>4</th>\n      <td>ECTA.S19A1</td>\n      <td>2005.03</td>\n      <td>30629.6</td>\n      <td>NaN</td>\n      <td>F</td>\n      <td>Dollars</td>\n      <td>6</td>\n      <td>Electronic Card Transactions (ANZSIC06) - ECT</td>\n      <td>Total values - Electronic card transactions A/...</td>\n      <td>Actual</td>\n      <td>RTS total industries</td>\n      <td>NaN</td>\n      <td>NaN</td>\n      <td>NaN</td>\n    </tr>\n    <tr>\n      <th>5</th>\n      <td>ECTA.S19A1</td>\n      <td>2006.03</td>\n      <td>33317.4</td>\n      <td>NaN</td>\n      <td>F</td>\n      <td>Dollars</td>\n      <td>6</td>\n      <td>Electronic Card Transactions (ANZSIC06) - ECT</td>\n      <td>Total values - Electronic card transactions A/...</td>\n      <td>Actual</td>\n      <td>RTS total industries</td>\n      <td>NaN</td>\n      <td>NaN</td>\n      <td>NaN</td>\n    </tr>\n    <tr>\n      <th>6</th>\n      <td>ECTA.S19A1</td>\n      <td>2007.03</td>\n      <td>36422.0</td>\n      <td>NaN</td>\n      <td>F</td>\n      <td>Dollars</td>\n      <td>6</td>\n      <td>Electronic Card Transactions (ANZSIC06) - ECT</td>\n      <td>Total values - Electronic card transactions A/...</td>\n      <td>Actual</td>\n      <td>RTS total industries</td>\n      <td>NaN</td>\n      <td>NaN</td>\n      <td>NaN</td>\n    </tr>\n    <tr>\n      <th>7</th>\n      <td>ECTA.S19A1</td>\n      <td>2008.03</td>\n      <td>39198.0</td>\n      <td>NaN</td>\n      <td>F</td>\n      <td>Dollars</td>\n      <td>6</td>\n      <td>Electronic Card Transactions (ANZSIC06) - ECT</td>\n      <td>Total values - Electronic card transactions A/...</td>\n      <td>Actual</td>\n      <td>RTS total industries</td>\n      <td>NaN</td>\n      <td>NaN</td>\n      <td>NaN</td>\n    </tr>\n    <tr>\n      <th>8</th>\n      <td>ECTA.S19A1</td>\n      <td>2009.03</td>\n      <td>40629.4</td>\n      <td>NaN</td>\n      <td>F</td>\n      <td>Dollars</td>\n      <td>6</td>\n      <td>Electronic Card Transactions (ANZSIC06) - ECT</td>\n      <td>Total values - Electronic card transactions A/...</td>\n      <td>Actual</td>\n      <td>RTS total industries</td>\n      <td>NaN</td>\n      <td>NaN</td>\n      <td>NaN</td>\n    </tr>\n    <tr>\n      <th>9</th>\n      <td>ECTA.S19A1</td>\n      <td>2010.03</td>\n      <td>41815.4</td>\n      <td>NaN</td>\n      <td>F</td>\n      <td>Dollars</td>\n      <td>6</td>\n      <td>Electronic Card Transactions (ANZSIC06) - ECT</td>\n      <td>Total values - Electronic card transactions A/...</td>\n      <td>Actual</td>\n      <td>RTS total industries</td>\n      <td>NaN</td>\n      <td>NaN</td>\n      <td>NaN</td>\n    </tr>\n  </tbody>\n</table>\n</div>"
          },
          "metadata": {}
        }
      ],
      "execution_count": 35
    },
    {
      "id": "1a14da41-e8b7-4de2-a150-bd30838cfde6",
      "cell_type": "code",
      "source": "df.tail()",
      "metadata": {
        "trusted": true
      },
      "outputs": [
        {
          "execution_count": 18,
          "output_type": "execute_result",
          "data": {
            "text/plain": "      Series_reference   Period  Data_value  Suppressed STATUS    UNITS  \\\n20792       ECTQ.S4AXP  2023.09        33.2         NaN      F  Percent   \n20793       ECTQ.S4AXP  2023.12        32.7         NaN      F  Percent   \n20794       ECTQ.S4AXP  2024.03        32.1         NaN      F  Percent   \n20795       ECTQ.S4AXP  2024.06        33.3         NaN      F  Percent   \n20796       ECTQ.S4AXP  2024.09        33.4         NaN      F  Percent   \n\n       Magnitude                                        Subject  \\\n20792          0  Electronic Card Transactions (ANZSIC06) - ECT   \n20793          0  Electronic Card Transactions (ANZSIC06) - ECT   \n20794          0  Electronic Card Transactions (ANZSIC06) - ECT   \n20795          0  Electronic Card Transactions (ANZSIC06) - ECT   \n20796          0  Electronic Card Transactions (ANZSIC06) - ECT   \n\n                                                   Group Series_title_1  \\\n20792  Electronic card transactions by mean and propo...         Actual   \n20793  Electronic card transactions by mean and propo...         Actual   \n20794  Electronic card transactions by mean and propo...         Actual   \n20795  Electronic card transactions by mean and propo...         Actual   \n20796  Electronic card transactions by mean and propo...         Actual   \n\n                                          Series_title_2  Series_title_3  \\\n20792  Debit card usage as a proportion of total ECT ...  Proportion (%)   \n20793  Debit card usage as a proportion of total ECT ...  Proportion (%)   \n20794  Debit card usage as a proportion of total ECT ...  Proportion (%)   \n20795  Debit card usage as a proportion of total ECT ...  Proportion (%)   \n20796  Debit card usage as a proportion of total ECT ...  Proportion (%)   \n\n       Series_title_4  Series_title_5  \n20792             NaN             NaN  \n20793             NaN             NaN  \n20794             NaN             NaN  \n20795             NaN             NaN  \n20796             NaN             NaN  ",
            "text/html": "<div>\n<style scoped>\n    .dataframe tbody tr th:only-of-type {\n        vertical-align: middle;\n    }\n\n    .dataframe tbody tr th {\n        vertical-align: top;\n    }\n\n    .dataframe thead th {\n        text-align: right;\n    }\n</style>\n<table border=\"1\" class=\"dataframe\">\n  <thead>\n    <tr style=\"text-align: right;\">\n      <th></th>\n      <th>Series_reference</th>\n      <th>Period</th>\n      <th>Data_value</th>\n      <th>Suppressed</th>\n      <th>STATUS</th>\n      <th>UNITS</th>\n      <th>Magnitude</th>\n      <th>Subject</th>\n      <th>Group</th>\n      <th>Series_title_1</th>\n      <th>Series_title_2</th>\n      <th>Series_title_3</th>\n      <th>Series_title_4</th>\n      <th>Series_title_5</th>\n    </tr>\n  </thead>\n  <tbody>\n    <tr>\n      <th>20792</th>\n      <td>ECTQ.S4AXP</td>\n      <td>2023.09</td>\n      <td>33.2</td>\n      <td>NaN</td>\n      <td>F</td>\n      <td>Percent</td>\n      <td>0</td>\n      <td>Electronic Card Transactions (ANZSIC06) - ECT</td>\n      <td>Electronic card transactions by mean and propo...</td>\n      <td>Actual</td>\n      <td>Debit card usage as a proportion of total ECT ...</td>\n      <td>Proportion (%)</td>\n      <td>NaN</td>\n      <td>NaN</td>\n    </tr>\n    <tr>\n      <th>20793</th>\n      <td>ECTQ.S4AXP</td>\n      <td>2023.12</td>\n      <td>32.7</td>\n      <td>NaN</td>\n      <td>F</td>\n      <td>Percent</td>\n      <td>0</td>\n      <td>Electronic Card Transactions (ANZSIC06) - ECT</td>\n      <td>Electronic card transactions by mean and propo...</td>\n      <td>Actual</td>\n      <td>Debit card usage as a proportion of total ECT ...</td>\n      <td>Proportion (%)</td>\n      <td>NaN</td>\n      <td>NaN</td>\n    </tr>\n    <tr>\n      <th>20794</th>\n      <td>ECTQ.S4AXP</td>\n      <td>2024.03</td>\n      <td>32.1</td>\n      <td>NaN</td>\n      <td>F</td>\n      <td>Percent</td>\n      <td>0</td>\n      <td>Electronic Card Transactions (ANZSIC06) - ECT</td>\n      <td>Electronic card transactions by mean and propo...</td>\n      <td>Actual</td>\n      <td>Debit card usage as a proportion of total ECT ...</td>\n      <td>Proportion (%)</td>\n      <td>NaN</td>\n      <td>NaN</td>\n    </tr>\n    <tr>\n      <th>20795</th>\n      <td>ECTQ.S4AXP</td>\n      <td>2024.06</td>\n      <td>33.3</td>\n      <td>NaN</td>\n      <td>F</td>\n      <td>Percent</td>\n      <td>0</td>\n      <td>Electronic Card Transactions (ANZSIC06) - ECT</td>\n      <td>Electronic card transactions by mean and propo...</td>\n      <td>Actual</td>\n      <td>Debit card usage as a proportion of total ECT ...</td>\n      <td>Proportion (%)</td>\n      <td>NaN</td>\n      <td>NaN</td>\n    </tr>\n    <tr>\n      <th>20796</th>\n      <td>ECTQ.S4AXP</td>\n      <td>2024.09</td>\n      <td>33.4</td>\n      <td>NaN</td>\n      <td>F</td>\n      <td>Percent</td>\n      <td>0</td>\n      <td>Electronic Card Transactions (ANZSIC06) - ECT</td>\n      <td>Electronic card transactions by mean and propo...</td>\n      <td>Actual</td>\n      <td>Debit card usage as a proportion of total ECT ...</td>\n      <td>Proportion (%)</td>\n      <td>NaN</td>\n      <td>NaN</td>\n    </tr>\n  </tbody>\n</table>\n</div>"
          },
          "metadata": {}
        }
      ],
      "execution_count": 18
    },
    {
      "id": "d3753245-dd27-4631-a0e8-458bbc56a67b",
      "cell_type": "code",
      "source": "df.describe()",
      "metadata": {
        "trusted": true
      },
      "outputs": [
        {
          "execution_count": 20,
          "output_type": "execute_result",
          "data": {
            "text/plain": "             Period    Data_value  Suppressed     Magnitude  Series_title_4  \\\ncount  20797.000000  1.967600e+04         0.0  20797.000000             0.0   \nmean    2012.632167  1.615220e+07         NaN      4.217916             NaN   \nstd        6.766113  8.955409e+07         NaN      2.741722             NaN   \nmin     2000.010000 -5.130000e+01         NaN      0.000000             NaN   \n25%     2007.040000  2.024000e+02         NaN      0.000000             NaN   \n50%     2013.010000  1.276900e+03         NaN      6.000000             NaN   \n75%     2018.120000  4.643875e+03         NaN      6.000000             NaN   \nmax     2024.090000  1.982349e+09         NaN      6.000000             NaN   \n\n       Series_title_5  \ncount             0.0  \nmean              NaN  \nstd               NaN  \nmin               NaN  \n25%               NaN  \n50%               NaN  \n75%               NaN  \nmax               NaN  ",
            "text/html": "<div>\n<style scoped>\n    .dataframe tbody tr th:only-of-type {\n        vertical-align: middle;\n    }\n\n    .dataframe tbody tr th {\n        vertical-align: top;\n    }\n\n    .dataframe thead th {\n        text-align: right;\n    }\n</style>\n<table border=\"1\" class=\"dataframe\">\n  <thead>\n    <tr style=\"text-align: right;\">\n      <th></th>\n      <th>Period</th>\n      <th>Data_value</th>\n      <th>Suppressed</th>\n      <th>Magnitude</th>\n      <th>Series_title_4</th>\n      <th>Series_title_5</th>\n    </tr>\n  </thead>\n  <tbody>\n    <tr>\n      <th>count</th>\n      <td>20797.000000</td>\n      <td>1.967600e+04</td>\n      <td>0.0</td>\n      <td>20797.000000</td>\n      <td>0.0</td>\n      <td>0.0</td>\n    </tr>\n    <tr>\n      <th>mean</th>\n      <td>2012.632167</td>\n      <td>1.615220e+07</td>\n      <td>NaN</td>\n      <td>4.217916</td>\n      <td>NaN</td>\n      <td>NaN</td>\n    </tr>\n    <tr>\n      <th>std</th>\n      <td>6.766113</td>\n      <td>8.955409e+07</td>\n      <td>NaN</td>\n      <td>2.741722</td>\n      <td>NaN</td>\n      <td>NaN</td>\n    </tr>\n    <tr>\n      <th>min</th>\n      <td>2000.010000</td>\n      <td>-5.130000e+01</td>\n      <td>NaN</td>\n      <td>0.000000</td>\n      <td>NaN</td>\n      <td>NaN</td>\n    </tr>\n    <tr>\n      <th>25%</th>\n      <td>2007.040000</td>\n      <td>2.024000e+02</td>\n      <td>NaN</td>\n      <td>0.000000</td>\n      <td>NaN</td>\n      <td>NaN</td>\n    </tr>\n    <tr>\n      <th>50%</th>\n      <td>2013.010000</td>\n      <td>1.276900e+03</td>\n      <td>NaN</td>\n      <td>6.000000</td>\n      <td>NaN</td>\n      <td>NaN</td>\n    </tr>\n    <tr>\n      <th>75%</th>\n      <td>2018.120000</td>\n      <td>4.643875e+03</td>\n      <td>NaN</td>\n      <td>6.000000</td>\n      <td>NaN</td>\n      <td>NaN</td>\n    </tr>\n    <tr>\n      <th>max</th>\n      <td>2024.090000</td>\n      <td>1.982349e+09</td>\n      <td>NaN</td>\n      <td>6.000000</td>\n      <td>NaN</td>\n      <td>NaN</td>\n    </tr>\n  </tbody>\n</table>\n</div>"
          },
          "metadata": {}
        }
      ],
      "execution_count": 20
    },
    {
      "id": "261982d5-8360-4b6a-8c85-69adb325992f",
      "cell_type": "code",
      "source": "df.describe(percentiles=[0.3, 0.5, 0.7])",
      "metadata": {
        "trusted": true
      },
      "outputs": [
        {
          "execution_count": 21,
          "output_type": "execute_result",
          "data": {
            "text/plain": "             Period    Data_value  Suppressed     Magnitude  Series_title_4  \\\ncount  20797.000000  1.967600e+04         0.0  20797.000000             0.0   \nmean    2012.632167  1.615220e+07         NaN      4.217916             NaN   \nstd        6.766113  8.955409e+07         NaN      2.741722             NaN   \nmin     2000.010000 -5.130000e+01         NaN      0.000000             NaN   \n30%     2008.060000  3.075000e+02         NaN      6.000000             NaN   \n50%     2013.010000  1.276900e+03         NaN      6.000000             NaN   \n70%     2017.090000  3.511400e+03         NaN      6.000000             NaN   \nmax     2024.090000  1.982349e+09         NaN      6.000000             NaN   \n\n       Series_title_5  \ncount             0.0  \nmean              NaN  \nstd               NaN  \nmin               NaN  \n30%               NaN  \n50%               NaN  \n70%               NaN  \nmax               NaN  ",
            "text/html": "<div>\n<style scoped>\n    .dataframe tbody tr th:only-of-type {\n        vertical-align: middle;\n    }\n\n    .dataframe tbody tr th {\n        vertical-align: top;\n    }\n\n    .dataframe thead th {\n        text-align: right;\n    }\n</style>\n<table border=\"1\" class=\"dataframe\">\n  <thead>\n    <tr style=\"text-align: right;\">\n      <th></th>\n      <th>Period</th>\n      <th>Data_value</th>\n      <th>Suppressed</th>\n      <th>Magnitude</th>\n      <th>Series_title_4</th>\n      <th>Series_title_5</th>\n    </tr>\n  </thead>\n  <tbody>\n    <tr>\n      <th>count</th>\n      <td>20797.000000</td>\n      <td>1.967600e+04</td>\n      <td>0.0</td>\n      <td>20797.000000</td>\n      <td>0.0</td>\n      <td>0.0</td>\n    </tr>\n    <tr>\n      <th>mean</th>\n      <td>2012.632167</td>\n      <td>1.615220e+07</td>\n      <td>NaN</td>\n      <td>4.217916</td>\n      <td>NaN</td>\n      <td>NaN</td>\n    </tr>\n    <tr>\n      <th>std</th>\n      <td>6.766113</td>\n      <td>8.955409e+07</td>\n      <td>NaN</td>\n      <td>2.741722</td>\n      <td>NaN</td>\n      <td>NaN</td>\n    </tr>\n    <tr>\n      <th>min</th>\n      <td>2000.010000</td>\n      <td>-5.130000e+01</td>\n      <td>NaN</td>\n      <td>0.000000</td>\n      <td>NaN</td>\n      <td>NaN</td>\n    </tr>\n    <tr>\n      <th>30%</th>\n      <td>2008.060000</td>\n      <td>3.075000e+02</td>\n      <td>NaN</td>\n      <td>6.000000</td>\n      <td>NaN</td>\n      <td>NaN</td>\n    </tr>\n    <tr>\n      <th>50%</th>\n      <td>2013.010000</td>\n      <td>1.276900e+03</td>\n      <td>NaN</td>\n      <td>6.000000</td>\n      <td>NaN</td>\n      <td>NaN</td>\n    </tr>\n    <tr>\n      <th>70%</th>\n      <td>2017.090000</td>\n      <td>3.511400e+03</td>\n      <td>NaN</td>\n      <td>6.000000</td>\n      <td>NaN</td>\n      <td>NaN</td>\n    </tr>\n    <tr>\n      <th>max</th>\n      <td>2024.090000</td>\n      <td>1.982349e+09</td>\n      <td>NaN</td>\n      <td>6.000000</td>\n      <td>NaN</td>\n      <td>NaN</td>\n    </tr>\n  </tbody>\n</table>\n</div>"
          },
          "metadata": {}
        }
      ],
      "execution_count": 21
    },
    {
      "id": "198408e6-3e19-4b9f-b7cb-19064c425920",
      "cell_type": "code",
      "source": "df.info",
      "metadata": {
        "trusted": true
      },
      "outputs": [
        {
          "execution_count": 22,
          "output_type": "execute_result",
          "data": {
            "text/plain": "<bound method DataFrame.info of       Series_reference   Period  Data_value  Suppressed STATUS    UNITS  \\\n0           ECTA.S19A1  2001.03      2462.5         NaN      F  Dollars   \n1           ECTA.S19A1  2002.03     17177.2         NaN      F  Dollars   \n2           ECTA.S19A1  2003.03     22530.5         NaN      F  Dollars   \n3           ECTA.S19A1  2004.03     28005.1         NaN      F  Dollars   \n4           ECTA.S19A1  2005.03     30629.6         NaN      F  Dollars   \n...                ...      ...         ...         ...    ...      ...   \n20792       ECTQ.S4AXP  2023.09        33.2         NaN      F  Percent   \n20793       ECTQ.S4AXP  2023.12        32.7         NaN      F  Percent   \n20794       ECTQ.S4AXP  2024.03        32.1         NaN      F  Percent   \n20795       ECTQ.S4AXP  2024.06        33.3         NaN      F  Percent   \n20796       ECTQ.S4AXP  2024.09        33.4         NaN      F  Percent   \n\n       Magnitude                                        Subject  \\\n0              6  Electronic Card Transactions (ANZSIC06) - ECT   \n1              6  Electronic Card Transactions (ANZSIC06) - ECT   \n2              6  Electronic Card Transactions (ANZSIC06) - ECT   \n3              6  Electronic Card Transactions (ANZSIC06) - ECT   \n4              6  Electronic Card Transactions (ANZSIC06) - ECT   \n...          ...                                            ...   \n20792          0  Electronic Card Transactions (ANZSIC06) - ECT   \n20793          0  Electronic Card Transactions (ANZSIC06) - ECT   \n20794          0  Electronic Card Transactions (ANZSIC06) - ECT   \n20795          0  Electronic Card Transactions (ANZSIC06) - ECT   \n20796          0  Electronic Card Transactions (ANZSIC06) - ECT   \n\n                                                   Group Series_title_1  \\\n0      Total values - Electronic card transactions A/...         Actual   \n1      Total values - Electronic card transactions A/...         Actual   \n2      Total values - Electronic card transactions A/...         Actual   \n3      Total values - Electronic card transactions A/...         Actual   \n4      Total values - Electronic card transactions A/...         Actual   \n...                                                  ...            ...   \n20792  Electronic card transactions by mean and propo...         Actual   \n20793  Electronic card transactions by mean and propo...         Actual   \n20794  Electronic card transactions by mean and propo...         Actual   \n20795  Electronic card transactions by mean and propo...         Actual   \n20796  Electronic card transactions by mean and propo...         Actual   \n\n                                          Series_title_2  Series_title_3  \\\n0                                   RTS total industries             NaN   \n1                                   RTS total industries             NaN   \n2                                   RTS total industries             NaN   \n3                                   RTS total industries             NaN   \n4                                   RTS total industries             NaN   \n...                                                  ...             ...   \n20792  Debit card usage as a proportion of total ECT ...  Proportion (%)   \n20793  Debit card usage as a proportion of total ECT ...  Proportion (%)   \n20794  Debit card usage as a proportion of total ECT ...  Proportion (%)   \n20795  Debit card usage as a proportion of total ECT ...  Proportion (%)   \n20796  Debit card usage as a proportion of total ECT ...  Proportion (%)   \n\n       Series_title_4  Series_title_5  \n0                 NaN             NaN  \n1                 NaN             NaN  \n2                 NaN             NaN  \n3                 NaN             NaN  \n4                 NaN             NaN  \n...               ...             ...  \n20792             NaN             NaN  \n20793             NaN             NaN  \n20794             NaN             NaN  \n20795             NaN             NaN  \n20796             NaN             NaN  \n\n[20797 rows x 14 columns]>"
          },
          "metadata": {}
        }
      ],
      "execution_count": 22
    },
    {
      "id": "eced5513-b0ac-4d7d-a2c3-35f4578eca21",
      "cell_type": "code",
      "source": "df.sort_values(['Period'], ascending=[1])",
      "metadata": {
        "trusted": true,
        "tags": [],
        "editable": true,
        "slideshow": {
          "slide_type": ""
        }
      },
      "outputs": [
        {
          "execution_count": 10,
          "output_type": "execute_result",
          "data": {
            "text/plain": "      Series_reference   Period   Data_value  Suppressed STATUS    UNITS  \\\n14370       ECTM.S4A1V  2000.01          NaN         NaN      C  Dollars   \n13479       ECTM.S29A9  2000.01          NaN         NaN      C   Number   \n15228       ECTM.S4AXP  2000.01          NaN         NaN      C  Percent   \n1156        ECTM.S19A2  2000.01          NaN         NaN      C  Dollars   \n6582        ECTM.S1GA2  2000.01          NaN         NaN      C  Dollars   \n...                ...      ...          ...         ...    ...      ...   \n4694        ECTM.S19SW  2024.09       6096.3         NaN      F  Dollars   \n14072       ECTM.S29AW  2024.09  100550547.0         NaN      F   Number   \n20107       ECTQ.S29AX  2024.09  175498451.0         NaN      F   Number   \n18908       ECTQ.S1GS8  2024.09       6918.6         NaN      F  Dollars   \n20796       ECTQ.S4AXP  2024.09         33.4         NaN      F  Percent   \n\n       Magnitude                                        Subject  \\\n14370          0  Electronic Card Transactions (ANZSIC06) - ECT   \n13479          0  Electronic Card Transactions (ANZSIC06) - ECT   \n15228          0  Electronic Card Transactions (ANZSIC06) - ECT   \n1156           6  Electronic Card Transactions (ANZSIC06) - ECT   \n6582           6  Electronic Card Transactions (ANZSIC06) - ECT   \n...          ...                                            ...   \n4694           6  Electronic Card Transactions (ANZSIC06) - ECT   \n14072          0  Electronic Card Transactions (ANZSIC06) - ECT   \n20107          0  Electronic Card Transactions (ANZSIC06) - ECT   \n18908          6  Electronic Card Transactions (ANZSIC06) - ECT   \n20796          0  Electronic Card Transactions (ANZSIC06) - ECT   \n\n                                                   Group       Series_title_1  \\\n14370  Electronic card transactions by mean and propo...               Actual   \n13479  Number of electronic card transactions A/S/T b...               Actual   \n15228  Electronic card transactions by mean and propo...               Actual   \n1156   Total values - Electronic card transactions A/...               Actual   \n6582   Values - Electronic card transactions A/S/T by...               Actual   \n...                                                  ...                  ...   \n4694   Total values - Electronic card transactions A/...  Seasonally adjusted   \n14072  Number of electronic card transactions A/S/T b...               Actual   \n20107  Number of electronic card transactions A/S/T b...               Actual   \n18908  Values - Electronic card transactions A/S/T by...  Seasonally adjusted   \n20796  Electronic card transactions by mean and propo...               Actual   \n\n                                          Series_title_2  Series_title_3  \\\n14370                             Mean transaction value       Value ($)   \n13479                                              Total             NaN   \n15228  Debit card usage as a proportion of total ECT ...  Proportion (%)   \n1156                                 RTS core industries             NaN   \n6582                                            Durables             NaN   \n...                                                  ...             ...   \n4694                                              Credit             NaN   \n14072                                             Credit             NaN   \n20107                                              Debit             NaN   \n18908                          Non-retail excl. services             NaN   \n20796  Debit card usage as a proportion of total ECT ...  Proportion (%)   \n\n       Series_title_4  Series_title_5  \n14370             NaN             NaN  \n13479             NaN             NaN  \n15228             NaN             NaN  \n1156              NaN             NaN  \n6582              NaN             NaN  \n...               ...             ...  \n4694              NaN             NaN  \n14072             NaN             NaN  \n20107             NaN             NaN  \n18908             NaN             NaN  \n20796             NaN             NaN  \n\n[20797 rows x 14 columns]",
            "text/html": "<div>\n<style scoped>\n    .dataframe tbody tr th:only-of-type {\n        vertical-align: middle;\n    }\n\n    .dataframe tbody tr th {\n        vertical-align: top;\n    }\n\n    .dataframe thead th {\n        text-align: right;\n    }\n</style>\n<table border=\"1\" class=\"dataframe\">\n  <thead>\n    <tr style=\"text-align: right;\">\n      <th></th>\n      <th>Series_reference</th>\n      <th>Period</th>\n      <th>Data_value</th>\n      <th>Suppressed</th>\n      <th>STATUS</th>\n      <th>UNITS</th>\n      <th>Magnitude</th>\n      <th>Subject</th>\n      <th>Group</th>\n      <th>Series_title_1</th>\n      <th>Series_title_2</th>\n      <th>Series_title_3</th>\n      <th>Series_title_4</th>\n      <th>Series_title_5</th>\n    </tr>\n  </thead>\n  <tbody>\n    <tr>\n      <th>14370</th>\n      <td>ECTM.S4A1V</td>\n      <td>2000.01</td>\n      <td>NaN</td>\n      <td>NaN</td>\n      <td>C</td>\n      <td>Dollars</td>\n      <td>0</td>\n      <td>Electronic Card Transactions (ANZSIC06) - ECT</td>\n      <td>Electronic card transactions by mean and propo...</td>\n      <td>Actual</td>\n      <td>Mean transaction value</td>\n      <td>Value ($)</td>\n      <td>NaN</td>\n      <td>NaN</td>\n    </tr>\n    <tr>\n      <th>13479</th>\n      <td>ECTM.S29A9</td>\n      <td>2000.01</td>\n      <td>NaN</td>\n      <td>NaN</td>\n      <td>C</td>\n      <td>Number</td>\n      <td>0</td>\n      <td>Electronic Card Transactions (ANZSIC06) - ECT</td>\n      <td>Number of electronic card transactions A/S/T b...</td>\n      <td>Actual</td>\n      <td>Total</td>\n      <td>NaN</td>\n      <td>NaN</td>\n      <td>NaN</td>\n    </tr>\n    <tr>\n      <th>15228</th>\n      <td>ECTM.S4AXP</td>\n      <td>2000.01</td>\n      <td>NaN</td>\n      <td>NaN</td>\n      <td>C</td>\n      <td>Percent</td>\n      <td>0</td>\n      <td>Electronic Card Transactions (ANZSIC06) - ECT</td>\n      <td>Electronic card transactions by mean and propo...</td>\n      <td>Actual</td>\n      <td>Debit card usage as a proportion of total ECT ...</td>\n      <td>Proportion (%)</td>\n      <td>NaN</td>\n      <td>NaN</td>\n    </tr>\n    <tr>\n      <th>1156</th>\n      <td>ECTM.S19A2</td>\n      <td>2000.01</td>\n      <td>NaN</td>\n      <td>NaN</td>\n      <td>C</td>\n      <td>Dollars</td>\n      <td>6</td>\n      <td>Electronic Card Transactions (ANZSIC06) - ECT</td>\n      <td>Total values - Electronic card transactions A/...</td>\n      <td>Actual</td>\n      <td>RTS core industries</td>\n      <td>NaN</td>\n      <td>NaN</td>\n      <td>NaN</td>\n    </tr>\n    <tr>\n      <th>6582</th>\n      <td>ECTM.S1GA2</td>\n      <td>2000.01</td>\n      <td>NaN</td>\n      <td>NaN</td>\n      <td>C</td>\n      <td>Dollars</td>\n      <td>6</td>\n      <td>Electronic Card Transactions (ANZSIC06) - ECT</td>\n      <td>Values - Electronic card transactions A/S/T by...</td>\n      <td>Actual</td>\n      <td>Durables</td>\n      <td>NaN</td>\n      <td>NaN</td>\n      <td>NaN</td>\n    </tr>\n    <tr>\n      <th>...</th>\n      <td>...</td>\n      <td>...</td>\n      <td>...</td>\n      <td>...</td>\n      <td>...</td>\n      <td>...</td>\n      <td>...</td>\n      <td>...</td>\n      <td>...</td>\n      <td>...</td>\n      <td>...</td>\n      <td>...</td>\n      <td>...</td>\n      <td>...</td>\n    </tr>\n    <tr>\n      <th>4694</th>\n      <td>ECTM.S19SW</td>\n      <td>2024.09</td>\n      <td>6096.3</td>\n      <td>NaN</td>\n      <td>F</td>\n      <td>Dollars</td>\n      <td>6</td>\n      <td>Electronic Card Transactions (ANZSIC06) - ECT</td>\n      <td>Total values - Electronic card transactions A/...</td>\n      <td>Seasonally adjusted</td>\n      <td>Credit</td>\n      <td>NaN</td>\n      <td>NaN</td>\n      <td>NaN</td>\n    </tr>\n    <tr>\n      <th>14072</th>\n      <td>ECTM.S29AW</td>\n      <td>2024.09</td>\n      <td>100550547.0</td>\n      <td>NaN</td>\n      <td>F</td>\n      <td>Number</td>\n      <td>0</td>\n      <td>Electronic Card Transactions (ANZSIC06) - ECT</td>\n      <td>Number of electronic card transactions A/S/T b...</td>\n      <td>Actual</td>\n      <td>Credit</td>\n      <td>NaN</td>\n      <td>NaN</td>\n      <td>NaN</td>\n    </tr>\n    <tr>\n      <th>20107</th>\n      <td>ECTQ.S29AX</td>\n      <td>2024.09</td>\n      <td>175498451.0</td>\n      <td>NaN</td>\n      <td>F</td>\n      <td>Number</td>\n      <td>0</td>\n      <td>Electronic Card Transactions (ANZSIC06) - ECT</td>\n      <td>Number of electronic card transactions A/S/T b...</td>\n      <td>Actual</td>\n      <td>Debit</td>\n      <td>NaN</td>\n      <td>NaN</td>\n      <td>NaN</td>\n    </tr>\n    <tr>\n      <th>18908</th>\n      <td>ECTQ.S1GS8</td>\n      <td>2024.09</td>\n      <td>6918.6</td>\n      <td>NaN</td>\n      <td>F</td>\n      <td>Dollars</td>\n      <td>6</td>\n      <td>Electronic Card Transactions (ANZSIC06) - ECT</td>\n      <td>Values - Electronic card transactions A/S/T by...</td>\n      <td>Seasonally adjusted</td>\n      <td>Non-retail excl. services</td>\n      <td>NaN</td>\n      <td>NaN</td>\n      <td>NaN</td>\n    </tr>\n    <tr>\n      <th>20796</th>\n      <td>ECTQ.S4AXP</td>\n      <td>2024.09</td>\n      <td>33.4</td>\n      <td>NaN</td>\n      <td>F</td>\n      <td>Percent</td>\n      <td>0</td>\n      <td>Electronic Card Transactions (ANZSIC06) - ECT</td>\n      <td>Electronic card transactions by mean and propo...</td>\n      <td>Actual</td>\n      <td>Debit card usage as a proportion of total ECT ...</td>\n      <td>Proportion (%)</td>\n      <td>NaN</td>\n      <td>NaN</td>\n    </tr>\n  </tbody>\n</table>\n<p>20797 rows × 14 columns</p>\n</div>"
          },
          "metadata": {}
        }
      ],
      "execution_count": 10
    },
    {
      "id": "dca71ada-da78-43eb-a381-3a53d0fd8a98",
      "cell_type": "code",
      "source": "df.shape",
      "metadata": {
        "trusted": true
      },
      "outputs": [
        {
          "execution_count": 23,
          "output_type": "execute_result",
          "data": {
            "text/plain": "(20797, 14)"
          },
          "metadata": {}
        }
      ],
      "execution_count": 23
    },
    {
      "id": "52724574-820b-459c-9e9d-c27edcc9fdd4",
      "cell_type": "code",
      "source": "df[['Period', 'Suppressed', 'STATUS', 'Group']]",
      "metadata": {
        "trusted": true
      },
      "outputs": [
        {
          "execution_count": 24,
          "output_type": "execute_result",
          "data": {
            "text/plain": "        Period  Suppressed STATUS  \\\n0      2001.03         NaN      F   \n1      2002.03         NaN      F   \n2      2003.03         NaN      F   \n3      2004.03         NaN      F   \n4      2005.03         NaN      F   \n...        ...         ...    ...   \n20792  2023.09         NaN      F   \n20793  2023.12         NaN      F   \n20794  2024.03         NaN      F   \n20795  2024.06         NaN      F   \n20796  2024.09         NaN      F   \n\n                                                   Group  \n0      Total values - Electronic card transactions A/...  \n1      Total values - Electronic card transactions A/...  \n2      Total values - Electronic card transactions A/...  \n3      Total values - Electronic card transactions A/...  \n4      Total values - Electronic card transactions A/...  \n...                                                  ...  \n20792  Electronic card transactions by mean and propo...  \n20793  Electronic card transactions by mean and propo...  \n20794  Electronic card transactions by mean and propo...  \n20795  Electronic card transactions by mean and propo...  \n20796  Electronic card transactions by mean and propo...  \n\n[20797 rows x 4 columns]",
            "text/html": "<div>\n<style scoped>\n    .dataframe tbody tr th:only-of-type {\n        vertical-align: middle;\n    }\n\n    .dataframe tbody tr th {\n        vertical-align: top;\n    }\n\n    .dataframe thead th {\n        text-align: right;\n    }\n</style>\n<table border=\"1\" class=\"dataframe\">\n  <thead>\n    <tr style=\"text-align: right;\">\n      <th></th>\n      <th>Period</th>\n      <th>Suppressed</th>\n      <th>STATUS</th>\n      <th>Group</th>\n    </tr>\n  </thead>\n  <tbody>\n    <tr>\n      <th>0</th>\n      <td>2001.03</td>\n      <td>NaN</td>\n      <td>F</td>\n      <td>Total values - Electronic card transactions A/...</td>\n    </tr>\n    <tr>\n      <th>1</th>\n      <td>2002.03</td>\n      <td>NaN</td>\n      <td>F</td>\n      <td>Total values - Electronic card transactions A/...</td>\n    </tr>\n    <tr>\n      <th>2</th>\n      <td>2003.03</td>\n      <td>NaN</td>\n      <td>F</td>\n      <td>Total values - Electronic card transactions A/...</td>\n    </tr>\n    <tr>\n      <th>3</th>\n      <td>2004.03</td>\n      <td>NaN</td>\n      <td>F</td>\n      <td>Total values - Electronic card transactions A/...</td>\n    </tr>\n    <tr>\n      <th>4</th>\n      <td>2005.03</td>\n      <td>NaN</td>\n      <td>F</td>\n      <td>Total values - Electronic card transactions A/...</td>\n    </tr>\n    <tr>\n      <th>...</th>\n      <td>...</td>\n      <td>...</td>\n      <td>...</td>\n      <td>...</td>\n    </tr>\n    <tr>\n      <th>20792</th>\n      <td>2023.09</td>\n      <td>NaN</td>\n      <td>F</td>\n      <td>Electronic card transactions by mean and propo...</td>\n    </tr>\n    <tr>\n      <th>20793</th>\n      <td>2023.12</td>\n      <td>NaN</td>\n      <td>F</td>\n      <td>Electronic card transactions by mean and propo...</td>\n    </tr>\n    <tr>\n      <th>20794</th>\n      <td>2024.03</td>\n      <td>NaN</td>\n      <td>F</td>\n      <td>Electronic card transactions by mean and propo...</td>\n    </tr>\n    <tr>\n      <th>20795</th>\n      <td>2024.06</td>\n      <td>NaN</td>\n      <td>F</td>\n      <td>Electronic card transactions by mean and propo...</td>\n    </tr>\n    <tr>\n      <th>20796</th>\n      <td>2024.09</td>\n      <td>NaN</td>\n      <td>F</td>\n      <td>Electronic card transactions by mean and propo...</td>\n    </tr>\n  </tbody>\n</table>\n<p>20797 rows × 4 columns</p>\n</div>"
          },
          "metadata": {}
        }
      ],
      "execution_count": 24
    },
    {
      "id": "0d8e1b5e-5132-495a-915b-2b7c68ebb195",
      "cell_type": "code",
      "source": "df[df.index==1]",
      "metadata": {
        "trusted": true
      },
      "outputs": [
        {
          "execution_count": 25,
          "output_type": "execute_result",
          "data": {
            "text/plain": "  Series_reference   Period  Data_value  Suppressed STATUS    UNITS  \\\n1       ECTA.S19A1  2002.03     17177.2         NaN      F  Dollars   \n\n   Magnitude                                        Subject  \\\n1          6  Electronic Card Transactions (ANZSIC06) - ECT   \n\n                                               Group Series_title_1  \\\n1  Total values - Electronic card transactions A/...         Actual   \n\n         Series_title_2 Series_title_3  Series_title_4  Series_title_5  \n1  RTS total industries            NaN             NaN             NaN  ",
            "text/html": "<div>\n<style scoped>\n    .dataframe tbody tr th:only-of-type {\n        vertical-align: middle;\n    }\n\n    .dataframe tbody tr th {\n        vertical-align: top;\n    }\n\n    .dataframe thead th {\n        text-align: right;\n    }\n</style>\n<table border=\"1\" class=\"dataframe\">\n  <thead>\n    <tr style=\"text-align: right;\">\n      <th></th>\n      <th>Series_reference</th>\n      <th>Period</th>\n      <th>Data_value</th>\n      <th>Suppressed</th>\n      <th>STATUS</th>\n      <th>UNITS</th>\n      <th>Magnitude</th>\n      <th>Subject</th>\n      <th>Group</th>\n      <th>Series_title_1</th>\n      <th>Series_title_2</th>\n      <th>Series_title_3</th>\n      <th>Series_title_4</th>\n      <th>Series_title_5</th>\n    </tr>\n  </thead>\n  <tbody>\n    <tr>\n      <th>1</th>\n      <td>ECTA.S19A1</td>\n      <td>2002.03</td>\n      <td>17177.2</td>\n      <td>NaN</td>\n      <td>F</td>\n      <td>Dollars</td>\n      <td>6</td>\n      <td>Electronic Card Transactions (ANZSIC06) - ECT</td>\n      <td>Total values - Electronic card transactions A/...</td>\n      <td>Actual</td>\n      <td>RTS total industries</td>\n      <td>NaN</td>\n      <td>NaN</td>\n      <td>NaN</td>\n    </tr>\n  </tbody>\n</table>\n</div>"
          },
          "metadata": {}
        }
      ],
      "execution_count": 25
    },
    {
      "id": "b26e7e8e-8280-4c58-9196-0fc077a5fcac",
      "cell_type": "code",
      "source": "df.loc[100:110]",
      "metadata": {
        "trusted": true
      },
      "outputs": [
        {
          "execution_count": 26,
          "output_type": "execute_result",
          "data": {
            "text/plain": "    Series_reference   Period  Data_value  Suppressed STATUS    UNITS  \\\n100       ECTA.S19AX  2005.03     22274.9         NaN      F  Dollars   \n101       ECTA.S19AX  2006.03     24093.1         NaN      F  Dollars   \n102       ECTA.S19AX  2007.03     26344.6         NaN      F  Dollars   \n103       ECTA.S19AX  2008.03     28686.8         NaN      F  Dollars   \n104       ECTA.S19AX  2009.03     30094.4         NaN      F  Dollars   \n105       ECTA.S19AX  2010.03     31841.8         NaN      F  Dollars   \n106       ECTA.S19AX  2011.03     33773.3         NaN      F  Dollars   \n107       ECTA.S19AX  2012.03     36203.5         NaN      F  Dollars   \n108       ECTA.S19AX  2013.03     37792.0         NaN      F  Dollars   \n109       ECTA.S19AX  2014.03     39407.1         NaN      F  Dollars   \n110       ECTA.S19AX  2015.03     40712.5         NaN      F  Dollars   \n\n     Magnitude                                        Subject  \\\n100          6  Electronic Card Transactions (ANZSIC06) - ECT   \n101          6  Electronic Card Transactions (ANZSIC06) - ECT   \n102          6  Electronic Card Transactions (ANZSIC06) - ECT   \n103          6  Electronic Card Transactions (ANZSIC06) - ECT   \n104          6  Electronic Card Transactions (ANZSIC06) - ECT   \n105          6  Electronic Card Transactions (ANZSIC06) - ECT   \n106          6  Electronic Card Transactions (ANZSIC06) - ECT   \n107          6  Electronic Card Transactions (ANZSIC06) - ECT   \n108          6  Electronic Card Transactions (ANZSIC06) - ECT   \n109          6  Electronic Card Transactions (ANZSIC06) - ECT   \n110          6  Electronic Card Transactions (ANZSIC06) - ECT   \n\n                                                 Group Series_title_1  \\\n100  Total values - Electronic card transactions A/...         Actual   \n101  Total values - Electronic card transactions A/...         Actual   \n102  Total values - Electronic card transactions A/...         Actual   \n103  Total values - Electronic card transactions A/...         Actual   \n104  Total values - Electronic card transactions A/...         Actual   \n105  Total values - Electronic card transactions A/...         Actual   \n106  Total values - Electronic card transactions A/...         Actual   \n107  Total values - Electronic card transactions A/...         Actual   \n108  Total values - Electronic card transactions A/...         Actual   \n109  Total values - Electronic card transactions A/...         Actual   \n110  Total values - Electronic card transactions A/...         Actual   \n\n    Series_title_2 Series_title_3  Series_title_4  Series_title_5  \n100          Debit            NaN             NaN             NaN  \n101          Debit            NaN             NaN             NaN  \n102          Debit            NaN             NaN             NaN  \n103          Debit            NaN             NaN             NaN  \n104          Debit            NaN             NaN             NaN  \n105          Debit            NaN             NaN             NaN  \n106          Debit            NaN             NaN             NaN  \n107          Debit            NaN             NaN             NaN  \n108          Debit            NaN             NaN             NaN  \n109          Debit            NaN             NaN             NaN  \n110          Debit            NaN             NaN             NaN  ",
            "text/html": "<div>\n<style scoped>\n    .dataframe tbody tr th:only-of-type {\n        vertical-align: middle;\n    }\n\n    .dataframe tbody tr th {\n        vertical-align: top;\n    }\n\n    .dataframe thead th {\n        text-align: right;\n    }\n</style>\n<table border=\"1\" class=\"dataframe\">\n  <thead>\n    <tr style=\"text-align: right;\">\n      <th></th>\n      <th>Series_reference</th>\n      <th>Period</th>\n      <th>Data_value</th>\n      <th>Suppressed</th>\n      <th>STATUS</th>\n      <th>UNITS</th>\n      <th>Magnitude</th>\n      <th>Subject</th>\n      <th>Group</th>\n      <th>Series_title_1</th>\n      <th>Series_title_2</th>\n      <th>Series_title_3</th>\n      <th>Series_title_4</th>\n      <th>Series_title_5</th>\n    </tr>\n  </thead>\n  <tbody>\n    <tr>\n      <th>100</th>\n      <td>ECTA.S19AX</td>\n      <td>2005.03</td>\n      <td>22274.9</td>\n      <td>NaN</td>\n      <td>F</td>\n      <td>Dollars</td>\n      <td>6</td>\n      <td>Electronic Card Transactions (ANZSIC06) - ECT</td>\n      <td>Total values - Electronic card transactions A/...</td>\n      <td>Actual</td>\n      <td>Debit</td>\n      <td>NaN</td>\n      <td>NaN</td>\n      <td>NaN</td>\n    </tr>\n    <tr>\n      <th>101</th>\n      <td>ECTA.S19AX</td>\n      <td>2006.03</td>\n      <td>24093.1</td>\n      <td>NaN</td>\n      <td>F</td>\n      <td>Dollars</td>\n      <td>6</td>\n      <td>Electronic Card Transactions (ANZSIC06) - ECT</td>\n      <td>Total values - Electronic card transactions A/...</td>\n      <td>Actual</td>\n      <td>Debit</td>\n      <td>NaN</td>\n      <td>NaN</td>\n      <td>NaN</td>\n    </tr>\n    <tr>\n      <th>102</th>\n      <td>ECTA.S19AX</td>\n      <td>2007.03</td>\n      <td>26344.6</td>\n      <td>NaN</td>\n      <td>F</td>\n      <td>Dollars</td>\n      <td>6</td>\n      <td>Electronic Card Transactions (ANZSIC06) - ECT</td>\n      <td>Total values - Electronic card transactions A/...</td>\n      <td>Actual</td>\n      <td>Debit</td>\n      <td>NaN</td>\n      <td>NaN</td>\n      <td>NaN</td>\n    </tr>\n    <tr>\n      <th>103</th>\n      <td>ECTA.S19AX</td>\n      <td>2008.03</td>\n      <td>28686.8</td>\n      <td>NaN</td>\n      <td>F</td>\n      <td>Dollars</td>\n      <td>6</td>\n      <td>Electronic Card Transactions (ANZSIC06) - ECT</td>\n      <td>Total values - Electronic card transactions A/...</td>\n      <td>Actual</td>\n      <td>Debit</td>\n      <td>NaN</td>\n      <td>NaN</td>\n      <td>NaN</td>\n    </tr>\n    <tr>\n      <th>104</th>\n      <td>ECTA.S19AX</td>\n      <td>2009.03</td>\n      <td>30094.4</td>\n      <td>NaN</td>\n      <td>F</td>\n      <td>Dollars</td>\n      <td>6</td>\n      <td>Electronic Card Transactions (ANZSIC06) - ECT</td>\n      <td>Total values - Electronic card transactions A/...</td>\n      <td>Actual</td>\n      <td>Debit</td>\n      <td>NaN</td>\n      <td>NaN</td>\n      <td>NaN</td>\n    </tr>\n    <tr>\n      <th>105</th>\n      <td>ECTA.S19AX</td>\n      <td>2010.03</td>\n      <td>31841.8</td>\n      <td>NaN</td>\n      <td>F</td>\n      <td>Dollars</td>\n      <td>6</td>\n      <td>Electronic Card Transactions (ANZSIC06) - ECT</td>\n      <td>Total values - Electronic card transactions A/...</td>\n      <td>Actual</td>\n      <td>Debit</td>\n      <td>NaN</td>\n      <td>NaN</td>\n      <td>NaN</td>\n    </tr>\n    <tr>\n      <th>106</th>\n      <td>ECTA.S19AX</td>\n      <td>2011.03</td>\n      <td>33773.3</td>\n      <td>NaN</td>\n      <td>F</td>\n      <td>Dollars</td>\n      <td>6</td>\n      <td>Electronic Card Transactions (ANZSIC06) - ECT</td>\n      <td>Total values - Electronic card transactions A/...</td>\n      <td>Actual</td>\n      <td>Debit</td>\n      <td>NaN</td>\n      <td>NaN</td>\n      <td>NaN</td>\n    </tr>\n    <tr>\n      <th>107</th>\n      <td>ECTA.S19AX</td>\n      <td>2012.03</td>\n      <td>36203.5</td>\n      <td>NaN</td>\n      <td>F</td>\n      <td>Dollars</td>\n      <td>6</td>\n      <td>Electronic Card Transactions (ANZSIC06) - ECT</td>\n      <td>Total values - Electronic card transactions A/...</td>\n      <td>Actual</td>\n      <td>Debit</td>\n      <td>NaN</td>\n      <td>NaN</td>\n      <td>NaN</td>\n    </tr>\n    <tr>\n      <th>108</th>\n      <td>ECTA.S19AX</td>\n      <td>2013.03</td>\n      <td>37792.0</td>\n      <td>NaN</td>\n      <td>F</td>\n      <td>Dollars</td>\n      <td>6</td>\n      <td>Electronic Card Transactions (ANZSIC06) - ECT</td>\n      <td>Total values - Electronic card transactions A/...</td>\n      <td>Actual</td>\n      <td>Debit</td>\n      <td>NaN</td>\n      <td>NaN</td>\n      <td>NaN</td>\n    </tr>\n    <tr>\n      <th>109</th>\n      <td>ECTA.S19AX</td>\n      <td>2014.03</td>\n      <td>39407.1</td>\n      <td>NaN</td>\n      <td>F</td>\n      <td>Dollars</td>\n      <td>6</td>\n      <td>Electronic Card Transactions (ANZSIC06) - ECT</td>\n      <td>Total values - Electronic card transactions A/...</td>\n      <td>Actual</td>\n      <td>Debit</td>\n      <td>NaN</td>\n      <td>NaN</td>\n      <td>NaN</td>\n    </tr>\n    <tr>\n      <th>110</th>\n      <td>ECTA.S19AX</td>\n      <td>2015.03</td>\n      <td>40712.5</td>\n      <td>NaN</td>\n      <td>F</td>\n      <td>Dollars</td>\n      <td>6</td>\n      <td>Electronic Card Transactions (ANZSIC06) - ECT</td>\n      <td>Total values - Electronic card transactions A/...</td>\n      <td>Actual</td>\n      <td>Debit</td>\n      <td>NaN</td>\n      <td>NaN</td>\n      <td>NaN</td>\n    </tr>\n  </tbody>\n</table>\n</div>"
          },
          "metadata": {}
        }
      ],
      "execution_count": 26
    },
    {
      "id": "76a78483-148a-419b-9166-db09b9963640",
      "cell_type": "code",
      "source": "df.loc[100:110,['Period', 'Suppressed', 'STATUS', 'Group' ]]",
      "metadata": {
        "trusted": true
      },
      "outputs": [
        {
          "execution_count": 27,
          "output_type": "execute_result",
          "data": {
            "text/plain": "      Period  Suppressed STATUS  \\\n100  2005.03         NaN      F   \n101  2006.03         NaN      F   \n102  2007.03         NaN      F   \n103  2008.03         NaN      F   \n104  2009.03         NaN      F   \n105  2010.03         NaN      F   \n106  2011.03         NaN      F   \n107  2012.03         NaN      F   \n108  2013.03         NaN      F   \n109  2014.03         NaN      F   \n110  2015.03         NaN      F   \n\n                                                 Group  \n100  Total values - Electronic card transactions A/...  \n101  Total values - Electronic card transactions A/...  \n102  Total values - Electronic card transactions A/...  \n103  Total values - Electronic card transactions A/...  \n104  Total values - Electronic card transactions A/...  \n105  Total values - Electronic card transactions A/...  \n106  Total values - Electronic card transactions A/...  \n107  Total values - Electronic card transactions A/...  \n108  Total values - Electronic card transactions A/...  \n109  Total values - Electronic card transactions A/...  \n110  Total values - Electronic card transactions A/...  ",
            "text/html": "<div>\n<style scoped>\n    .dataframe tbody tr th:only-of-type {\n        vertical-align: middle;\n    }\n\n    .dataframe tbody tr th {\n        vertical-align: top;\n    }\n\n    .dataframe thead th {\n        text-align: right;\n    }\n</style>\n<table border=\"1\" class=\"dataframe\">\n  <thead>\n    <tr style=\"text-align: right;\">\n      <th></th>\n      <th>Period</th>\n      <th>Suppressed</th>\n      <th>STATUS</th>\n      <th>Group</th>\n    </tr>\n  </thead>\n  <tbody>\n    <tr>\n      <th>100</th>\n      <td>2005.03</td>\n      <td>NaN</td>\n      <td>F</td>\n      <td>Total values - Electronic card transactions A/...</td>\n    </tr>\n    <tr>\n      <th>101</th>\n      <td>2006.03</td>\n      <td>NaN</td>\n      <td>F</td>\n      <td>Total values - Electronic card transactions A/...</td>\n    </tr>\n    <tr>\n      <th>102</th>\n      <td>2007.03</td>\n      <td>NaN</td>\n      <td>F</td>\n      <td>Total values - Electronic card transactions A/...</td>\n    </tr>\n    <tr>\n      <th>103</th>\n      <td>2008.03</td>\n      <td>NaN</td>\n      <td>F</td>\n      <td>Total values - Electronic card transactions A/...</td>\n    </tr>\n    <tr>\n      <th>104</th>\n      <td>2009.03</td>\n      <td>NaN</td>\n      <td>F</td>\n      <td>Total values - Electronic card transactions A/...</td>\n    </tr>\n    <tr>\n      <th>105</th>\n      <td>2010.03</td>\n      <td>NaN</td>\n      <td>F</td>\n      <td>Total values - Electronic card transactions A/...</td>\n    </tr>\n    <tr>\n      <th>106</th>\n      <td>2011.03</td>\n      <td>NaN</td>\n      <td>F</td>\n      <td>Total values - Electronic card transactions A/...</td>\n    </tr>\n    <tr>\n      <th>107</th>\n      <td>2012.03</td>\n      <td>NaN</td>\n      <td>F</td>\n      <td>Total values - Electronic card transactions A/...</td>\n    </tr>\n    <tr>\n      <th>108</th>\n      <td>2013.03</td>\n      <td>NaN</td>\n      <td>F</td>\n      <td>Total values - Electronic card transactions A/...</td>\n    </tr>\n    <tr>\n      <th>109</th>\n      <td>2014.03</td>\n      <td>NaN</td>\n      <td>F</td>\n      <td>Total values - Electronic card transactions A/...</td>\n    </tr>\n    <tr>\n      <th>110</th>\n      <td>2015.03</td>\n      <td>NaN</td>\n      <td>F</td>\n      <td>Total values - Electronic card transactions A/...</td>\n    </tr>\n  </tbody>\n</table>\n</div>"
          },
          "metadata": {}
        }
      ],
      "execution_count": 27
    },
    {
      "id": "bb1c298e-64fd-470a-80c3-178942a95e64",
      "cell_type": "code",
      "source": "df[df.Period==2003.03]",
      "metadata": {
        "trusted": true
      },
      "outputs": [
        {
          "execution_count": 28,
          "output_type": "execute_result",
          "data": {
            "text/plain": "      Series_reference   Period  Data_value  Suppressed STATUS    UNITS  \\\n2           ECTA.S19A1  2003.03     22530.5         NaN      F  Dollars   \n26          ECTA.S19A2  2003.03         NaN         NaN      C  Dollars   \n50          ECTA.S19A9  2003.03         NaN         NaN      C  Dollars   \n74          ECTA.S19AW  2003.03         NaN         NaN      C  Dollars   \n98          ECTA.S19AX  2003.03         NaN         NaN      C  Dollars   \n...                ...      ...         ...         ...    ...      ...   \n20317       ECTQ.S4A3N  2003.03        37.4         NaN      F   Number   \n20415       ECTQ.S4ACP  2003.03        58.5         NaN      F  Percent   \n20513       ECTQ.S4ARP  2003.03        50.7         NaN      F  Percent   \n20611       ECTQ.S4AWP  2003.03        45.2         NaN      F  Percent   \n20710       ECTQ.S4AXP  2003.03        54.8         NaN      F  Percent   \n\n       Magnitude                                        Subject  \\\n2              6  Electronic Card Transactions (ANZSIC06) - ECT   \n26             6  Electronic Card Transactions (ANZSIC06) - ECT   \n50             6  Electronic Card Transactions (ANZSIC06) - ECT   \n74             6  Electronic Card Transactions (ANZSIC06) - ECT   \n98             6  Electronic Card Transactions (ANZSIC06) - ECT   \n...          ...                                            ...   \n20317          0  Electronic Card Transactions (ANZSIC06) - ECT   \n20415          0  Electronic Card Transactions (ANZSIC06) - ECT   \n20513          0  Electronic Card Transactions (ANZSIC06) - ECT   \n20611          0  Electronic Card Transactions (ANZSIC06) - ECT   \n20710          0  Electronic Card Transactions (ANZSIC06) - ECT   \n\n                                                   Group Series_title_1  \\\n2      Total values - Electronic card transactions A/...         Actual   \n26     Total values - Electronic card transactions A/...         Actual   \n50     Total values - Electronic card transactions A/...         Actual   \n74     Total values - Electronic card transactions A/...         Actual   \n98     Total values - Electronic card transactions A/...         Actual   \n...                                                  ...            ...   \n20317  Electronic card transactions by mean and propo...         Actual   \n20415  Electronic card transactions by mean and propo...         Actual   \n20513  Electronic card transactions by mean and propo...         Actual   \n20611  Electronic card transactions by mean and propo...         Actual   \n20710  Electronic card transactions by mean and propo...         Actual   \n\n                                          Series_title_2  Series_title_3  \\\n2                                   RTS total industries             NaN   \n26                                   RTS core industries             NaN   \n50                                                 Total             NaN   \n74                                                Credit             NaN   \n98                                                 Debit             NaN   \n...                                                  ...             ...   \n20317             Mean number of transactions per person          Number   \n20415  ECT core retail as a proportion of core Retail...  Proportion (%)   \n20513  ECT retail as a proportion of total Retail Tra...  Proportion (%)   \n20611  Credit card usage as a proportion of total ECT...  Proportion (%)   \n20710  Debit card usage as a proportion of total ECT ...  Proportion (%)   \n\n       Series_title_4  Series_title_5  \n2                 NaN             NaN  \n26                NaN             NaN  \n50                NaN             NaN  \n74                NaN             NaN  \n98                NaN             NaN  \n...               ...             ...  \n20317             NaN             NaN  \n20415             NaN             NaN  \n20513             NaN             NaN  \n20611             NaN             NaN  \n20710             NaN             NaN  \n\n[131 rows x 14 columns]",
            "text/html": "<div>\n<style scoped>\n    .dataframe tbody tr th:only-of-type {\n        vertical-align: middle;\n    }\n\n    .dataframe tbody tr th {\n        vertical-align: top;\n    }\n\n    .dataframe thead th {\n        text-align: right;\n    }\n</style>\n<table border=\"1\" class=\"dataframe\">\n  <thead>\n    <tr style=\"text-align: right;\">\n      <th></th>\n      <th>Series_reference</th>\n      <th>Period</th>\n      <th>Data_value</th>\n      <th>Suppressed</th>\n      <th>STATUS</th>\n      <th>UNITS</th>\n      <th>Magnitude</th>\n      <th>Subject</th>\n      <th>Group</th>\n      <th>Series_title_1</th>\n      <th>Series_title_2</th>\n      <th>Series_title_3</th>\n      <th>Series_title_4</th>\n      <th>Series_title_5</th>\n    </tr>\n  </thead>\n  <tbody>\n    <tr>\n      <th>2</th>\n      <td>ECTA.S19A1</td>\n      <td>2003.03</td>\n      <td>22530.5</td>\n      <td>NaN</td>\n      <td>F</td>\n      <td>Dollars</td>\n      <td>6</td>\n      <td>Electronic Card Transactions (ANZSIC06) - ECT</td>\n      <td>Total values - Electronic card transactions A/...</td>\n      <td>Actual</td>\n      <td>RTS total industries</td>\n      <td>NaN</td>\n      <td>NaN</td>\n      <td>NaN</td>\n    </tr>\n    <tr>\n      <th>26</th>\n      <td>ECTA.S19A2</td>\n      <td>2003.03</td>\n      <td>NaN</td>\n      <td>NaN</td>\n      <td>C</td>\n      <td>Dollars</td>\n      <td>6</td>\n      <td>Electronic Card Transactions (ANZSIC06) - ECT</td>\n      <td>Total values - Electronic card transactions A/...</td>\n      <td>Actual</td>\n      <td>RTS core industries</td>\n      <td>NaN</td>\n      <td>NaN</td>\n      <td>NaN</td>\n    </tr>\n    <tr>\n      <th>50</th>\n      <td>ECTA.S19A9</td>\n      <td>2003.03</td>\n      <td>NaN</td>\n      <td>NaN</td>\n      <td>C</td>\n      <td>Dollars</td>\n      <td>6</td>\n      <td>Electronic Card Transactions (ANZSIC06) - ECT</td>\n      <td>Total values - Electronic card transactions A/...</td>\n      <td>Actual</td>\n      <td>Total</td>\n      <td>NaN</td>\n      <td>NaN</td>\n      <td>NaN</td>\n    </tr>\n    <tr>\n      <th>74</th>\n      <td>ECTA.S19AW</td>\n      <td>2003.03</td>\n      <td>NaN</td>\n      <td>NaN</td>\n      <td>C</td>\n      <td>Dollars</td>\n      <td>6</td>\n      <td>Electronic Card Transactions (ANZSIC06) - ECT</td>\n      <td>Total values - Electronic card transactions A/...</td>\n      <td>Actual</td>\n      <td>Credit</td>\n      <td>NaN</td>\n      <td>NaN</td>\n      <td>NaN</td>\n    </tr>\n    <tr>\n      <th>98</th>\n      <td>ECTA.S19AX</td>\n      <td>2003.03</td>\n      <td>NaN</td>\n      <td>NaN</td>\n      <td>C</td>\n      <td>Dollars</td>\n      <td>6</td>\n      <td>Electronic Card Transactions (ANZSIC06) - ECT</td>\n      <td>Total values - Electronic card transactions A/...</td>\n      <td>Actual</td>\n      <td>Debit</td>\n      <td>NaN</td>\n      <td>NaN</td>\n      <td>NaN</td>\n    </tr>\n    <tr>\n      <th>...</th>\n      <td>...</td>\n      <td>...</td>\n      <td>...</td>\n      <td>...</td>\n      <td>...</td>\n      <td>...</td>\n      <td>...</td>\n      <td>...</td>\n      <td>...</td>\n      <td>...</td>\n      <td>...</td>\n      <td>...</td>\n      <td>...</td>\n      <td>...</td>\n    </tr>\n    <tr>\n      <th>20317</th>\n      <td>ECTQ.S4A3N</td>\n      <td>2003.03</td>\n      <td>37.4</td>\n      <td>NaN</td>\n      <td>F</td>\n      <td>Number</td>\n      <td>0</td>\n      <td>Electronic Card Transactions (ANZSIC06) - ECT</td>\n      <td>Electronic card transactions by mean and propo...</td>\n      <td>Actual</td>\n      <td>Mean number of transactions per person</td>\n      <td>Number</td>\n      <td>NaN</td>\n      <td>NaN</td>\n    </tr>\n    <tr>\n      <th>20415</th>\n      <td>ECTQ.S4ACP</td>\n      <td>2003.03</td>\n      <td>58.5</td>\n      <td>NaN</td>\n      <td>F</td>\n      <td>Percent</td>\n      <td>0</td>\n      <td>Electronic Card Transactions (ANZSIC06) - ECT</td>\n      <td>Electronic card transactions by mean and propo...</td>\n      <td>Actual</td>\n      <td>ECT core retail as a proportion of core Retail...</td>\n      <td>Proportion (%)</td>\n      <td>NaN</td>\n      <td>NaN</td>\n    </tr>\n    <tr>\n      <th>20513</th>\n      <td>ECTQ.S4ARP</td>\n      <td>2003.03</td>\n      <td>50.7</td>\n      <td>NaN</td>\n      <td>F</td>\n      <td>Percent</td>\n      <td>0</td>\n      <td>Electronic Card Transactions (ANZSIC06) - ECT</td>\n      <td>Electronic card transactions by mean and propo...</td>\n      <td>Actual</td>\n      <td>ECT retail as a proportion of total Retail Tra...</td>\n      <td>Proportion (%)</td>\n      <td>NaN</td>\n      <td>NaN</td>\n    </tr>\n    <tr>\n      <th>20611</th>\n      <td>ECTQ.S4AWP</td>\n      <td>2003.03</td>\n      <td>45.2</td>\n      <td>NaN</td>\n      <td>F</td>\n      <td>Percent</td>\n      <td>0</td>\n      <td>Electronic Card Transactions (ANZSIC06) - ECT</td>\n      <td>Electronic card transactions by mean and propo...</td>\n      <td>Actual</td>\n      <td>Credit card usage as a proportion of total ECT...</td>\n      <td>Proportion (%)</td>\n      <td>NaN</td>\n      <td>NaN</td>\n    </tr>\n    <tr>\n      <th>20710</th>\n      <td>ECTQ.S4AXP</td>\n      <td>2003.03</td>\n      <td>54.8</td>\n      <td>NaN</td>\n      <td>F</td>\n      <td>Percent</td>\n      <td>0</td>\n      <td>Electronic Card Transactions (ANZSIC06) - ECT</td>\n      <td>Electronic card transactions by mean and propo...</td>\n      <td>Actual</td>\n      <td>Debit card usage as a proportion of total ECT ...</td>\n      <td>Proportion (%)</td>\n      <td>NaN</td>\n      <td>NaN</td>\n    </tr>\n  </tbody>\n</table>\n<p>131 rows × 14 columns</p>\n</div>"
          },
          "metadata": {}
        }
      ],
      "execution_count": 28
    },
    {
      "id": "ad9d9e59-2008-45cc-ae41-b3b08e65bad2",
      "cell_type": "code",
      "source": "df.loc[df.Period==2003.03, ['Subject', 'Group']]",
      "metadata": {
        "trusted": true
      },
      "outputs": [
        {
          "execution_count": 29,
          "output_type": "execute_result",
          "data": {
            "text/plain": "                                             Subject  \\\n2      Electronic Card Transactions (ANZSIC06) - ECT   \n26     Electronic Card Transactions (ANZSIC06) - ECT   \n50     Electronic Card Transactions (ANZSIC06) - ECT   \n74     Electronic Card Transactions (ANZSIC06) - ECT   \n98     Electronic Card Transactions (ANZSIC06) - ECT   \n...                                              ...   \n20317  Electronic Card Transactions (ANZSIC06) - ECT   \n20415  Electronic Card Transactions (ANZSIC06) - ECT   \n20513  Electronic Card Transactions (ANZSIC06) - ECT   \n20611  Electronic Card Transactions (ANZSIC06) - ECT   \n20710  Electronic Card Transactions (ANZSIC06) - ECT   \n\n                                                   Group  \n2      Total values - Electronic card transactions A/...  \n26     Total values - Electronic card transactions A/...  \n50     Total values - Electronic card transactions A/...  \n74     Total values - Electronic card transactions A/...  \n98     Total values - Electronic card transactions A/...  \n...                                                  ...  \n20317  Electronic card transactions by mean and propo...  \n20415  Electronic card transactions by mean and propo...  \n20513  Electronic card transactions by mean and propo...  \n20611  Electronic card transactions by mean and propo...  \n20710  Electronic card transactions by mean and propo...  \n\n[131 rows x 2 columns]",
            "text/html": "<div>\n<style scoped>\n    .dataframe tbody tr th:only-of-type {\n        vertical-align: middle;\n    }\n\n    .dataframe tbody tr th {\n        vertical-align: top;\n    }\n\n    .dataframe thead th {\n        text-align: right;\n    }\n</style>\n<table border=\"1\" class=\"dataframe\">\n  <thead>\n    <tr style=\"text-align: right;\">\n      <th></th>\n      <th>Subject</th>\n      <th>Group</th>\n    </tr>\n  </thead>\n  <tbody>\n    <tr>\n      <th>2</th>\n      <td>Electronic Card Transactions (ANZSIC06) - ECT</td>\n      <td>Total values - Electronic card transactions A/...</td>\n    </tr>\n    <tr>\n      <th>26</th>\n      <td>Electronic Card Transactions (ANZSIC06) - ECT</td>\n      <td>Total values - Electronic card transactions A/...</td>\n    </tr>\n    <tr>\n      <th>50</th>\n      <td>Electronic Card Transactions (ANZSIC06) - ECT</td>\n      <td>Total values - Electronic card transactions A/...</td>\n    </tr>\n    <tr>\n      <th>74</th>\n      <td>Electronic Card Transactions (ANZSIC06) - ECT</td>\n      <td>Total values - Electronic card transactions A/...</td>\n    </tr>\n    <tr>\n      <th>98</th>\n      <td>Electronic Card Transactions (ANZSIC06) - ECT</td>\n      <td>Total values - Electronic card transactions A/...</td>\n    </tr>\n    <tr>\n      <th>...</th>\n      <td>...</td>\n      <td>...</td>\n    </tr>\n    <tr>\n      <th>20317</th>\n      <td>Electronic Card Transactions (ANZSIC06) - ECT</td>\n      <td>Electronic card transactions by mean and propo...</td>\n    </tr>\n    <tr>\n      <th>20415</th>\n      <td>Electronic Card Transactions (ANZSIC06) - ECT</td>\n      <td>Electronic card transactions by mean and propo...</td>\n    </tr>\n    <tr>\n      <th>20513</th>\n      <td>Electronic Card Transactions (ANZSIC06) - ECT</td>\n      <td>Electronic card transactions by mean and propo...</td>\n    </tr>\n    <tr>\n      <th>20611</th>\n      <td>Electronic Card Transactions (ANZSIC06) - ECT</td>\n      <td>Electronic card transactions by mean and propo...</td>\n    </tr>\n    <tr>\n      <th>20710</th>\n      <td>Electronic Card Transactions (ANZSIC06) - ECT</td>\n      <td>Electronic card transactions by mean and propo...</td>\n    </tr>\n  </tbody>\n</table>\n<p>131 rows × 2 columns</p>\n</div>"
          },
          "metadata": {}
        }
      ],
      "execution_count": 29
    },
    {
      "id": "99c4616a-f48f-4c46-98c6-093b59e92404",
      "cell_type": "code",
      "source": "df.rename(columns = {'Subject':'mainSubject'}, inplace = True)\ndf.head()",
      "metadata": {
        "trusted": true
      },
      "outputs": [
        {
          "execution_count": 33,
          "output_type": "execute_result",
          "data": {
            "text/plain": "  Series_reference   Period  Data_value  Suppressed STATUS    UNITS  \\\n0       ECTA.S19A1  2001.03      2462.5         NaN      F  Dollars   \n1       ECTA.S19A1  2002.03     17177.2         NaN      F  Dollars   \n2       ECTA.S19A1  2003.03     22530.5         NaN      F  Dollars   \n3       ECTA.S19A1  2004.03     28005.1         NaN      F  Dollars   \n4       ECTA.S19A1  2005.03     30629.6         NaN      F  Dollars   \n\n   Magnitude                                    mainSubject  \\\n0          6  Electronic Card Transactions (ANZSIC06) - ECT   \n1          6  Electronic Card Transactions (ANZSIC06) - ECT   \n2          6  Electronic Card Transactions (ANZSIC06) - ECT   \n3          6  Electronic Card Transactions (ANZSIC06) - ECT   \n4          6  Electronic Card Transactions (ANZSIC06) - ECT   \n\n                                               Group Series_title_1  \\\n0  Total values - Electronic card transactions A/...         Actual   \n1  Total values - Electronic card transactions A/...         Actual   \n2  Total values - Electronic card transactions A/...         Actual   \n3  Total values - Electronic card transactions A/...         Actual   \n4  Total values - Electronic card transactions A/...         Actual   \n\n         Series_title_2 Series_title_3  Series_title_4  Series_title_5  \n0  RTS total industries            NaN             NaN             NaN  \n1  RTS total industries            NaN             NaN             NaN  \n2  RTS total industries            NaN             NaN             NaN  \n3  RTS total industries            NaN             NaN             NaN  \n4  RTS total industries            NaN             NaN             NaN  ",
            "text/html": "<div>\n<style scoped>\n    .dataframe tbody tr th:only-of-type {\n        vertical-align: middle;\n    }\n\n    .dataframe tbody tr th {\n        vertical-align: top;\n    }\n\n    .dataframe thead th {\n        text-align: right;\n    }\n</style>\n<table border=\"1\" class=\"dataframe\">\n  <thead>\n    <tr style=\"text-align: right;\">\n      <th></th>\n      <th>Series_reference</th>\n      <th>Period</th>\n      <th>Data_value</th>\n      <th>Suppressed</th>\n      <th>STATUS</th>\n      <th>UNITS</th>\n      <th>Magnitude</th>\n      <th>mainSubject</th>\n      <th>Group</th>\n      <th>Series_title_1</th>\n      <th>Series_title_2</th>\n      <th>Series_title_3</th>\n      <th>Series_title_4</th>\n      <th>Series_title_5</th>\n    </tr>\n  </thead>\n  <tbody>\n    <tr>\n      <th>0</th>\n      <td>ECTA.S19A1</td>\n      <td>2001.03</td>\n      <td>2462.5</td>\n      <td>NaN</td>\n      <td>F</td>\n      <td>Dollars</td>\n      <td>6</td>\n      <td>Electronic Card Transactions (ANZSIC06) - ECT</td>\n      <td>Total values - Electronic card transactions A/...</td>\n      <td>Actual</td>\n      <td>RTS total industries</td>\n      <td>NaN</td>\n      <td>NaN</td>\n      <td>NaN</td>\n    </tr>\n    <tr>\n      <th>1</th>\n      <td>ECTA.S19A1</td>\n      <td>2002.03</td>\n      <td>17177.2</td>\n      <td>NaN</td>\n      <td>F</td>\n      <td>Dollars</td>\n      <td>6</td>\n      <td>Electronic Card Transactions (ANZSIC06) - ECT</td>\n      <td>Total values - Electronic card transactions A/...</td>\n      <td>Actual</td>\n      <td>RTS total industries</td>\n      <td>NaN</td>\n      <td>NaN</td>\n      <td>NaN</td>\n    </tr>\n    <tr>\n      <th>2</th>\n      <td>ECTA.S19A1</td>\n      <td>2003.03</td>\n      <td>22530.5</td>\n      <td>NaN</td>\n      <td>F</td>\n      <td>Dollars</td>\n      <td>6</td>\n      <td>Electronic Card Transactions (ANZSIC06) - ECT</td>\n      <td>Total values - Electronic card transactions A/...</td>\n      <td>Actual</td>\n      <td>RTS total industries</td>\n      <td>NaN</td>\n      <td>NaN</td>\n      <td>NaN</td>\n    </tr>\n    <tr>\n      <th>3</th>\n      <td>ECTA.S19A1</td>\n      <td>2004.03</td>\n      <td>28005.1</td>\n      <td>NaN</td>\n      <td>F</td>\n      <td>Dollars</td>\n      <td>6</td>\n      <td>Electronic Card Transactions (ANZSIC06) - ECT</td>\n      <td>Total values - Electronic card transactions A/...</td>\n      <td>Actual</td>\n      <td>RTS total industries</td>\n      <td>NaN</td>\n      <td>NaN</td>\n      <td>NaN</td>\n    </tr>\n    <tr>\n      <th>4</th>\n      <td>ECTA.S19A1</td>\n      <td>2005.03</td>\n      <td>30629.6</td>\n      <td>NaN</td>\n      <td>F</td>\n      <td>Dollars</td>\n      <td>6</td>\n      <td>Electronic Card Transactions (ANZSIC06) - ECT</td>\n      <td>Total values - Electronic card transactions A/...</td>\n      <td>Actual</td>\n      <td>RTS total industries</td>\n      <td>NaN</td>\n      <td>NaN</td>\n      <td>NaN</td>\n    </tr>\n  </tbody>\n</table>\n</div>"
          },
          "metadata": {}
        }
      ],
      "execution_count": 33
    },
    {
      "id": "fbf46175-721d-401a-9db5-8ed325e1a775",
      "cell_type": "code",
      "source": "df.rename(columns = {'Subject':'mainSubject', 'Magnitude': 'mainMagnitude'}, inplace = True)\ndf.head(1)",
      "metadata": {
        "trusted": true
      },
      "outputs": [
        {
          "execution_count": 34,
          "output_type": "execute_result",
          "data": {
            "text/plain": "  Series_reference   Period  Data_value  Suppressed STATUS    UNITS  \\\n0       ECTA.S19A1  2001.03      2462.5         NaN      F  Dollars   \n\n   mainMagnitude                                    mainSubject  \\\n0              6  Electronic Card Transactions (ANZSIC06) - ECT   \n\n                                               Group Series_title_1  \\\n0  Total values - Electronic card transactions A/...         Actual   \n\n         Series_title_2 Series_title_3  Series_title_4  Series_title_5  \n0  RTS total industries            NaN             NaN             NaN  ",
            "text/html": "<div>\n<style scoped>\n    .dataframe tbody tr th:only-of-type {\n        vertical-align: middle;\n    }\n\n    .dataframe tbody tr th {\n        vertical-align: top;\n    }\n\n    .dataframe thead th {\n        text-align: right;\n    }\n</style>\n<table border=\"1\" class=\"dataframe\">\n  <thead>\n    <tr style=\"text-align: right;\">\n      <th></th>\n      <th>Series_reference</th>\n      <th>Period</th>\n      <th>Data_value</th>\n      <th>Suppressed</th>\n      <th>STATUS</th>\n      <th>UNITS</th>\n      <th>mainMagnitude</th>\n      <th>mainSubject</th>\n      <th>Group</th>\n      <th>Series_title_1</th>\n      <th>Series_title_2</th>\n      <th>Series_title_3</th>\n      <th>Series_title_4</th>\n      <th>Series_title_5</th>\n    </tr>\n  </thead>\n  <tbody>\n    <tr>\n      <th>0</th>\n      <td>ECTA.S19A1</td>\n      <td>2001.03</td>\n      <td>2462.5</td>\n      <td>NaN</td>\n      <td>F</td>\n      <td>Dollars</td>\n      <td>6</td>\n      <td>Electronic Card Transactions (ANZSIC06) - ECT</td>\n      <td>Total values - Electronic card transactions A/...</td>\n      <td>Actual</td>\n      <td>RTS total industries</td>\n      <td>NaN</td>\n      <td>NaN</td>\n      <td>NaN</td>\n    </tr>\n  </tbody>\n</table>\n</div>"
          },
          "metadata": {}
        }
      ],
      "execution_count": 34
    },
    {
      "id": "3ce49ecd-7e35-4d58-b8ec-ca820cdb5a64",
      "cell_type": "code",
      "source": "df['Period'].mean()",
      "metadata": {
        "trusted": true
      },
      "outputs": [
        {
          "execution_count": 40,
          "output_type": "execute_result",
          "data": {
            "text/plain": "2012.632167139491"
          },
          "metadata": {}
        }
      ],
      "execution_count": 40
    },
    {
      "id": "2f7dbd8c-1dd5-4b7a-bedc-2d00d1e80019",
      "cell_type": "code",
      "source": "df['Period'].mode()",
      "metadata": {
        "trusted": true
      },
      "outputs": [
        {
          "execution_count": 41,
          "output_type": "execute_result",
          "data": {
            "text/plain": "0    2004.03\n1    2005.03\n2    2006.03\n3    2007.03\n4    2008.03\n5    2009.03\n6    2010.03\nName: Period, dtype: float64"
          },
          "metadata": {}
        }
      ],
      "execution_count": 41
    },
    {
      "id": "5db511b1-01e7-441b-8fb1-e514dee7596c",
      "cell_type": "code",
      "source": "df['Period'].median()",
      "metadata": {
        "trusted": true
      },
      "outputs": [
        {
          "execution_count": 42,
          "output_type": "execute_result",
          "data": {
            "text/plain": "2013.01"
          },
          "metadata": {}
        }
      ],
      "execution_count": 42
    },
    {
      "id": "981a624a-3fa6-4eae-a057-347704043765",
      "cell_type": "code",
      "source": "df['UNITS'].value_counts()",
      "metadata": {
        "trusted": true
      },
      "outputs": [
        {
          "execution_count": 43,
          "output_type": "execute_result",
          "data": {
            "text/plain": "UNITS\nDollars    15164\nPercent     3410\nNumber      2223\nName: count, dtype: int64"
          },
          "metadata": {}
        }
      ],
      "execution_count": 43
    },
    {
      "id": "8cf5adf6-b7c3-47ed-a192-efc10c77f13b",
      "cell_type": "code",
      "source": "df['Data_value'].max()",
      "metadata": {
        "trusted": true
      },
      "outputs": [
        {
          "execution_count": 56,
          "output_type": "execute_result",
          "data": {
            "text/plain": "1982349391.0"
          },
          "metadata": {}
        }
      ],
      "execution_count": 56
    },
    {
      "id": "129fe16e-25e4-406a-b3f0-44c0f846916f",
      "cell_type": "code",
      "source": "df['Data_value'].min()",
      "metadata": {
        "trusted": true
      },
      "outputs": [
        {
          "execution_count": 57,
          "output_type": "execute_result",
          "data": {
            "text/plain": "-51.3"
          },
          "metadata": {}
        }
      ],
      "execution_count": 57
    },
    {
      "id": "90736412-ca1a-4278-91c6-22fc7be8c0ed",
      "cell_type": "code",
      "source": "df['Data_value'].mean()",
      "metadata": {
        "trusted": true
      },
      "outputs": [
        {
          "execution_count": 58,
          "output_type": "execute_result",
          "data": {
            "text/plain": "16152203.087858304"
          },
          "metadata": {}
        }
      ],
      "execution_count": 58
    },
    {
      "id": "d2c17b67-4962-4a16-9d0c-036ec70b17c9",
      "cell_type": "code",
      "source": "df['Data_value'].sum()",
      "metadata": {
        "trusted": true
      },
      "outputs": [
        {
          "execution_count": 59,
          "output_type": "execute_result",
          "data": {
            "text/plain": "317810747956.7"
          },
          "metadata": {}
        }
      ],
      "execution_count": 59
    },
    {
      "id": "2dece0db-64de-484c-835d-e2cf37426aeb",
      "cell_type": "code",
      "source": "df['Data_value'].median()",
      "metadata": {
        "trusted": true
      },
      "outputs": [
        {
          "execution_count": 60,
          "output_type": "execute_result",
          "data": {
            "text/plain": "1276.9"
          },
          "metadata": {}
        }
      ],
      "execution_count": 60
    },
    {
      "id": "bd8af713-846d-4517-aa3b-20b055c21e22",
      "cell_type": "code",
      "source": "pokemon = pd.read_csv('pokemon_data.csv')",
      "metadata": {
        "trusted": true
      },
      "outputs": [],
      "execution_count": 62
    },
    {
      "id": "0f0e68e7-77ad-4d71-a84a-920498adb1b1",
      "cell_type": "code",
      "source": "pokemon",
      "metadata": {
        "trusted": true
      },
      "outputs": [
        {
          "execution_count": 63,
          "output_type": "execute_result",
          "data": {
            "text/plain": "       #                   Name   Type 1  Type 2  HP  Attack  Defense  \\\n0      1              Bulbasaur    Grass  Poison  45      49       49   \n1      2                Ivysaur    Grass  Poison  60      62       63   \n2      3               Venusaur    Grass  Poison  80      82       83   \n3      3  VenusaurMega Venusaur    Grass  Poison  80     100      123   \n4      4             Charmander     Fire     NaN  39      52       43   \n..   ...                    ...      ...     ...  ..     ...      ...   \n795  719                Diancie     Rock   Fairy  50     100      150   \n796  719    DiancieMega Diancie     Rock   Fairy  50     160      110   \n797  720    HoopaHoopa Confined  Psychic   Ghost  80     110       60   \n798  720     HoopaHoopa Unbound  Psychic    Dark  80     160       60   \n799  721              Volcanion     Fire   Water  80     110      120   \n\n     Sp. Atk  Sp. Def  Speed  Generation  Legendary  \n0         65       65     45           1      False  \n1         80       80     60           1      False  \n2        100      100     80           1      False  \n3        122      120     80           1      False  \n4         60       50     65           1      False  \n..       ...      ...    ...         ...        ...  \n795      100      150     50           6       True  \n796      160      110    110           6       True  \n797      150      130     70           6       True  \n798      170      130     80           6       True  \n799      130       90     70           6       True  \n\n[800 rows x 12 columns]",
            "text/html": "<div>\n<style scoped>\n    .dataframe tbody tr th:only-of-type {\n        vertical-align: middle;\n    }\n\n    .dataframe tbody tr th {\n        vertical-align: top;\n    }\n\n    .dataframe thead th {\n        text-align: right;\n    }\n</style>\n<table border=\"1\" class=\"dataframe\">\n  <thead>\n    <tr style=\"text-align: right;\">\n      <th></th>\n      <th>#</th>\n      <th>Name</th>\n      <th>Type 1</th>\n      <th>Type 2</th>\n      <th>HP</th>\n      <th>Attack</th>\n      <th>Defense</th>\n      <th>Sp. Atk</th>\n      <th>Sp. Def</th>\n      <th>Speed</th>\n      <th>Generation</th>\n      <th>Legendary</th>\n    </tr>\n  </thead>\n  <tbody>\n    <tr>\n      <th>0</th>\n      <td>1</td>\n      <td>Bulbasaur</td>\n      <td>Grass</td>\n      <td>Poison</td>\n      <td>45</td>\n      <td>49</td>\n      <td>49</td>\n      <td>65</td>\n      <td>65</td>\n      <td>45</td>\n      <td>1</td>\n      <td>False</td>\n    </tr>\n    <tr>\n      <th>1</th>\n      <td>2</td>\n      <td>Ivysaur</td>\n      <td>Grass</td>\n      <td>Poison</td>\n      <td>60</td>\n      <td>62</td>\n      <td>63</td>\n      <td>80</td>\n      <td>80</td>\n      <td>60</td>\n      <td>1</td>\n      <td>False</td>\n    </tr>\n    <tr>\n      <th>2</th>\n      <td>3</td>\n      <td>Venusaur</td>\n      <td>Grass</td>\n      <td>Poison</td>\n      <td>80</td>\n      <td>82</td>\n      <td>83</td>\n      <td>100</td>\n      <td>100</td>\n      <td>80</td>\n      <td>1</td>\n      <td>False</td>\n    </tr>\n    <tr>\n      <th>3</th>\n      <td>3</td>\n      <td>VenusaurMega Venusaur</td>\n      <td>Grass</td>\n      <td>Poison</td>\n      <td>80</td>\n      <td>100</td>\n      <td>123</td>\n      <td>122</td>\n      <td>120</td>\n      <td>80</td>\n      <td>1</td>\n      <td>False</td>\n    </tr>\n    <tr>\n      <th>4</th>\n      <td>4</td>\n      <td>Charmander</td>\n      <td>Fire</td>\n      <td>NaN</td>\n      <td>39</td>\n      <td>52</td>\n      <td>43</td>\n      <td>60</td>\n      <td>50</td>\n      <td>65</td>\n      <td>1</td>\n      <td>False</td>\n    </tr>\n    <tr>\n      <th>...</th>\n      <td>...</td>\n      <td>...</td>\n      <td>...</td>\n      <td>...</td>\n      <td>...</td>\n      <td>...</td>\n      <td>...</td>\n      <td>...</td>\n      <td>...</td>\n      <td>...</td>\n      <td>...</td>\n      <td>...</td>\n    </tr>\n    <tr>\n      <th>795</th>\n      <td>719</td>\n      <td>Diancie</td>\n      <td>Rock</td>\n      <td>Fairy</td>\n      <td>50</td>\n      <td>100</td>\n      <td>150</td>\n      <td>100</td>\n      <td>150</td>\n      <td>50</td>\n      <td>6</td>\n      <td>True</td>\n    </tr>\n    <tr>\n      <th>796</th>\n      <td>719</td>\n      <td>DiancieMega Diancie</td>\n      <td>Rock</td>\n      <td>Fairy</td>\n      <td>50</td>\n      <td>160</td>\n      <td>110</td>\n      <td>160</td>\n      <td>110</td>\n      <td>110</td>\n      <td>6</td>\n      <td>True</td>\n    </tr>\n    <tr>\n      <th>797</th>\n      <td>720</td>\n      <td>HoopaHoopa Confined</td>\n      <td>Psychic</td>\n      <td>Ghost</td>\n      <td>80</td>\n      <td>110</td>\n      <td>60</td>\n      <td>150</td>\n      <td>130</td>\n      <td>70</td>\n      <td>6</td>\n      <td>True</td>\n    </tr>\n    <tr>\n      <th>798</th>\n      <td>720</td>\n      <td>HoopaHoopa Unbound</td>\n      <td>Psychic</td>\n      <td>Dark</td>\n      <td>80</td>\n      <td>160</td>\n      <td>60</td>\n      <td>170</td>\n      <td>130</td>\n      <td>80</td>\n      <td>6</td>\n      <td>True</td>\n    </tr>\n    <tr>\n      <th>799</th>\n      <td>721</td>\n      <td>Volcanion</td>\n      <td>Fire</td>\n      <td>Water</td>\n      <td>80</td>\n      <td>110</td>\n      <td>120</td>\n      <td>130</td>\n      <td>90</td>\n      <td>70</td>\n      <td>6</td>\n      <td>True</td>\n    </tr>\n  </tbody>\n</table>\n<p>800 rows × 12 columns</p>\n</div>"
          },
          "metadata": {}
        }
      ],
      "execution_count": 63
    },
    {
      "id": "aba6bacd-5199-421e-86c2-9bac62e15585",
      "cell_type": "code",
      "source": "pokemon['Type 1'].unique()",
      "metadata": {
        "trusted": true
      },
      "outputs": [
        {
          "execution_count": 66,
          "output_type": "execute_result",
          "data": {
            "text/plain": "array(['Grass', 'Fire', 'Water', 'Bug', 'Normal', 'Poison', 'Electric',\n       'Ground', 'Fairy', 'Fighting', 'Psychic', 'Rock', 'Ghost', 'Ice',\n       'Dragon', 'Dark', 'Steel', 'Flying'], dtype=object)"
          },
          "metadata": {}
        }
      ],
      "execution_count": 66
    },
    {
      "id": "7a162148-9fb2-407e-8b65-683b3be5cbdf",
      "cell_type": "code",
      "source": "len(pokemon['Type 1'].unique())",
      "metadata": {
        "trusted": true
      },
      "outputs": [
        {
          "execution_count": 67,
          "output_type": "execute_result",
          "data": {
            "text/plain": "18"
          },
          "metadata": {}
        }
      ],
      "execution_count": 67
    },
    {
      "id": "2739b709-097e-427b-84a2-08a1b8fbbbe0",
      "cell_type": "code",
      "source": "pokemon.groupby('Type 1').sum('Attack')",
      "metadata": {
        "trusted": true
      },
      "outputs": [
        {
          "execution_count": 81,
          "output_type": "execute_result",
          "data": {
            "text/plain": "              #    HP  Attack  Defense  Sp. Atk  Sp. Def  Speed  Generation  \\\nType 1                                                                        \nBug       23080  3925    4897     4880     3717     4471   4256         222   \nDark      14302  2071    2740     2177     2314     2155   2361         125   \nDragon    15180  2666    3588     2764     3099     2843   2657         124   \nElectric  15994  2631    3040     2917     3961     3243   3718         144   \nFairy      7642  1260    1046     1117     1335     1440    826          70   \nFighting   9824  1886    2613     1780     1434     1747   1784          91   \nFire      17025  3635    4408     3524     4627     3755   3871         167   \nFlying     2711   283     315      265      377      290    410          22   \nGhost     15568  2062    2361     2598     2539     2447   2059         134   \nGrass     24141  4709    5125     4956     5425     4930   4335         235   \nGround    11401  2361    3064     2715     1807     2008   2045         101   \nIce       10165  1728    1746     1714     1861     1831   1523          85   \nNormal    31279  7573    7200     5865     5470     6245   7012         299   \nPoison     7050  1883    2091     1927     1692     1803   1780          71   \nPsychic   21706  4026    4073     3858     5609     4918   4645         193   \nRock      17280  2876    4086     4435     2787     3321   2460         152   \nSteel     11957  1761    2503     3412     1823     2177   1492         104   \nWater     33946  8071    8305     8170     8379     7898   7388         320   \n\n          Legendary  \nType 1               \nBug               0  \nDark              2  \nDragon           12  \nElectric          4  \nFairy             1  \nFighting          0  \nFire              5  \nFlying            2  \nGhost             2  \nGrass             3  \nGround            4  \nIce               2  \nNormal            2  \nPoison            0  \nPsychic          14  \nRock              4  \nSteel             4  \nWater             4  ",
            "text/html": "<div>\n<style scoped>\n    .dataframe tbody tr th:only-of-type {\n        vertical-align: middle;\n    }\n\n    .dataframe tbody tr th {\n        vertical-align: top;\n    }\n\n    .dataframe thead th {\n        text-align: right;\n    }\n</style>\n<table border=\"1\" class=\"dataframe\">\n  <thead>\n    <tr style=\"text-align: right;\">\n      <th></th>\n      <th>#</th>\n      <th>HP</th>\n      <th>Attack</th>\n      <th>Defense</th>\n      <th>Sp. Atk</th>\n      <th>Sp. Def</th>\n      <th>Speed</th>\n      <th>Generation</th>\n      <th>Legendary</th>\n    </tr>\n    <tr>\n      <th>Type 1</th>\n      <th></th>\n      <th></th>\n      <th></th>\n      <th></th>\n      <th></th>\n      <th></th>\n      <th></th>\n      <th></th>\n      <th></th>\n    </tr>\n  </thead>\n  <tbody>\n    <tr>\n      <th>Bug</th>\n      <td>23080</td>\n      <td>3925</td>\n      <td>4897</td>\n      <td>4880</td>\n      <td>3717</td>\n      <td>4471</td>\n      <td>4256</td>\n      <td>222</td>\n      <td>0</td>\n    </tr>\n    <tr>\n      <th>Dark</th>\n      <td>14302</td>\n      <td>2071</td>\n      <td>2740</td>\n      <td>2177</td>\n      <td>2314</td>\n      <td>2155</td>\n      <td>2361</td>\n      <td>125</td>\n      <td>2</td>\n    </tr>\n    <tr>\n      <th>Dragon</th>\n      <td>15180</td>\n      <td>2666</td>\n      <td>3588</td>\n      <td>2764</td>\n      <td>3099</td>\n      <td>2843</td>\n      <td>2657</td>\n      <td>124</td>\n      <td>12</td>\n    </tr>\n    <tr>\n      <th>Electric</th>\n      <td>15994</td>\n      <td>2631</td>\n      <td>3040</td>\n      <td>2917</td>\n      <td>3961</td>\n      <td>3243</td>\n      <td>3718</td>\n      <td>144</td>\n      <td>4</td>\n    </tr>\n    <tr>\n      <th>Fairy</th>\n      <td>7642</td>\n      <td>1260</td>\n      <td>1046</td>\n      <td>1117</td>\n      <td>1335</td>\n      <td>1440</td>\n      <td>826</td>\n      <td>70</td>\n      <td>1</td>\n    </tr>\n    <tr>\n      <th>Fighting</th>\n      <td>9824</td>\n      <td>1886</td>\n      <td>2613</td>\n      <td>1780</td>\n      <td>1434</td>\n      <td>1747</td>\n      <td>1784</td>\n      <td>91</td>\n      <td>0</td>\n    </tr>\n    <tr>\n      <th>Fire</th>\n      <td>17025</td>\n      <td>3635</td>\n      <td>4408</td>\n      <td>3524</td>\n      <td>4627</td>\n      <td>3755</td>\n      <td>3871</td>\n      <td>167</td>\n      <td>5</td>\n    </tr>\n    <tr>\n      <th>Flying</th>\n      <td>2711</td>\n      <td>283</td>\n      <td>315</td>\n      <td>265</td>\n      <td>377</td>\n      <td>290</td>\n      <td>410</td>\n      <td>22</td>\n      <td>2</td>\n    </tr>\n    <tr>\n      <th>Ghost</th>\n      <td>15568</td>\n      <td>2062</td>\n      <td>2361</td>\n      <td>2598</td>\n      <td>2539</td>\n      <td>2447</td>\n      <td>2059</td>\n      <td>134</td>\n      <td>2</td>\n    </tr>\n    <tr>\n      <th>Grass</th>\n      <td>24141</td>\n      <td>4709</td>\n      <td>5125</td>\n      <td>4956</td>\n      <td>5425</td>\n      <td>4930</td>\n      <td>4335</td>\n      <td>235</td>\n      <td>3</td>\n    </tr>\n    <tr>\n      <th>Ground</th>\n      <td>11401</td>\n      <td>2361</td>\n      <td>3064</td>\n      <td>2715</td>\n      <td>1807</td>\n      <td>2008</td>\n      <td>2045</td>\n      <td>101</td>\n      <td>4</td>\n    </tr>\n    <tr>\n      <th>Ice</th>\n      <td>10165</td>\n      <td>1728</td>\n      <td>1746</td>\n      <td>1714</td>\n      <td>1861</td>\n      <td>1831</td>\n      <td>1523</td>\n      <td>85</td>\n      <td>2</td>\n    </tr>\n    <tr>\n      <th>Normal</th>\n      <td>31279</td>\n      <td>7573</td>\n      <td>7200</td>\n      <td>5865</td>\n      <td>5470</td>\n      <td>6245</td>\n      <td>7012</td>\n      <td>299</td>\n      <td>2</td>\n    </tr>\n    <tr>\n      <th>Poison</th>\n      <td>7050</td>\n      <td>1883</td>\n      <td>2091</td>\n      <td>1927</td>\n      <td>1692</td>\n      <td>1803</td>\n      <td>1780</td>\n      <td>71</td>\n      <td>0</td>\n    </tr>\n    <tr>\n      <th>Psychic</th>\n      <td>21706</td>\n      <td>4026</td>\n      <td>4073</td>\n      <td>3858</td>\n      <td>5609</td>\n      <td>4918</td>\n      <td>4645</td>\n      <td>193</td>\n      <td>14</td>\n    </tr>\n    <tr>\n      <th>Rock</th>\n      <td>17280</td>\n      <td>2876</td>\n      <td>4086</td>\n      <td>4435</td>\n      <td>2787</td>\n      <td>3321</td>\n      <td>2460</td>\n      <td>152</td>\n      <td>4</td>\n    </tr>\n    <tr>\n      <th>Steel</th>\n      <td>11957</td>\n      <td>1761</td>\n      <td>2503</td>\n      <td>3412</td>\n      <td>1823</td>\n      <td>2177</td>\n      <td>1492</td>\n      <td>104</td>\n      <td>4</td>\n    </tr>\n    <tr>\n      <th>Water</th>\n      <td>33946</td>\n      <td>8071</td>\n      <td>8305</td>\n      <td>8170</td>\n      <td>8379</td>\n      <td>7898</td>\n      <td>7388</td>\n      <td>320</td>\n      <td>4</td>\n    </tr>\n  </tbody>\n</table>\n</div>"
          },
          "metadata": {}
        }
      ],
      "execution_count": 81
    },
    {
      "id": "33c0303d-2580-41b0-8295-571c296ae1c8",
      "cell_type": "code",
      "source": "",
      "metadata": {
        "trusted": true
      },
      "outputs": [],
      "execution_count": null
    },
    {
      "id": "679f2461-7db7-4caf-a704-cba8ac82c328",
      "cell_type": "code",
      "source": "",
      "metadata": {
        "trusted": true
      },
      "outputs": [],
      "execution_count": null
    }
  ]
}