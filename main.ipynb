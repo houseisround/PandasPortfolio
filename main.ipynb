{
  "metadata": {
    "kernelspec": {
      "name": "python",
      "display_name": "Python (Pyodide)",
      "language": "python"
    },
    "language_info": {
      "codemirror_mode": {
        "name": "python",
        "version": 3
      },
      "file_extension": ".py",
      "mimetype": "text/x-python",
      "name": "python",
      "nbconvert_exporter": "python",
      "pygments_lexer": "ipython3",
      "version": "3.8"
    }
  },
  "nbformat_minor": 5,
  "nbformat": 4,
  "cells": [
    {
      "id": "be6ccaf0-2ba0-4cc6-a367-a603b05d79c8",
      "cell_type": "code",
      "source": "import pandas as pd",
      "metadata": {
        "trusted": true
      },
      "outputs": [],
      "execution_count": 2
    },
    {
      "id": "1cd3c6c1-9830-4db9-98b7-a616270eaea2",
      "cell_type": "code",
      "source": "import numpy as np",
      "metadata": {
        "trusted": true
      },
      "outputs": [],
      "execution_count": 3
    },
    {
      "id": "6a1ee973-4620-427b-b91c-cf32259d525d",
      "cell_type": "code",
      "source": "df=pd.read_csv(\"electronic-card-transactions-september-2024-csv-tables.csv\")",
      "metadata": {
        "trusted": true
      },
      "outputs": [],
      "execution_count": 6
    },
    {
      "id": "c71bed38-2fe9-4af9-8cdd-24905321ea05",
      "cell_type": "code",
      "source": "df",
      "metadata": {
        "trusted": true
      },
      "outputs": [
        {
          "execution_count": 7,
          "output_type": "execute_result",
          "data": {
            "text/plain": "      Series_reference   Period  Data_value  Suppressed STATUS    UNITS  \\\n0           ECTA.S19A1  2001.03      2462.5         NaN      F  Dollars   \n1           ECTA.S19A1  2002.03     17177.2         NaN      F  Dollars   \n2           ECTA.S19A1  2003.03     22530.5         NaN      F  Dollars   \n3           ECTA.S19A1  2004.03     28005.1         NaN      F  Dollars   \n4           ECTA.S19A1  2005.03     30629.6         NaN      F  Dollars   \n...                ...      ...         ...         ...    ...      ...   \n20792       ECTQ.S4AXP  2023.09        33.2         NaN      F  Percent   \n20793       ECTQ.S4AXP  2023.12        32.7         NaN      F  Percent   \n20794       ECTQ.S4AXP  2024.03        32.1         NaN      F  Percent   \n20795       ECTQ.S4AXP  2024.06        33.3         NaN      F  Percent   \n20796       ECTQ.S4AXP  2024.09        33.4         NaN      F  Percent   \n\n       Magnitude                                        Subject  \\\n0              6  Electronic Card Transactions (ANZSIC06) - ECT   \n1              6  Electronic Card Transactions (ANZSIC06) - ECT   \n2              6  Electronic Card Transactions (ANZSIC06) - ECT   \n3              6  Electronic Card Transactions (ANZSIC06) - ECT   \n4              6  Electronic Card Transactions (ANZSIC06) - ECT   \n...          ...                                            ...   \n20792          0  Electronic Card Transactions (ANZSIC06) - ECT   \n20793          0  Electronic Card Transactions (ANZSIC06) - ECT   \n20794          0  Electronic Card Transactions (ANZSIC06) - ECT   \n20795          0  Electronic Card Transactions (ANZSIC06) - ECT   \n20796          0  Electronic Card Transactions (ANZSIC06) - ECT   \n\n                                                   Group Series_title_1  \\\n0      Total values - Electronic card transactions A/...         Actual   \n1      Total values - Electronic card transactions A/...         Actual   \n2      Total values - Electronic card transactions A/...         Actual   \n3      Total values - Electronic card transactions A/...         Actual   \n4      Total values - Electronic card transactions A/...         Actual   \n...                                                  ...            ...   \n20792  Electronic card transactions by mean and propo...         Actual   \n20793  Electronic card transactions by mean and propo...         Actual   \n20794  Electronic card transactions by mean and propo...         Actual   \n20795  Electronic card transactions by mean and propo...         Actual   \n20796  Electronic card transactions by mean and propo...         Actual   \n\n                                          Series_title_2  Series_title_3  \\\n0                                   RTS total industries             NaN   \n1                                   RTS total industries             NaN   \n2                                   RTS total industries             NaN   \n3                                   RTS total industries             NaN   \n4                                   RTS total industries             NaN   \n...                                                  ...             ...   \n20792  Debit card usage as a proportion of total ECT ...  Proportion (%)   \n20793  Debit card usage as a proportion of total ECT ...  Proportion (%)   \n20794  Debit card usage as a proportion of total ECT ...  Proportion (%)   \n20795  Debit card usage as a proportion of total ECT ...  Proportion (%)   \n20796  Debit card usage as a proportion of total ECT ...  Proportion (%)   \n\n       Series_title_4  Series_title_5  \n0                 NaN             NaN  \n1                 NaN             NaN  \n2                 NaN             NaN  \n3                 NaN             NaN  \n4                 NaN             NaN  \n...               ...             ...  \n20792             NaN             NaN  \n20793             NaN             NaN  \n20794             NaN             NaN  \n20795             NaN             NaN  \n20796             NaN             NaN  \n\n[20797 rows x 14 columns]",
            "text/html": "<div>\n<style scoped>\n    .dataframe tbody tr th:only-of-type {\n        vertical-align: middle;\n    }\n\n    .dataframe tbody tr th {\n        vertical-align: top;\n    }\n\n    .dataframe thead th {\n        text-align: right;\n    }\n</style>\n<table border=\"1\" class=\"dataframe\">\n  <thead>\n    <tr style=\"text-align: right;\">\n      <th></th>\n      <th>Series_reference</th>\n      <th>Period</th>\n      <th>Data_value</th>\n      <th>Suppressed</th>\n      <th>STATUS</th>\n      <th>UNITS</th>\n      <th>Magnitude</th>\n      <th>Subject</th>\n      <th>Group</th>\n      <th>Series_title_1</th>\n      <th>Series_title_2</th>\n      <th>Series_title_3</th>\n      <th>Series_title_4</th>\n      <th>Series_title_5</th>\n    </tr>\n  </thead>\n  <tbody>\n    <tr>\n      <th>0</th>\n      <td>ECTA.S19A1</td>\n      <td>2001.03</td>\n      <td>2462.5</td>\n      <td>NaN</td>\n      <td>F</td>\n      <td>Dollars</td>\n      <td>6</td>\n      <td>Electronic Card Transactions (ANZSIC06) - ECT</td>\n      <td>Total values - Electronic card transactions A/...</td>\n      <td>Actual</td>\n      <td>RTS total industries</td>\n      <td>NaN</td>\n      <td>NaN</td>\n      <td>NaN</td>\n    </tr>\n    <tr>\n      <th>1</th>\n      <td>ECTA.S19A1</td>\n      <td>2002.03</td>\n      <td>17177.2</td>\n      <td>NaN</td>\n      <td>F</td>\n      <td>Dollars</td>\n      <td>6</td>\n      <td>Electronic Card Transactions (ANZSIC06) - ECT</td>\n      <td>Total values - Electronic card transactions A/...</td>\n      <td>Actual</td>\n      <td>RTS total industries</td>\n      <td>NaN</td>\n      <td>NaN</td>\n      <td>NaN</td>\n    </tr>\n    <tr>\n      <th>2</th>\n      <td>ECTA.S19A1</td>\n      <td>2003.03</td>\n      <td>22530.5</td>\n      <td>NaN</td>\n      <td>F</td>\n      <td>Dollars</td>\n      <td>6</td>\n      <td>Electronic Card Transactions (ANZSIC06) - ECT</td>\n      <td>Total values - Electronic card transactions A/...</td>\n      <td>Actual</td>\n      <td>RTS total industries</td>\n      <td>NaN</td>\n      <td>NaN</td>\n      <td>NaN</td>\n    </tr>\n    <tr>\n      <th>3</th>\n      <td>ECTA.S19A1</td>\n      <td>2004.03</td>\n      <td>28005.1</td>\n      <td>NaN</td>\n      <td>F</td>\n      <td>Dollars</td>\n      <td>6</td>\n      <td>Electronic Card Transactions (ANZSIC06) - ECT</td>\n      <td>Total values - Electronic card transactions A/...</td>\n      <td>Actual</td>\n      <td>RTS total industries</td>\n      <td>NaN</td>\n      <td>NaN</td>\n      <td>NaN</td>\n    </tr>\n    <tr>\n      <th>4</th>\n      <td>ECTA.S19A1</td>\n      <td>2005.03</td>\n      <td>30629.6</td>\n      <td>NaN</td>\n      <td>F</td>\n      <td>Dollars</td>\n      <td>6</td>\n      <td>Electronic Card Transactions (ANZSIC06) - ECT</td>\n      <td>Total values - Electronic card transactions A/...</td>\n      <td>Actual</td>\n      <td>RTS total industries</td>\n      <td>NaN</td>\n      <td>NaN</td>\n      <td>NaN</td>\n    </tr>\n    <tr>\n      <th>...</th>\n      <td>...</td>\n      <td>...</td>\n      <td>...</td>\n      <td>...</td>\n      <td>...</td>\n      <td>...</td>\n      <td>...</td>\n      <td>...</td>\n      <td>...</td>\n      <td>...</td>\n      <td>...</td>\n      <td>...</td>\n      <td>...</td>\n      <td>...</td>\n    </tr>\n    <tr>\n      <th>20792</th>\n      <td>ECTQ.S4AXP</td>\n      <td>2023.09</td>\n      <td>33.2</td>\n      <td>NaN</td>\n      <td>F</td>\n      <td>Percent</td>\n      <td>0</td>\n      <td>Electronic Card Transactions (ANZSIC06) - ECT</td>\n      <td>Electronic card transactions by mean and propo...</td>\n      <td>Actual</td>\n      <td>Debit card usage as a proportion of total ECT ...</td>\n      <td>Proportion (%)</td>\n      <td>NaN</td>\n      <td>NaN</td>\n    </tr>\n    <tr>\n      <th>20793</th>\n      <td>ECTQ.S4AXP</td>\n      <td>2023.12</td>\n      <td>32.7</td>\n      <td>NaN</td>\n      <td>F</td>\n      <td>Percent</td>\n      <td>0</td>\n      <td>Electronic Card Transactions (ANZSIC06) - ECT</td>\n      <td>Electronic card transactions by mean and propo...</td>\n      <td>Actual</td>\n      <td>Debit card usage as a proportion of total ECT ...</td>\n      <td>Proportion (%)</td>\n      <td>NaN</td>\n      <td>NaN</td>\n    </tr>\n    <tr>\n      <th>20794</th>\n      <td>ECTQ.S4AXP</td>\n      <td>2024.03</td>\n      <td>32.1</td>\n      <td>NaN</td>\n      <td>F</td>\n      <td>Percent</td>\n      <td>0</td>\n      <td>Electronic Card Transactions (ANZSIC06) - ECT</td>\n      <td>Electronic card transactions by mean and propo...</td>\n      <td>Actual</td>\n      <td>Debit card usage as a proportion of total ECT ...</td>\n      <td>Proportion (%)</td>\n      <td>NaN</td>\n      <td>NaN</td>\n    </tr>\n    <tr>\n      <th>20795</th>\n      <td>ECTQ.S4AXP</td>\n      <td>2024.06</td>\n      <td>33.3</td>\n      <td>NaN</td>\n      <td>F</td>\n      <td>Percent</td>\n      <td>0</td>\n      <td>Electronic Card Transactions (ANZSIC06) - ECT</td>\n      <td>Electronic card transactions by mean and propo...</td>\n      <td>Actual</td>\n      <td>Debit card usage as a proportion of total ECT ...</td>\n      <td>Proportion (%)</td>\n      <td>NaN</td>\n      <td>NaN</td>\n    </tr>\n    <tr>\n      <th>20796</th>\n      <td>ECTQ.S4AXP</td>\n      <td>2024.09</td>\n      <td>33.4</td>\n      <td>NaN</td>\n      <td>F</td>\n      <td>Percent</td>\n      <td>0</td>\n      <td>Electronic Card Transactions (ANZSIC06) - ECT</td>\n      <td>Electronic card transactions by mean and propo...</td>\n      <td>Actual</td>\n      <td>Debit card usage as a proportion of total ECT ...</td>\n      <td>Proportion (%)</td>\n      <td>NaN</td>\n      <td>NaN</td>\n    </tr>\n  </tbody>\n</table>\n<p>20797 rows × 14 columns</p>\n</div>"
          },
          "metadata": {}
        }
      ],
      "execution_count": 7
    },
    {
      "id": "0e6577eb-81bd-44e0-8980-ff7f6ea31d11",
      "cell_type": "code",
      "source": "df['Subject']",
      "metadata": {
        "trusted": true
      },
      "outputs": [
        {
          "execution_count": 8,
          "output_type": "execute_result",
          "data": {
            "text/plain": "0        Electronic Card Transactions (ANZSIC06) - ECT\n1        Electronic Card Transactions (ANZSIC06) - ECT\n2        Electronic Card Transactions (ANZSIC06) - ECT\n3        Electronic Card Transactions (ANZSIC06) - ECT\n4        Electronic Card Transactions (ANZSIC06) - ECT\n                             ...                      \n20792    Electronic Card Transactions (ANZSIC06) - ECT\n20793    Electronic Card Transactions (ANZSIC06) - ECT\n20794    Electronic Card Transactions (ANZSIC06) - ECT\n20795    Electronic Card Transactions (ANZSIC06) - ECT\n20796    Electronic Card Transactions (ANZSIC06) - ECT\nName: Subject, Length: 20797, dtype: object"
          },
          "metadata": {}
        }
      ],
      "execution_count": 8
    },
    {
      "id": "f469cdd7-ed39-42e3-b583-5b587948a34f",
      "cell_type": "code",
      "source": "",
      "metadata": {
        "trusted": true
      },
      "outputs": [],
      "execution_count": null
    },
    {
      "id": "eced5513-b0ac-4d7d-a2c3-35f4578eca21",
      "cell_type": "code",
      "source": "",
      "metadata": {
        "trusted": true,
        "tags": [],
        "editable": true,
        "slideshow": {
          "slide_type": ""
        }
      },
      "outputs": [],
      "execution_count": null
    }
  ]
}