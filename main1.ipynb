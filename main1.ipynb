{
  "metadata": {
    "kernelspec": {
      "name": "python",
      "display_name": "Python (Pyodide)",
      "language": "python"
    },
    "language_info": {
      "codemirror_mode": {
        "name": "python",
        "version": 3
      },
      "file_extension": ".py",
      "mimetype": "text/x-python",
      "name": "python",
      "nbconvert_exporter": "python",
      "pygments_lexer": "ipython3",
      "version": "3.8"
    }
  },
  "nbformat_minor": 5,
  "nbformat": 4,
  "cells": [
    {
      "id": "be6ccaf0-2ba0-4cc6-a367-a603b05d79c8",
      "cell_type": "code",
      "source": "import pandas as pd",
      "metadata": {
        "trusted": true
      },
      "outputs": [],
      "execution_count": 6
    },
    {
      "id": "1cd3c6c1-9830-4db9-98b7-a616270eaea2",
      "cell_type": "code",
      "source": "import numpy as np",
      "metadata": {
        "trusted": true
      },
      "outputs": [],
      "execution_count": 7
    },
    {
      "id": "6a1ee973-4620-427b-b91c-cf32259d525d",
      "cell_type": "code",
      "source": "data = pd.DataFrame(np.random.randint(0,9999,size=(10000,4)), columns=list('ABCD'))",
      "metadata": {
        "trusted": true
      },
      "outputs": [],
      "execution_count": 8
    },
    {
      "id": "c71bed38-2fe9-4af9-8cdd-24905321ea05",
      "cell_type": "code",
      "source": "data",
      "metadata": {
        "trusted": true
      },
      "outputs": [
        {
          "execution_count": 9,
          "output_type": "execute_result",
          "data": {
            "text/plain": "         A     B     C     D\n0      192   524  5222  4132\n1     3274  3564  2059  2983\n2     3354  6636  3398  3050\n3     6685  4361  1168  7187\n4     6869    52  6054  1655\n...    ...   ...   ...   ...\n9995  4109  2185  3735  9291\n9996  2863  1688  8698  7619\n9997  3566  5229  1324   145\n9998  2352  6466  9982  7741\n9999  4473  8534  1847  4099\n\n[10000 rows x 4 columns]",
            "text/html": "<div>\n<style scoped>\n    .dataframe tbody tr th:only-of-type {\n        vertical-align: middle;\n    }\n\n    .dataframe tbody tr th {\n        vertical-align: top;\n    }\n\n    .dataframe thead th {\n        text-align: right;\n    }\n</style>\n<table border=\"1\" class=\"dataframe\">\n  <thead>\n    <tr style=\"text-align: right;\">\n      <th></th>\n      <th>A</th>\n      <th>B</th>\n      <th>C</th>\n      <th>D</th>\n    </tr>\n  </thead>\n  <tbody>\n    <tr>\n      <th>0</th>\n      <td>192</td>\n      <td>524</td>\n      <td>5222</td>\n      <td>4132</td>\n    </tr>\n    <tr>\n      <th>1</th>\n      <td>3274</td>\n      <td>3564</td>\n      <td>2059</td>\n      <td>2983</td>\n    </tr>\n    <tr>\n      <th>2</th>\n      <td>3354</td>\n      <td>6636</td>\n      <td>3398</td>\n      <td>3050</td>\n    </tr>\n    <tr>\n      <th>3</th>\n      <td>6685</td>\n      <td>4361</td>\n      <td>1168</td>\n      <td>7187</td>\n    </tr>\n    <tr>\n      <th>4</th>\n      <td>6869</td>\n      <td>52</td>\n      <td>6054</td>\n      <td>1655</td>\n    </tr>\n    <tr>\n      <th>...</th>\n      <td>...</td>\n      <td>...</td>\n      <td>...</td>\n      <td>...</td>\n    </tr>\n    <tr>\n      <th>9995</th>\n      <td>4109</td>\n      <td>2185</td>\n      <td>3735</td>\n      <td>9291</td>\n    </tr>\n    <tr>\n      <th>9996</th>\n      <td>2863</td>\n      <td>1688</td>\n      <td>8698</td>\n      <td>7619</td>\n    </tr>\n    <tr>\n      <th>9997</th>\n      <td>3566</td>\n      <td>5229</td>\n      <td>1324</td>\n      <td>145</td>\n    </tr>\n    <tr>\n      <th>9998</th>\n      <td>2352</td>\n      <td>6466</td>\n      <td>9982</td>\n      <td>7741</td>\n    </tr>\n    <tr>\n      <th>9999</th>\n      <td>4473</td>\n      <td>8534</td>\n      <td>1847</td>\n      <td>4099</td>\n    </tr>\n  </tbody>\n</table>\n<p>10000 rows × 4 columns</p>\n</div>"
          },
          "metadata": {}
        }
      ],
      "execution_count": 9
    },
    {
      "id": "0e6577eb-81bd-44e0-8980-ff7f6ea31d11",
      "cell_type": "code",
      "source": "",
      "metadata": {
        "trusted": true
      },
      "outputs": [],
      "execution_count": null
    },
    {
      "id": "f469cdd7-ed39-42e3-b583-5b587948a34f",
      "cell_type": "code",
      "source": "",
      "metadata": {
        "trusted": true
      },
      "outputs": [],
      "execution_count": null
    },
    {
      "id": "eced5513-b0ac-4d7d-a2c3-35f4578eca21",
      "cell_type": "code",
      "source": "",
      "metadata": {
        "trusted": true,
        "tags": [],
        "editable": true,
        "slideshow": {
          "slide_type": ""
        }
      },
      "outputs": [],
      "execution_count": null
    }
  ]
}