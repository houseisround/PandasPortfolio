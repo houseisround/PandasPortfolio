{
  "metadata": {
    "kernelspec": {
      "name": "python",
      "display_name": "Python (Pyodide)",
      "language": "python"
    },
    "language_info": {
      "codemirror_mode": {
        "name": "python",
        "version": 3
      },
      "file_extension": ".py",
      "mimetype": "text/x-python",
      "name": "python",
      "nbconvert_exporter": "python",
      "pygments_lexer": "ipython3",
      "version": "3.8"
    }
  },
  "nbformat_minor": 4,
  "nbformat": 4,
  "cells": [
    {
      "cell_type": "code",
      "source": "import numpy as np",
      "metadata": {
        "trusted": true
      },
      "outputs": [],
      "execution_count": 3
    },
    {
      "cell_type": "code",
      "source": "import pandas as pd",
      "metadata": {
        "trusted": true
      },
      "outputs": [],
      "execution_count": 4
    },
    {
      "cell_type": "code",
      "source": "a = pd.Series([1, 3, 5, np.nan, 6, 8])",
      "metadata": {
        "trusted": true
      },
      "outputs": [],
      "execution_count": 12
    },
    {
      "cell_type": "code",
      "source": "a",
      "metadata": {
        "trusted": true
      },
      "outputs": [
        {
          "execution_count": 13,
          "output_type": "execute_result",
          "data": {
            "text/plain": "0    1.0\n1    3.0\n2    5.0\n3    NaN\n4    6.0\n5    8.0\ndtype: float64"
          },
          "metadata": {}
        }
      ],
      "execution_count": 13
    },
    {
      "cell_type": "code",
      "source": "a1 = pd.Series(np.arange(5), index=[\"a\", \"b\", \"c\", \"d\", \"e\"])",
      "metadata": {
        "trusted": true
      },
      "outputs": [],
      "execution_count": 5
    },
    {
      "cell_type": "code",
      "source": "a1",
      "metadata": {
        "trusted": true
      },
      "outputs": [
        {
          "execution_count": 6,
          "output_type": "execute_result",
          "data": {
            "text/plain": "a    0\nb    1\nc    2\nd    3\ne    4\ndtype: int32"
          },
          "metadata": {}
        }
      ],
      "execution_count": 6
    },
    {
      "cell_type": "code",
      "source": "a1[a1>2]",
      "metadata": {
        "trusted": true
      },
      "outputs": [
        {
          "execution_count": 12,
          "output_type": "execute_result",
          "data": {
            "text/plain": "d    3\ne    4\ndtype: int32"
          },
          "metadata": {}
        }
      ],
      "execution_count": 12
    },
    {
      "cell_type": "code",
      "source": "d = {\"a\": 10, \"b\": 20, \"c\": 30, \"g\": 40}",
      "metadata": {
        "trusted": true
      },
      "outputs": [],
      "execution_count": 7
    },
    {
      "cell_type": "code",
      "source": "pd.Series(d)",
      "metadata": {
        "trusted": true
      },
      "outputs": [
        {
          "execution_count": 8,
          "output_type": "execute_result",
          "data": {
            "text/plain": "a    10\nb    20\nc    30\ng    40\ndtype: int64"
          },
          "metadata": {}
        }
      ],
      "execution_count": 8
    },
    {
      "cell_type": "code",
      "source": "b = pd.DataFrame(np.random.randn(6, 4), columns=list('ABCD'))",
      "metadata": {
        "trusted": true
      },
      "outputs": [],
      "execution_count": 14
    },
    {
      "cell_type": "code",
      "source": "b",
      "metadata": {
        "trusted": true
      },
      "outputs": [
        {
          "execution_count": 16,
          "output_type": "execute_result",
          "data": {
            "text/plain": "          A         B         C         D\n0  0.232717 -0.007804  1.607843 -0.044230\n1  0.910833 -2.108730  1.371999 -2.279093\n2  0.185390  0.006150  0.169943  0.256185\n3  0.124431 -0.353855  0.092607  0.715398\n4  0.913925  0.209643  0.877411  2.784187\n5  1.397335 -1.190432 -0.185734  0.753907",
            "text/html": "<div>\n<style scoped>\n    .dataframe tbody tr th:only-of-type {\n        vertical-align: middle;\n    }\n\n    .dataframe tbody tr th {\n        vertical-align: top;\n    }\n\n    .dataframe thead th {\n        text-align: right;\n    }\n</style>\n<table border=\"1\" class=\"dataframe\">\n  <thead>\n    <tr style=\"text-align: right;\">\n      <th></th>\n      <th>A</th>\n      <th>B</th>\n      <th>C</th>\n      <th>D</th>\n    </tr>\n  </thead>\n  <tbody>\n    <tr>\n      <th>0</th>\n      <td>0.232717</td>\n      <td>-0.007804</td>\n      <td>1.607843</td>\n      <td>-0.044230</td>\n    </tr>\n    <tr>\n      <th>1</th>\n      <td>0.910833</td>\n      <td>-2.108730</td>\n      <td>1.371999</td>\n      <td>-2.279093</td>\n    </tr>\n    <tr>\n      <th>2</th>\n      <td>0.185390</td>\n      <td>0.006150</td>\n      <td>0.169943</td>\n      <td>0.256185</td>\n    </tr>\n    <tr>\n      <th>3</th>\n      <td>0.124431</td>\n      <td>-0.353855</td>\n      <td>0.092607</td>\n      <td>0.715398</td>\n    </tr>\n    <tr>\n      <th>4</th>\n      <td>0.913925</td>\n      <td>0.209643</td>\n      <td>0.877411</td>\n      <td>2.784187</td>\n    </tr>\n    <tr>\n      <th>5</th>\n      <td>1.397335</td>\n      <td>-1.190432</td>\n      <td>-0.185734</td>\n      <td>0.753907</td>\n    </tr>\n  </tbody>\n</table>\n</div>"
          },
          "metadata": {}
        }
      ],
      "execution_count": 16
    },
    {
      "cell_type": "code",
      "source": "b.head()",
      "metadata": {
        "trusted": true
      },
      "outputs": [
        {
          "execution_count": 32,
          "output_type": "execute_result",
          "data": {
            "text/plain": "          A         B         C         D\n2  0.185390  0.006150  0.169943  0.256185\n3  0.124431 -0.353855  0.092607  0.715398\n4  0.913925  0.209643  0.877411  2.784187",
            "text/html": "<div>\n<style scoped>\n    .dataframe tbody tr th:only-of-type {\n        vertical-align: middle;\n    }\n\n    .dataframe tbody tr th {\n        vertical-align: top;\n    }\n\n    .dataframe thead th {\n        text-align: right;\n    }\n</style>\n<table border=\"1\" class=\"dataframe\">\n  <thead>\n    <tr style=\"text-align: right;\">\n      <th></th>\n      <th>A</th>\n      <th>B</th>\n      <th>C</th>\n      <th>D</th>\n    </tr>\n  </thead>\n  <tbody>\n    <tr>\n      <th>2</th>\n      <td>0.185390</td>\n      <td>0.006150</td>\n      <td>0.169943</td>\n      <td>0.256185</td>\n    </tr>\n    <tr>\n      <th>3</th>\n      <td>0.124431</td>\n      <td>-0.353855</td>\n      <td>0.092607</td>\n      <td>0.715398</td>\n    </tr>\n    <tr>\n      <th>4</th>\n      <td>0.913925</td>\n      <td>0.209643</td>\n      <td>0.877411</td>\n      <td>2.784187</td>\n    </tr>\n  </tbody>\n</table>\n</div>"
          },
          "metadata": {}
        }
      ],
      "execution_count": 32
    },
    {
      "cell_type": "code",
      "source": "b.index",
      "metadata": {
        "trusted": true
      },
      "outputs": [
        {
          "execution_count": 33,
          "output_type": "execute_result",
          "data": {
            "text/plain": "RangeIndex(start=0, stop=6, step=1)"
          },
          "metadata": {}
        }
      ],
      "execution_count": 33
    },
    {
      "cell_type": "code",
      "source": "b.columns",
      "metadata": {
        "trusted": true
      },
      "outputs": [
        {
          "execution_count": 34,
          "output_type": "execute_result",
          "data": {
            "text/plain": "Index(['A', 'B', 'C', 'D'], dtype='object')"
          },
          "metadata": {}
        }
      ],
      "execution_count": 34
    },
    {
      "cell_type": "code",
      "source": "b.describe()",
      "metadata": {
        "trusted": true
      },
      "outputs": [
        {
          "execution_count": 35,
          "output_type": "execute_result",
          "data": {
            "text/plain": "              A         B         C         D\ncount  6.000000  6.000000  6.000000  6.000000\nmean   0.627438 -0.574171  0.655678  0.364392\nstd    0.521413  0.900566  0.738900  1.630768\nmin    0.124431 -2.108730 -0.185734 -2.279093\n25%    0.197222 -0.981288  0.111941  0.030874\n50%    0.571775 -0.180829  0.523677  0.485791\n75%    0.913152  0.002661  1.248352  0.744280\nmax    1.397335  0.209643  1.607843  2.784187",
            "text/html": "<div>\n<style scoped>\n    .dataframe tbody tr th:only-of-type {\n        vertical-align: middle;\n    }\n\n    .dataframe tbody tr th {\n        vertical-align: top;\n    }\n\n    .dataframe thead th {\n        text-align: right;\n    }\n</style>\n<table border=\"1\" class=\"dataframe\">\n  <thead>\n    <tr style=\"text-align: right;\">\n      <th></th>\n      <th>A</th>\n      <th>B</th>\n      <th>C</th>\n      <th>D</th>\n    </tr>\n  </thead>\n  <tbody>\n    <tr>\n      <th>count</th>\n      <td>6.000000</td>\n      <td>6.000000</td>\n      <td>6.000000</td>\n      <td>6.000000</td>\n    </tr>\n    <tr>\n      <th>mean</th>\n      <td>0.627438</td>\n      <td>-0.574171</td>\n      <td>0.655678</td>\n      <td>0.364392</td>\n    </tr>\n    <tr>\n      <th>std</th>\n      <td>0.521413</td>\n      <td>0.900566</td>\n      <td>0.738900</td>\n      <td>1.630768</td>\n    </tr>\n    <tr>\n      <th>min</th>\n      <td>0.124431</td>\n      <td>-2.108730</td>\n      <td>-0.185734</td>\n      <td>-2.279093</td>\n    </tr>\n    <tr>\n      <th>25%</th>\n      <td>0.197222</td>\n      <td>-0.981288</td>\n      <td>0.111941</td>\n      <td>0.030874</td>\n    </tr>\n    <tr>\n      <th>50%</th>\n      <td>0.571775</td>\n      <td>-0.180829</td>\n      <td>0.523677</td>\n      <td>0.485791</td>\n    </tr>\n    <tr>\n      <th>75%</th>\n      <td>0.913152</td>\n      <td>0.002661</td>\n      <td>1.248352</td>\n      <td>0.744280</td>\n    </tr>\n    <tr>\n      <th>max</th>\n      <td>1.397335</td>\n      <td>0.209643</td>\n      <td>1.607843</td>\n      <td>2.784187</td>\n    </tr>\n  </tbody>\n</table>\n</div>"
          },
          "metadata": {}
        }
      ],
      "execution_count": 35
    },
    {
      "cell_type": "code",
      "source": "b[\"A\"]",
      "metadata": {
        "trusted": true
      },
      "outputs": [
        {
          "execution_count": 37,
          "output_type": "execute_result",
          "data": {
            "text/plain": "0    0.232717\n1    0.910833\n2    0.185390\n3    0.124431\n4    0.913925\n5    1.397335\nName: A, dtype: float64"
          },
          "metadata": {}
        }
      ],
      "execution_count": 37
    },
    {
      "cell_type": "code",
      "source": "c = pd.DataFrame(\n    {\n        \"A\": 1,\n        \"B\": pd.Timestamp(\"20130102\"),\n        \"C\": pd.Series(1, index=list(range(4)), dtype=\"float32\"),\n        \"D\": np.array(3, dtype=\"int32\"),\n        \"E\": (\"test\", \"train\", \"test\", \"train\"),\n        \"F\": \"foo\",\n    }\n)",
      "metadata": {
        "trusted": true
      },
      "outputs": [],
      "execution_count": 29
    },
    {
      "cell_type": "code",
      "source": "c",
      "metadata": {
        "trusted": true
      },
      "outputs": [
        {
          "execution_count": 30,
          "output_type": "execute_result",
          "data": {
            "text/plain": "   A          B    C  D      E    F\n0  1 2013-01-02  1.0  3   test  foo\n1  1 2013-01-02  1.0  3  train  foo\n2  1 2013-01-02  1.0  3   test  foo\n3  1 2013-01-02  1.0  3  train  foo",
            "text/html": "<div>\n<style scoped>\n    .dataframe tbody tr th:only-of-type {\n        vertical-align: middle;\n    }\n\n    .dataframe tbody tr th {\n        vertical-align: top;\n    }\n\n    .dataframe thead th {\n        text-align: right;\n    }\n</style>\n<table border=\"1\" class=\"dataframe\">\n  <thead>\n    <tr style=\"text-align: right;\">\n      <th></th>\n      <th>A</th>\n      <th>B</th>\n      <th>C</th>\n      <th>D</th>\n      <th>E</th>\n      <th>F</th>\n    </tr>\n  </thead>\n  <tbody>\n    <tr>\n      <th>0</th>\n      <td>1</td>\n      <td>2013-01-02</td>\n      <td>1.0</td>\n      <td>3</td>\n      <td>test</td>\n      <td>foo</td>\n    </tr>\n    <tr>\n      <th>1</th>\n      <td>1</td>\n      <td>2013-01-02</td>\n      <td>1.0</td>\n      <td>3</td>\n      <td>train</td>\n      <td>foo</td>\n    </tr>\n    <tr>\n      <th>2</th>\n      <td>1</td>\n      <td>2013-01-02</td>\n      <td>1.0</td>\n      <td>3</td>\n      <td>test</td>\n      <td>foo</td>\n    </tr>\n    <tr>\n      <th>3</th>\n      <td>1</td>\n      <td>2013-01-02</td>\n      <td>1.0</td>\n      <td>3</td>\n      <td>train</td>\n      <td>foo</td>\n    </tr>\n  </tbody>\n</table>\n</div>"
          },
          "metadata": {}
        }
      ],
      "execution_count": 30
    },
    {
      "cell_type": "code",
      "source": "c1 = pd.DataFrame(np.random.randn(6, 4), columns=list(\"ABCD\"))",
      "metadata": {
        "trusted": true
      },
      "outputs": [],
      "execution_count": 20
    },
    {
      "cell_type": "code",
      "source": "c1",
      "metadata": {
        "trusted": true
      },
      "outputs": [
        {
          "execution_count": 21,
          "output_type": "execute_result",
          "data": {
            "text/plain": "          A         B         C         D\n0 -0.592833 -0.835454 -0.578324 -0.087342\n1 -0.033492 -0.295493  0.845445 -1.167904\n2  1.205840  1.277749  1.184784  0.282341\n3  0.485309 -1.456775  0.095387 -1.415438\n4  0.816008  1.453272 -0.675460 -2.348267\n5  0.421184  1.701177 -0.159132  0.481878",
            "text/html": "<div>\n<style scoped>\n    .dataframe tbody tr th:only-of-type {\n        vertical-align: middle;\n    }\n\n    .dataframe tbody tr th {\n        vertical-align: top;\n    }\n\n    .dataframe thead th {\n        text-align: right;\n    }\n</style>\n<table border=\"1\" class=\"dataframe\">\n  <thead>\n    <tr style=\"text-align: right;\">\n      <th></th>\n      <th>A</th>\n      <th>B</th>\n      <th>C</th>\n      <th>D</th>\n    </tr>\n  </thead>\n  <tbody>\n    <tr>\n      <th>0</th>\n      <td>-0.592833</td>\n      <td>-0.835454</td>\n      <td>-0.578324</td>\n      <td>-0.087342</td>\n    </tr>\n    <tr>\n      <th>1</th>\n      <td>-0.033492</td>\n      <td>-0.295493</td>\n      <td>0.845445</td>\n      <td>-1.167904</td>\n    </tr>\n    <tr>\n      <th>2</th>\n      <td>1.205840</td>\n      <td>1.277749</td>\n      <td>1.184784</td>\n      <td>0.282341</td>\n    </tr>\n    <tr>\n      <th>3</th>\n      <td>0.485309</td>\n      <td>-1.456775</td>\n      <td>0.095387</td>\n      <td>-1.415438</td>\n    </tr>\n    <tr>\n      <th>4</th>\n      <td>0.816008</td>\n      <td>1.453272</td>\n      <td>-0.675460</td>\n      <td>-2.348267</td>\n    </tr>\n    <tr>\n      <th>5</th>\n      <td>0.421184</td>\n      <td>1.701177</td>\n      <td>-0.159132</td>\n      <td>0.481878</td>\n    </tr>\n  </tbody>\n</table>\n</div>"
          },
          "metadata": {}
        }
      ],
      "execution_count": 21
    },
    {
      "cell_type": "code",
      "source": "",
      "metadata": {
        "trusted": true
      },
      "outputs": [],
      "execution_count": null
    }
  ]
}