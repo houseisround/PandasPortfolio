{
  "metadata": {
    "kernelspec": {
      "name": "python",
      "display_name": "Python (Pyodide)",
      "language": "python"
    },
    "language_info": {
      "codemirror_mode": {
        "name": "python",
        "version": 3
      },
      "file_extension": ".py",
      "mimetype": "text/x-python",
      "name": "python",
      "nbconvert_exporter": "python",
      "pygments_lexer": "ipython3",
      "version": "3.8"
    }
  },
  "nbformat_minor": 4,
  "nbformat": 4,
  "cells": [
    {
      "cell_type": "code",
      "source": "import numpy as np",
      "metadata": {
        "trusted": true
      },
      "outputs": [],
      "execution_count": 1
    },
    {
      "cell_type": "code",
      "source": "import pandas as pd",
      "metadata": {
        "trusted": true
      },
      "outputs": [],
      "execution_count": 2
    },
    {
      "cell_type": "code",
      "source": "a = pd.Series([1, 3, 5, np.nan, 6, 8])",
      "metadata": {
        "trusted": true
      },
      "outputs": [],
      "execution_count": 12
    },
    {
      "cell_type": "code",
      "source": "a",
      "metadata": {
        "trusted": true
      },
      "outputs": [
        {
          "execution_count": 13,
          "output_type": "execute_result",
          "data": {
            "text/plain": "0    1.0\n1    3.0\n2    5.0\n3    NaN\n4    6.0\n5    8.0\ndtype: float64"
          },
          "metadata": {}
        }
      ],
      "execution_count": 13
    },
    {
      "cell_type": "code",
      "source": "a1 = pd.Series(np.arange(5), index=[\"a\", \"b\", \"c\", \"d\", \"e\"])",
      "metadata": {
        "trusted": true
      },
      "outputs": [],
      "execution_count": 5
    },
    {
      "cell_type": "code",
      "source": "a1",
      "metadata": {
        "trusted": true
      },
      "outputs": [
        {
          "execution_count": 6,
          "output_type": "execute_result",
          "data": {
            "text/plain": "a    0\nb    1\nc    2\nd    3\ne    4\ndtype: int32"
          },
          "metadata": {}
        }
      ],
      "execution_count": 6
    },
    {
      "cell_type": "code",
      "source": "a1[a1>2]",
      "metadata": {
        "trusted": true
      },
      "outputs": [
        {
          "execution_count": 12,
          "output_type": "execute_result",
          "data": {
            "text/plain": "d    3\ne    4\ndtype: int32"
          },
          "metadata": {}
        }
      ],
      "execution_count": 12
    },
    {
      "cell_type": "code",
      "source": "d = {\"a\": 10, \"b\": 20, \"c\": 30, \"g\": 40}",
      "metadata": {
        "trusted": true
      },
      "outputs": [],
      "execution_count": 7
    },
    {
      "cell_type": "code",
      "source": "pd.Series(d)",
      "metadata": {
        "trusted": true
      },
      "outputs": [
        {
          "execution_count": 8,
          "output_type": "execute_result",
          "data": {
            "text/plain": "a    10\nb    20\nc    30\ng    40\ndtype: int64"
          },
          "metadata": {}
        }
      ],
      "execution_count": 8
    },
    {
      "cell_type": "code",
      "source": "b = pd.DataFrame(np.random.randn(6, 4), columns=list('ABCD'))",
      "metadata": {
        "trusted": true
      },
      "outputs": [],
      "execution_count": 3
    },
    {
      "cell_type": "code",
      "source": "b",
      "metadata": {
        "trusted": true
      },
      "outputs": [
        {
          "execution_count": 8,
          "output_type": "execute_result",
          "data": {
            "text/plain": "          A         B         C         D\n0  0.142362  0.851693 -0.332941  1.518186\n1  1.050655 -0.214877 -0.442742 -0.282396\n2 -2.302014  0.922851  2.199118 -0.365633\n3 -1.985287  0.299989 -1.003260  0.429922\n4  0.533773  0.258996 -0.665323 -0.150554\n5 -0.498519  1.252929  1.237558  1.246350",
            "text/html": "<div>\n<style scoped>\n    .dataframe tbody tr th:only-of-type {\n        vertical-align: middle;\n    }\n\n    .dataframe tbody tr th {\n        vertical-align: top;\n    }\n\n    .dataframe thead th {\n        text-align: right;\n    }\n</style>\n<table border=\"1\" class=\"dataframe\">\n  <thead>\n    <tr style=\"text-align: right;\">\n      <th></th>\n      <th>A</th>\n      <th>B</th>\n      <th>C</th>\n      <th>D</th>\n    </tr>\n  </thead>\n  <tbody>\n    <tr>\n      <th>0</th>\n      <td>0.142362</td>\n      <td>0.851693</td>\n      <td>-0.332941</td>\n      <td>1.518186</td>\n    </tr>\n    <tr>\n      <th>1</th>\n      <td>1.050655</td>\n      <td>-0.214877</td>\n      <td>-0.442742</td>\n      <td>-0.282396</td>\n    </tr>\n    <tr>\n      <th>2</th>\n      <td>-2.302014</td>\n      <td>0.922851</td>\n      <td>2.199118</td>\n      <td>-0.365633</td>\n    </tr>\n    <tr>\n      <th>3</th>\n      <td>-1.985287</td>\n      <td>0.299989</td>\n      <td>-1.003260</td>\n      <td>0.429922</td>\n    </tr>\n    <tr>\n      <th>4</th>\n      <td>0.533773</td>\n      <td>0.258996</td>\n      <td>-0.665323</td>\n      <td>-0.150554</td>\n    </tr>\n    <tr>\n      <th>5</th>\n      <td>-0.498519</td>\n      <td>1.252929</td>\n      <td>1.237558</td>\n      <td>1.246350</td>\n    </tr>\n  </tbody>\n</table>\n</div>"
          },
          "metadata": {}
        }
      ],
      "execution_count": 8
    },
    {
      "cell_type": "code",
      "source": "b.head()",
      "metadata": {
        "trusted": true
      },
      "outputs": [
        {
          "execution_count": 12,
          "output_type": "execute_result",
          "data": {
            "text/plain": "          A         B         C         D\n0  0.142362  0.851693 -0.332941  1.518186\n1  1.050655 -0.214877 -0.442742 -0.282396\n2 -2.302014  0.922851  2.199118 -0.365633\n3 -1.985287  0.299989 -1.003260  0.429922\n4  0.533773  0.258996 -0.665323 -0.150554",
            "text/html": "<div>\n<style scoped>\n    .dataframe tbody tr th:only-of-type {\n        vertical-align: middle;\n    }\n\n    .dataframe tbody tr th {\n        vertical-align: top;\n    }\n\n    .dataframe thead th {\n        text-align: right;\n    }\n</style>\n<table border=\"1\" class=\"dataframe\">\n  <thead>\n    <tr style=\"text-align: right;\">\n      <th></th>\n      <th>A</th>\n      <th>B</th>\n      <th>C</th>\n      <th>D</th>\n    </tr>\n  </thead>\n  <tbody>\n    <tr>\n      <th>0</th>\n      <td>0.142362</td>\n      <td>0.851693</td>\n      <td>-0.332941</td>\n      <td>1.518186</td>\n    </tr>\n    <tr>\n      <th>1</th>\n      <td>1.050655</td>\n      <td>-0.214877</td>\n      <td>-0.442742</td>\n      <td>-0.282396</td>\n    </tr>\n    <tr>\n      <th>2</th>\n      <td>-2.302014</td>\n      <td>0.922851</td>\n      <td>2.199118</td>\n      <td>-0.365633</td>\n    </tr>\n    <tr>\n      <th>3</th>\n      <td>-1.985287</td>\n      <td>0.299989</td>\n      <td>-1.003260</td>\n      <td>0.429922</td>\n    </tr>\n    <tr>\n      <th>4</th>\n      <td>0.533773</td>\n      <td>0.258996</td>\n      <td>-0.665323</td>\n      <td>-0.150554</td>\n    </tr>\n  </tbody>\n</table>\n</div>"
          },
          "metadata": {}
        }
      ],
      "execution_count": 12
    },
    {
      "cell_type": "code",
      "source": "b.tail(3)",
      "metadata": {
        "trusted": true
      },
      "outputs": [
        {
          "execution_count": 13,
          "output_type": "execute_result",
          "data": {
            "text/plain": "          A         B         C         D\n3 -1.985287  0.299989 -1.003260  0.429922\n4  0.533773  0.258996 -0.665323 -0.150554\n5 -0.498519  1.252929  1.237558  1.246350",
            "text/html": "<div>\n<style scoped>\n    .dataframe tbody tr th:only-of-type {\n        vertical-align: middle;\n    }\n\n    .dataframe tbody tr th {\n        vertical-align: top;\n    }\n\n    .dataframe thead th {\n        text-align: right;\n    }\n</style>\n<table border=\"1\" class=\"dataframe\">\n  <thead>\n    <tr style=\"text-align: right;\">\n      <th></th>\n      <th>A</th>\n      <th>B</th>\n      <th>C</th>\n      <th>D</th>\n    </tr>\n  </thead>\n  <tbody>\n    <tr>\n      <th>3</th>\n      <td>-1.985287</td>\n      <td>0.299989</td>\n      <td>-1.003260</td>\n      <td>0.429922</td>\n    </tr>\n    <tr>\n      <th>4</th>\n      <td>0.533773</td>\n      <td>0.258996</td>\n      <td>-0.665323</td>\n      <td>-0.150554</td>\n    </tr>\n    <tr>\n      <th>5</th>\n      <td>-0.498519</td>\n      <td>1.252929</td>\n      <td>1.237558</td>\n      <td>1.246350</td>\n    </tr>\n  </tbody>\n</table>\n</div>"
          },
          "metadata": {}
        }
      ],
      "execution_count": 13
    },
    {
      "cell_type": "code",
      "source": "b.to_numpy()",
      "metadata": {
        "trusted": true
      },
      "outputs": [
        {
          "execution_count": 14,
          "output_type": "execute_result",
          "data": {
            "text/plain": "array([[ 0.14236244,  0.85169326, -0.33294145,  1.51818606],\n       [ 1.05065522, -0.2148773 , -0.44274218, -0.28239622],\n       [-2.30201447,  0.9228514 ,  2.19911849, -0.36563313],\n       [-1.9852875 ,  0.29998899, -1.00326019,  0.42992152],\n       [ 0.53377333,  0.2589961 , -0.66532294, -0.15055391],\n       [-0.49851907,  1.25292949,  1.23755799,  1.24634958]])"
          },
          "metadata": {}
        }
      ],
      "execution_count": 14
    },
    {
      "cell_type": "code",
      "source": "b.index",
      "metadata": {
        "trusted": true
      },
      "outputs": [
        {
          "execution_count": 33,
          "output_type": "execute_result",
          "data": {
            "text/plain": "RangeIndex(start=0, stop=6, step=1)"
          },
          "metadata": {}
        }
      ],
      "execution_count": 33
    },
    {
      "cell_type": "code",
      "source": "b.columns",
      "metadata": {
        "trusted": true
      },
      "outputs": [
        {
          "execution_count": 34,
          "output_type": "execute_result",
          "data": {
            "text/plain": "Index(['A', 'B', 'C', 'D'], dtype='object')"
          },
          "metadata": {}
        }
      ],
      "execution_count": 34
    },
    {
      "cell_type": "code",
      "source": "b.describe()",
      "metadata": {
        "trusted": true
      },
      "outputs": [
        {
          "execution_count": 35,
          "output_type": "execute_result",
          "data": {
            "text/plain": "              A         B         C         D\ncount  6.000000  6.000000  6.000000  6.000000\nmean   0.627438 -0.574171  0.655678  0.364392\nstd    0.521413  0.900566  0.738900  1.630768\nmin    0.124431 -2.108730 -0.185734 -2.279093\n25%    0.197222 -0.981288  0.111941  0.030874\n50%    0.571775 -0.180829  0.523677  0.485791\n75%    0.913152  0.002661  1.248352  0.744280\nmax    1.397335  0.209643  1.607843  2.784187",
            "text/html": "<div>\n<style scoped>\n    .dataframe tbody tr th:only-of-type {\n        vertical-align: middle;\n    }\n\n    .dataframe tbody tr th {\n        vertical-align: top;\n    }\n\n    .dataframe thead th {\n        text-align: right;\n    }\n</style>\n<table border=\"1\" class=\"dataframe\">\n  <thead>\n    <tr style=\"text-align: right;\">\n      <th></th>\n      <th>A</th>\n      <th>B</th>\n      <th>C</th>\n      <th>D</th>\n    </tr>\n  </thead>\n  <tbody>\n    <tr>\n      <th>count</th>\n      <td>6.000000</td>\n      <td>6.000000</td>\n      <td>6.000000</td>\n      <td>6.000000</td>\n    </tr>\n    <tr>\n      <th>mean</th>\n      <td>0.627438</td>\n      <td>-0.574171</td>\n      <td>0.655678</td>\n      <td>0.364392</td>\n    </tr>\n    <tr>\n      <th>std</th>\n      <td>0.521413</td>\n      <td>0.900566</td>\n      <td>0.738900</td>\n      <td>1.630768</td>\n    </tr>\n    <tr>\n      <th>min</th>\n      <td>0.124431</td>\n      <td>-2.108730</td>\n      <td>-0.185734</td>\n      <td>-2.279093</td>\n    </tr>\n    <tr>\n      <th>25%</th>\n      <td>0.197222</td>\n      <td>-0.981288</td>\n      <td>0.111941</td>\n      <td>0.030874</td>\n    </tr>\n    <tr>\n      <th>50%</th>\n      <td>0.571775</td>\n      <td>-0.180829</td>\n      <td>0.523677</td>\n      <td>0.485791</td>\n    </tr>\n    <tr>\n      <th>75%</th>\n      <td>0.913152</td>\n      <td>0.002661</td>\n      <td>1.248352</td>\n      <td>0.744280</td>\n    </tr>\n    <tr>\n      <th>max</th>\n      <td>1.397335</td>\n      <td>0.209643</td>\n      <td>1.607843</td>\n      <td>2.784187</td>\n    </tr>\n  </tbody>\n</table>\n</div>"
          },
          "metadata": {}
        }
      ],
      "execution_count": 35
    },
    {
      "cell_type": "code",
      "source": "b[\"A\"]",
      "metadata": {
        "trusted": true
      },
      "outputs": [
        {
          "execution_count": 37,
          "output_type": "execute_result",
          "data": {
            "text/plain": "0    0.232717\n1    0.910833\n2    0.185390\n3    0.124431\n4    0.913925\n5    1.397335\nName: A, dtype: float64"
          },
          "metadata": {}
        }
      ],
      "execution_count": 37
    },
    {
      "cell_type": "code",
      "source": "b.sort_index(axis=1, ascending=False)",
      "metadata": {
        "trusted": true
      },
      "outputs": [
        {
          "execution_count": 21,
          "output_type": "execute_result",
          "data": {
            "text/plain": "          D         C         B         A\n0  1.518186 -0.332941  0.851693  0.142362\n1 -0.282396 -0.442742 -0.214877  1.050655\n2 -0.365633  2.199118  0.922851 -2.302014\n3  0.429922 -1.003260  0.299989 -1.985287\n4 -0.150554 -0.665323  0.258996  0.533773\n5  1.246350  1.237558  1.252929 -0.498519",
            "text/html": "<div>\n<style scoped>\n    .dataframe tbody tr th:only-of-type {\n        vertical-align: middle;\n    }\n\n    .dataframe tbody tr th {\n        vertical-align: top;\n    }\n\n    .dataframe thead th {\n        text-align: right;\n    }\n</style>\n<table border=\"1\" class=\"dataframe\">\n  <thead>\n    <tr style=\"text-align: right;\">\n      <th></th>\n      <th>D</th>\n      <th>C</th>\n      <th>B</th>\n      <th>A</th>\n    </tr>\n  </thead>\n  <tbody>\n    <tr>\n      <th>0</th>\n      <td>1.518186</td>\n      <td>-0.332941</td>\n      <td>0.851693</td>\n      <td>0.142362</td>\n    </tr>\n    <tr>\n      <th>1</th>\n      <td>-0.282396</td>\n      <td>-0.442742</td>\n      <td>-0.214877</td>\n      <td>1.050655</td>\n    </tr>\n    <tr>\n      <th>2</th>\n      <td>-0.365633</td>\n      <td>2.199118</td>\n      <td>0.922851</td>\n      <td>-2.302014</td>\n    </tr>\n    <tr>\n      <th>3</th>\n      <td>0.429922</td>\n      <td>-1.003260</td>\n      <td>0.299989</td>\n      <td>-1.985287</td>\n    </tr>\n    <tr>\n      <th>4</th>\n      <td>-0.150554</td>\n      <td>-0.665323</td>\n      <td>0.258996</td>\n      <td>0.533773</td>\n    </tr>\n    <tr>\n      <th>5</th>\n      <td>1.246350</td>\n      <td>1.237558</td>\n      <td>1.252929</td>\n      <td>-0.498519</td>\n    </tr>\n  </tbody>\n</table>\n</div>"
          },
          "metadata": {}
        }
      ],
      "execution_count": 21
    },
    {
      "cell_type": "code",
      "source": "b.sort_index(axis=0, ascending=False)",
      "metadata": {
        "trusted": true
      },
      "outputs": [
        {
          "execution_count": 22,
          "output_type": "execute_result",
          "data": {
            "text/plain": "          A         B         C         D\n5 -0.498519  1.252929  1.237558  1.246350\n4  0.533773  0.258996 -0.665323 -0.150554\n3 -1.985287  0.299989 -1.003260  0.429922\n2 -2.302014  0.922851  2.199118 -0.365633\n1  1.050655 -0.214877 -0.442742 -0.282396\n0  0.142362  0.851693 -0.332941  1.518186",
            "text/html": "<div>\n<style scoped>\n    .dataframe tbody tr th:only-of-type {\n        vertical-align: middle;\n    }\n\n    .dataframe tbody tr th {\n        vertical-align: top;\n    }\n\n    .dataframe thead th {\n        text-align: right;\n    }\n</style>\n<table border=\"1\" class=\"dataframe\">\n  <thead>\n    <tr style=\"text-align: right;\">\n      <th></th>\n      <th>A</th>\n      <th>B</th>\n      <th>C</th>\n      <th>D</th>\n    </tr>\n  </thead>\n  <tbody>\n    <tr>\n      <th>5</th>\n      <td>-0.498519</td>\n      <td>1.252929</td>\n      <td>1.237558</td>\n      <td>1.246350</td>\n    </tr>\n    <tr>\n      <th>4</th>\n      <td>0.533773</td>\n      <td>0.258996</td>\n      <td>-0.665323</td>\n      <td>-0.150554</td>\n    </tr>\n    <tr>\n      <th>3</th>\n      <td>-1.985287</td>\n      <td>0.299989</td>\n      <td>-1.003260</td>\n      <td>0.429922</td>\n    </tr>\n    <tr>\n      <th>2</th>\n      <td>-2.302014</td>\n      <td>0.922851</td>\n      <td>2.199118</td>\n      <td>-0.365633</td>\n    </tr>\n    <tr>\n      <th>1</th>\n      <td>1.050655</td>\n      <td>-0.214877</td>\n      <td>-0.442742</td>\n      <td>-0.282396</td>\n    </tr>\n    <tr>\n      <th>0</th>\n      <td>0.142362</td>\n      <td>0.851693</td>\n      <td>-0.332941</td>\n      <td>1.518186</td>\n    </tr>\n  </tbody>\n</table>\n</div>"
          },
          "metadata": {}
        }
      ],
      "execution_count": 22
    },
    {
      "cell_type": "code",
      "source": "b.sort_values(by=\"B\")",
      "metadata": {
        "trusted": true
      },
      "outputs": [
        {
          "execution_count": 23,
          "output_type": "execute_result",
          "data": {
            "text/plain": "          A         B         C         D\n1  1.050655 -0.214877 -0.442742 -0.282396\n4  0.533773  0.258996 -0.665323 -0.150554\n3 -1.985287  0.299989 -1.003260  0.429922\n0  0.142362  0.851693 -0.332941  1.518186\n2 -2.302014  0.922851  2.199118 -0.365633\n5 -0.498519  1.252929  1.237558  1.246350",
            "text/html": "<div>\n<style scoped>\n    .dataframe tbody tr th:only-of-type {\n        vertical-align: middle;\n    }\n\n    .dataframe tbody tr th {\n        vertical-align: top;\n    }\n\n    .dataframe thead th {\n        text-align: right;\n    }\n</style>\n<table border=\"1\" class=\"dataframe\">\n  <thead>\n    <tr style=\"text-align: right;\">\n      <th></th>\n      <th>A</th>\n      <th>B</th>\n      <th>C</th>\n      <th>D</th>\n    </tr>\n  </thead>\n  <tbody>\n    <tr>\n      <th>1</th>\n      <td>1.050655</td>\n      <td>-0.214877</td>\n      <td>-0.442742</td>\n      <td>-0.282396</td>\n    </tr>\n    <tr>\n      <th>4</th>\n      <td>0.533773</td>\n      <td>0.258996</td>\n      <td>-0.665323</td>\n      <td>-0.150554</td>\n    </tr>\n    <tr>\n      <th>3</th>\n      <td>-1.985287</td>\n      <td>0.299989</td>\n      <td>-1.003260</td>\n      <td>0.429922</td>\n    </tr>\n    <tr>\n      <th>0</th>\n      <td>0.142362</td>\n      <td>0.851693</td>\n      <td>-0.332941</td>\n      <td>1.518186</td>\n    </tr>\n    <tr>\n      <th>2</th>\n      <td>-2.302014</td>\n      <td>0.922851</td>\n      <td>2.199118</td>\n      <td>-0.365633</td>\n    </tr>\n    <tr>\n      <th>5</th>\n      <td>-0.498519</td>\n      <td>1.252929</td>\n      <td>1.237558</td>\n      <td>1.246350</td>\n    </tr>\n  </tbody>\n</table>\n</div>"
          },
          "metadata": {}
        }
      ],
      "execution_count": 23
    },
    {
      "cell_type": "code",
      "source": "b[1:4]",
      "metadata": {
        "trusted": true
      },
      "outputs": [
        {
          "execution_count": 25,
          "output_type": "execute_result",
          "data": {
            "text/plain": "          A         B         C         D\n1  1.050655 -0.214877 -0.442742 -0.282396\n2 -2.302014  0.922851  2.199118 -0.365633\n3 -1.985287  0.299989 -1.003260  0.429922",
            "text/html": "<div>\n<style scoped>\n    .dataframe tbody tr th:only-of-type {\n        vertical-align: middle;\n    }\n\n    .dataframe tbody tr th {\n        vertical-align: top;\n    }\n\n    .dataframe thead th {\n        text-align: right;\n    }\n</style>\n<table border=\"1\" class=\"dataframe\">\n  <thead>\n    <tr style=\"text-align: right;\">\n      <th></th>\n      <th>A</th>\n      <th>B</th>\n      <th>C</th>\n      <th>D</th>\n    </tr>\n  </thead>\n  <tbody>\n    <tr>\n      <th>1</th>\n      <td>1.050655</td>\n      <td>-0.214877</td>\n      <td>-0.442742</td>\n      <td>-0.282396</td>\n    </tr>\n    <tr>\n      <th>2</th>\n      <td>-2.302014</td>\n      <td>0.922851</td>\n      <td>2.199118</td>\n      <td>-0.365633</td>\n    </tr>\n    <tr>\n      <th>3</th>\n      <td>-1.985287</td>\n      <td>0.299989</td>\n      <td>-1.003260</td>\n      <td>0.429922</td>\n    </tr>\n  </tbody>\n</table>\n</div>"
          },
          "metadata": {}
        }
      ],
      "execution_count": 25
    },
    {
      "cell_type": "code",
      "source": "b.loc[1:4, [\"A\", \"B\"]]",
      "metadata": {
        "trusted": true
      },
      "outputs": [
        {
          "execution_count": 26,
          "output_type": "execute_result",
          "data": {
            "text/plain": "          A         B\n1  1.050655 -0.214877\n2 -2.302014  0.922851\n3 -1.985287  0.299989\n4  0.533773  0.258996",
            "text/html": "<div>\n<style scoped>\n    .dataframe tbody tr th:only-of-type {\n        vertical-align: middle;\n    }\n\n    .dataframe tbody tr th {\n        vertical-align: top;\n    }\n\n    .dataframe thead th {\n        text-align: right;\n    }\n</style>\n<table border=\"1\" class=\"dataframe\">\n  <thead>\n    <tr style=\"text-align: right;\">\n      <th></th>\n      <th>A</th>\n      <th>B</th>\n    </tr>\n  </thead>\n  <tbody>\n    <tr>\n      <th>1</th>\n      <td>1.050655</td>\n      <td>-0.214877</td>\n    </tr>\n    <tr>\n      <th>2</th>\n      <td>-2.302014</td>\n      <td>0.922851</td>\n    </tr>\n    <tr>\n      <th>3</th>\n      <td>-1.985287</td>\n      <td>0.299989</td>\n    </tr>\n    <tr>\n      <th>4</th>\n      <td>0.533773</td>\n      <td>0.258996</td>\n    </tr>\n  </tbody>\n</table>\n</div>"
          },
          "metadata": {}
        }
      ],
      "execution_count": 26
    },
    {
      "cell_type": "code",
      "source": "b.iloc[1:5, 0:2]",
      "metadata": {
        "trusted": true
      },
      "outputs": [
        {
          "execution_count": 30,
          "output_type": "execute_result",
          "data": {
            "text/plain": "          A         B\n1  1.050655 -0.214877\n2 -2.302014  0.922851\n3 -1.985287  0.299989\n4  0.533773  0.258996",
            "text/html": "<div>\n<style scoped>\n    .dataframe tbody tr th:only-of-type {\n        vertical-align: middle;\n    }\n\n    .dataframe tbody tr th {\n        vertical-align: top;\n    }\n\n    .dataframe thead th {\n        text-align: right;\n    }\n</style>\n<table border=\"1\" class=\"dataframe\">\n  <thead>\n    <tr style=\"text-align: right;\">\n      <th></th>\n      <th>A</th>\n      <th>B</th>\n    </tr>\n  </thead>\n  <tbody>\n    <tr>\n      <th>1</th>\n      <td>1.050655</td>\n      <td>-0.214877</td>\n    </tr>\n    <tr>\n      <th>2</th>\n      <td>-2.302014</td>\n      <td>0.922851</td>\n    </tr>\n    <tr>\n      <th>3</th>\n      <td>-1.985287</td>\n      <td>0.299989</td>\n    </tr>\n    <tr>\n      <th>4</th>\n      <td>0.533773</td>\n      <td>0.258996</td>\n    </tr>\n  </tbody>\n</table>\n</div>"
          },
          "metadata": {}
        }
      ],
      "execution_count": 30
    },
    {
      "cell_type": "code",
      "source": "s = pd.Series(np.random.randint(0, 7, size=10))",
      "metadata": {
        "trusted": true
      },
      "outputs": [],
      "execution_count": 4
    },
    {
      "cell_type": "code",
      "source": "s",
      "metadata": {
        "trusted": true
      },
      "outputs": [
        {
          "execution_count": 6,
          "output_type": "execute_result",
          "data": {
            "text/plain": "0    5\n1    2\n2    6\n3    4\n4    2\n5    4\n6    2\n7    1\n8    3\n9    4\ndtype: int32"
          },
          "metadata": {}
        }
      ],
      "execution_count": 6
    },
    {
      "cell_type": "code",
      "source": "s.value_counts()",
      "metadata": {
        "trusted": true
      },
      "outputs": [
        {
          "execution_count": 5,
          "output_type": "execute_result",
          "data": {
            "text/plain": "2    3\n4    3\n5    1\n6    1\n1    1\n3    1\ndtype: int64"
          },
          "metadata": {}
        }
      ],
      "execution_count": 5
    },
    {
      "cell_type": "code",
      "source": "c = pd.DataFrame(\n    {\n        \"A\": 1,\n        \"B\": pd.Timestamp(\"20130102\"),\n        \"C\": pd.Series(1, index=list(range(4)), dtype=\"float32\"),\n        \"D\": np.array(3, dtype=\"int32\"),\n        \"E\": (\"test\", \"train\", \"test\", \"train\"),\n        \"F\": \"foo\",\n    }\n)",
      "metadata": {
        "trusted": true
      },
      "outputs": [],
      "execution_count": 4
    },
    {
      "cell_type": "code",
      "source": "c",
      "metadata": {
        "trusted": true
      },
      "outputs": [
        {
          "execution_count": 5,
          "output_type": "execute_result",
          "data": {
            "text/plain": "   A          B    C  D      E    F\n0  1 2013-01-02  1.0  3   test  foo\n1  1 2013-01-02  1.0  3  train  foo\n2  1 2013-01-02  1.0  3   test  foo\n3  1 2013-01-02  1.0  3  train  foo",
            "text/html": "<div>\n<style scoped>\n    .dataframe tbody tr th:only-of-type {\n        vertical-align: middle;\n    }\n\n    .dataframe tbody tr th {\n        vertical-align: top;\n    }\n\n    .dataframe thead th {\n        text-align: right;\n    }\n</style>\n<table border=\"1\" class=\"dataframe\">\n  <thead>\n    <tr style=\"text-align: right;\">\n      <th></th>\n      <th>A</th>\n      <th>B</th>\n      <th>C</th>\n      <th>D</th>\n      <th>E</th>\n      <th>F</th>\n    </tr>\n  </thead>\n  <tbody>\n    <tr>\n      <th>0</th>\n      <td>1</td>\n      <td>2013-01-02</td>\n      <td>1.0</td>\n      <td>3</td>\n      <td>test</td>\n      <td>foo</td>\n    </tr>\n    <tr>\n      <th>1</th>\n      <td>1</td>\n      <td>2013-01-02</td>\n      <td>1.0</td>\n      <td>3</td>\n      <td>train</td>\n      <td>foo</td>\n    </tr>\n    <tr>\n      <th>2</th>\n      <td>1</td>\n      <td>2013-01-02</td>\n      <td>1.0</td>\n      <td>3</td>\n      <td>test</td>\n      <td>foo</td>\n    </tr>\n    <tr>\n      <th>3</th>\n      <td>1</td>\n      <td>2013-01-02</td>\n      <td>1.0</td>\n      <td>3</td>\n      <td>train</td>\n      <td>foo</td>\n    </tr>\n  </tbody>\n</table>\n</div>"
          },
          "metadata": {}
        }
      ],
      "execution_count": 5
    },
    {
      "cell_type": "code",
      "source": "c.dtypes",
      "metadata": {
        "trusted": true
      },
      "outputs": [
        {
          "execution_count": 6,
          "output_type": "execute_result",
          "data": {
            "text/plain": "A             int64\nB    datetime64[ns]\nC           float32\nD             int32\nE            object\nF            object\ndtype: object"
          },
          "metadata": {}
        }
      ],
      "execution_count": 6
    },
    {
      "cell_type": "code",
      "source": "c[c[\"E\"].isin([\"test\"])]",
      "metadata": {
        "trusted": true
      },
      "outputs": [
        {
          "execution_count": 37,
          "output_type": "execute_result",
          "data": {
            "text/plain": "   A          B    C  D     E    F\n0  1 2013-01-02  1.0  3  test  foo\n2  1 2013-01-02  1.0  3  test  foo",
            "text/html": "<div>\n<style scoped>\n    .dataframe tbody tr th:only-of-type {\n        vertical-align: middle;\n    }\n\n    .dataframe tbody tr th {\n        vertical-align: top;\n    }\n\n    .dataframe thead th {\n        text-align: right;\n    }\n</style>\n<table border=\"1\" class=\"dataframe\">\n  <thead>\n    <tr style=\"text-align: right;\">\n      <th></th>\n      <th>A</th>\n      <th>B</th>\n      <th>C</th>\n      <th>D</th>\n      <th>E</th>\n      <th>F</th>\n    </tr>\n  </thead>\n  <tbody>\n    <tr>\n      <th>0</th>\n      <td>1</td>\n      <td>2013-01-02</td>\n      <td>1.0</td>\n      <td>3</td>\n      <td>test</td>\n      <td>foo</td>\n    </tr>\n    <tr>\n      <th>2</th>\n      <td>1</td>\n      <td>2013-01-02</td>\n      <td>1.0</td>\n      <td>3</td>\n      <td>test</td>\n      <td>foo</td>\n    </tr>\n  </tbody>\n</table>\n</div>"
          },
          "metadata": {}
        }
      ],
      "execution_count": 37
    },
    {
      "cell_type": "code",
      "source": "c1 = pd.DataFrame(np.random.randn(6, 4), columns=list(\"ABCD\"))",
      "metadata": {
        "trusted": true
      },
      "outputs": [],
      "execution_count": 20
    },
    {
      "cell_type": "code",
      "source": "c1",
      "metadata": {
        "trusted": true
      },
      "outputs": [
        {
          "execution_count": 21,
          "output_type": "execute_result",
          "data": {
            "text/plain": "          A         B         C         D\n0 -0.592833 -0.835454 -0.578324 -0.087342\n1 -0.033492 -0.295493  0.845445 -1.167904\n2  1.205840  1.277749  1.184784  0.282341\n3  0.485309 -1.456775  0.095387 -1.415438\n4  0.816008  1.453272 -0.675460 -2.348267\n5  0.421184  1.701177 -0.159132  0.481878",
            "text/html": "<div>\n<style scoped>\n    .dataframe tbody tr th:only-of-type {\n        vertical-align: middle;\n    }\n\n    .dataframe tbody tr th {\n        vertical-align: top;\n    }\n\n    .dataframe thead th {\n        text-align: right;\n    }\n</style>\n<table border=\"1\" class=\"dataframe\">\n  <thead>\n    <tr style=\"text-align: right;\">\n      <th></th>\n      <th>A</th>\n      <th>B</th>\n      <th>C</th>\n      <th>D</th>\n    </tr>\n  </thead>\n  <tbody>\n    <tr>\n      <th>0</th>\n      <td>-0.592833</td>\n      <td>-0.835454</td>\n      <td>-0.578324</td>\n      <td>-0.087342</td>\n    </tr>\n    <tr>\n      <th>1</th>\n      <td>-0.033492</td>\n      <td>-0.295493</td>\n      <td>0.845445</td>\n      <td>-1.167904</td>\n    </tr>\n    <tr>\n      <th>2</th>\n      <td>1.205840</td>\n      <td>1.277749</td>\n      <td>1.184784</td>\n      <td>0.282341</td>\n    </tr>\n    <tr>\n      <th>3</th>\n      <td>0.485309</td>\n      <td>-1.456775</td>\n      <td>0.095387</td>\n      <td>-1.415438</td>\n    </tr>\n    <tr>\n      <th>4</th>\n      <td>0.816008</td>\n      <td>1.453272</td>\n      <td>-0.675460</td>\n      <td>-2.348267</td>\n    </tr>\n    <tr>\n      <th>5</th>\n      <td>0.421184</td>\n      <td>1.701177</td>\n      <td>-0.159132</td>\n      <td>0.481878</td>\n    </tr>\n  </tbody>\n</table>\n</div>"
          },
          "metadata": {}
        }
      ],
      "execution_count": 21
    },
    {
      "cell_type": "code",
      "source": "left = pd.DataFrame({\"key\": [\"foo\", \"bar\"], \"lval\": [1, 2]})",
      "metadata": {
        "trusted": true
      },
      "outputs": [],
      "execution_count": 7
    },
    {
      "cell_type": "code",
      "source": "right = pd.DataFrame({\"key\": [\"foo\", \"bar\"], \"rval\": [4, 5]})",
      "metadata": {
        "trusted": true
      },
      "outputs": [],
      "execution_count": 8
    },
    {
      "cell_type": "code",
      "source": "left",
      "metadata": {
        "trusted": true
      },
      "outputs": [
        {
          "execution_count": 9,
          "output_type": "execute_result",
          "data": {
            "text/plain": "   key  lval\n0  foo     1\n1  bar     2",
            "text/html": "<div>\n<style scoped>\n    .dataframe tbody tr th:only-of-type {\n        vertical-align: middle;\n    }\n\n    .dataframe tbody tr th {\n        vertical-align: top;\n    }\n\n    .dataframe thead th {\n        text-align: right;\n    }\n</style>\n<table border=\"1\" class=\"dataframe\">\n  <thead>\n    <tr style=\"text-align: right;\">\n      <th></th>\n      <th>key</th>\n      <th>lval</th>\n    </tr>\n  </thead>\n  <tbody>\n    <tr>\n      <th>0</th>\n      <td>foo</td>\n      <td>1</td>\n    </tr>\n    <tr>\n      <th>1</th>\n      <td>bar</td>\n      <td>2</td>\n    </tr>\n  </tbody>\n</table>\n</div>"
          },
          "metadata": {}
        }
      ],
      "execution_count": 9
    },
    {
      "cell_type": "code",
      "source": "right",
      "metadata": {
        "trusted": true
      },
      "outputs": [
        {
          "execution_count": 10,
          "output_type": "execute_result",
          "data": {
            "text/plain": "   key  rval\n0  foo     4\n1  bar     5",
            "text/html": "<div>\n<style scoped>\n    .dataframe tbody tr th:only-of-type {\n        vertical-align: middle;\n    }\n\n    .dataframe tbody tr th {\n        vertical-align: top;\n    }\n\n    .dataframe thead th {\n        text-align: right;\n    }\n</style>\n<table border=\"1\" class=\"dataframe\">\n  <thead>\n    <tr style=\"text-align: right;\">\n      <th></th>\n      <th>key</th>\n      <th>rval</th>\n    </tr>\n  </thead>\n  <tbody>\n    <tr>\n      <th>0</th>\n      <td>foo</td>\n      <td>4</td>\n    </tr>\n    <tr>\n      <th>1</th>\n      <td>bar</td>\n      <td>5</td>\n    </tr>\n  </tbody>\n</table>\n</div>"
          },
          "metadata": {}
        }
      ],
      "execution_count": 10
    },
    {
      "cell_type": "code",
      "source": "pd.merge(left, right, on=\"key\")",
      "metadata": {
        "trusted": true
      },
      "outputs": [
        {
          "execution_count": 11,
          "output_type": "execute_result",
          "data": {
            "text/plain": "   key  lval  rval\n0  foo     1     4\n1  bar     2     5",
            "text/html": "<div>\n<style scoped>\n    .dataframe tbody tr th:only-of-type {\n        vertical-align: middle;\n    }\n\n    .dataframe tbody tr th {\n        vertical-align: top;\n    }\n\n    .dataframe thead th {\n        text-align: right;\n    }\n</style>\n<table border=\"1\" class=\"dataframe\">\n  <thead>\n    <tr style=\"text-align: right;\">\n      <th></th>\n      <th>key</th>\n      <th>lval</th>\n      <th>rval</th>\n    </tr>\n  </thead>\n  <tbody>\n    <tr>\n      <th>0</th>\n      <td>foo</td>\n      <td>1</td>\n      <td>4</td>\n    </tr>\n    <tr>\n      <th>1</th>\n      <td>bar</td>\n      <td>2</td>\n      <td>5</td>\n    </tr>\n  </tbody>\n</table>\n</div>"
          },
          "metadata": {}
        }
      ],
      "execution_count": 11
    },
    {
      "cell_type": "code",
      "source": "v = pd.DataFrame(\n    {\n        \"A\": [\"foo\", \"bar\", \"foo\", \"bar\", \"foo\", \"bar\", \"foo\", \"foo\"],\n        \"B\": [\"one\", \"one\", \"two\", \"three\", \"two\", \"two\", \"one\", \"three\"],\n        \"C\": np.random.randn(8),\n        \"D\": np.random.randn(8),\n    }\n)",
      "metadata": {
        "trusted": true
      },
      "outputs": [],
      "execution_count": 14
    },
    {
      "cell_type": "code",
      "source": "v",
      "metadata": {
        "trusted": true
      },
      "outputs": [
        {
          "execution_count": 15,
          "output_type": "execute_result",
          "data": {
            "text/plain": "     A      B         C         D\n0  foo    one  2.271057  0.984604\n1  bar    one -0.828980  0.471948\n2  foo    two  1.391815  0.995188\n3  bar  three -0.629609 -1.935515\n4  foo    two  0.912403  0.404465\n5  bar    two -0.268190  1.002543\n6  foo    one  0.620627 -0.091519\n7  foo  three -0.664161 -0.150082",
            "text/html": "<div>\n<style scoped>\n    .dataframe tbody tr th:only-of-type {\n        vertical-align: middle;\n    }\n\n    .dataframe tbody tr th {\n        vertical-align: top;\n    }\n\n    .dataframe thead th {\n        text-align: right;\n    }\n</style>\n<table border=\"1\" class=\"dataframe\">\n  <thead>\n    <tr style=\"text-align: right;\">\n      <th></th>\n      <th>A</th>\n      <th>B</th>\n      <th>C</th>\n      <th>D</th>\n    </tr>\n  </thead>\n  <tbody>\n    <tr>\n      <th>0</th>\n      <td>foo</td>\n      <td>one</td>\n      <td>2.271057</td>\n      <td>0.984604</td>\n    </tr>\n    <tr>\n      <th>1</th>\n      <td>bar</td>\n      <td>one</td>\n      <td>-0.828980</td>\n      <td>0.471948</td>\n    </tr>\n    <tr>\n      <th>2</th>\n      <td>foo</td>\n      <td>two</td>\n      <td>1.391815</td>\n      <td>0.995188</td>\n    </tr>\n    <tr>\n      <th>3</th>\n      <td>bar</td>\n      <td>three</td>\n      <td>-0.629609</td>\n      <td>-1.935515</td>\n    </tr>\n    <tr>\n      <th>4</th>\n      <td>foo</td>\n      <td>two</td>\n      <td>0.912403</td>\n      <td>0.404465</td>\n    </tr>\n    <tr>\n      <th>5</th>\n      <td>bar</td>\n      <td>two</td>\n      <td>-0.268190</td>\n      <td>1.002543</td>\n    </tr>\n    <tr>\n      <th>6</th>\n      <td>foo</td>\n      <td>one</td>\n      <td>0.620627</td>\n      <td>-0.091519</td>\n    </tr>\n    <tr>\n      <th>7</th>\n      <td>foo</td>\n      <td>three</td>\n      <td>-0.664161</td>\n      <td>-0.150082</td>\n    </tr>\n  </tbody>\n</table>\n</div>"
          },
          "metadata": {}
        }
      ],
      "execution_count": 15
    },
    {
      "cell_type": "code",
      "source": "v.groupby([\"A\", \"B\"]).sum()",
      "metadata": {
        "trusted": true
      },
      "outputs": [
        {
          "execution_count": 18,
          "output_type": "execute_result",
          "data": {
            "text/plain": "                  C         D\nA   B                        \nbar one   -0.828980  0.471948\n    three -0.629609 -1.935515\n    two   -0.268190  1.002543\nfoo one    2.891683  0.893085\n    three -0.664161 -0.150082\n    two    2.304218  1.399653",
            "text/html": "<div>\n<style scoped>\n    .dataframe tbody tr th:only-of-type {\n        vertical-align: middle;\n    }\n\n    .dataframe tbody tr th {\n        vertical-align: top;\n    }\n\n    .dataframe thead th {\n        text-align: right;\n    }\n</style>\n<table border=\"1\" class=\"dataframe\">\n  <thead>\n    <tr style=\"text-align: right;\">\n      <th></th>\n      <th></th>\n      <th>C</th>\n      <th>D</th>\n    </tr>\n    <tr>\n      <th>A</th>\n      <th>B</th>\n      <th></th>\n      <th></th>\n    </tr>\n  </thead>\n  <tbody>\n    <tr>\n      <th rowspan=\"3\" valign=\"top\">bar</th>\n      <th>one</th>\n      <td>-0.828980</td>\n      <td>0.471948</td>\n    </tr>\n    <tr>\n      <th>three</th>\n      <td>-0.629609</td>\n      <td>-1.935515</td>\n    </tr>\n    <tr>\n      <th>two</th>\n      <td>-0.268190</td>\n      <td>1.002543</td>\n    </tr>\n    <tr>\n      <th rowspan=\"3\" valign=\"top\">foo</th>\n      <th>one</th>\n      <td>2.891683</td>\n      <td>0.893085</td>\n    </tr>\n    <tr>\n      <th>three</th>\n      <td>-0.664161</td>\n      <td>-0.150082</td>\n    </tr>\n    <tr>\n      <th>two</th>\n      <td>2.304218</td>\n      <td>1.399653</td>\n    </tr>\n  </tbody>\n</table>\n</div>"
          },
          "metadata": {}
        }
      ],
      "execution_count": 18
    },
    {
      "cell_type": "code",
      "source": "v.groupby(\"A\")[[\"C\", \"D\"]].sum()",
      "metadata": {
        "trusted": true
      },
      "outputs": [
        {
          "execution_count": 17,
          "output_type": "execute_result",
          "data": {
            "text/plain": "            C         D\nA                      \nbar -1.726779 -0.461025\nfoo  4.531740  2.142656",
            "text/html": "<div>\n<style scoped>\n    .dataframe tbody tr th:only-of-type {\n        vertical-align: middle;\n    }\n\n    .dataframe tbody tr th {\n        vertical-align: top;\n    }\n\n    .dataframe thead th {\n        text-align: right;\n    }\n</style>\n<table border=\"1\" class=\"dataframe\">\n  <thead>\n    <tr style=\"text-align: right;\">\n      <th></th>\n      <th>C</th>\n      <th>D</th>\n    </tr>\n    <tr>\n      <th>A</th>\n      <th></th>\n      <th></th>\n    </tr>\n  </thead>\n  <tbody>\n    <tr>\n      <th>bar</th>\n      <td>-1.726779</td>\n      <td>-0.461025</td>\n    </tr>\n    <tr>\n      <th>foo</th>\n      <td>4.531740</td>\n      <td>2.142656</td>\n    </tr>\n  </tbody>\n</table>\n</div>"
          },
          "metadata": {}
        }
      ],
      "execution_count": 17
    },
    {
      "cell_type": "code",
      "source": "import matplotlib.pyplot as plt",
      "metadata": {
        "trusted": true
      },
      "outputs": [],
      "execution_count": 29
    },
    {
      "cell_type": "code",
      "source": "plt.close(\"all\")",
      "metadata": {
        "trusted": true
      },
      "outputs": [],
      "execution_count": 30
    },
    {
      "cell_type": "code",
      "source": "ts = pd.Series(np.random.randn(1000), index=pd.date_range(\"1/1/2000\", periods=1000))",
      "metadata": {
        "trusted": true
      },
      "outputs": [],
      "execution_count": 31
    },
    {
      "cell_type": "code",
      "source": "ts = ts.cumsum()",
      "metadata": {
        "trusted": true
      },
      "outputs": [],
      "execution_count": 32
    },
    {
      "cell_type": "code",
      "source": "ts.plot()",
      "metadata": {
        "trusted": true
      },
      "outputs": [
        {
          "execution_count": 33,
          "output_type": "execute_result",
          "data": {
            "text/plain": "<AxesSubplot:>"
          },
          "metadata": {}
        },
        {
          "output_type": "display_data",
          "data": {
            "text/plain": "<Figure size 640x480 with 1 Axes>",
            "image/png": "[encoded data removed]"
          },
          "metadata": {}
        }
      ],
      "execution_count": 33
    },
    {
      "cell_type": "code",
      "source": "df = pd.DataFrame(\n    np.random.randn(1000, 4), index=ts.index, columns=[\"A\", \"B\", \"C\", \"D\"]\n)",
      "metadata": {
        "trusted": true
      },
      "outputs": [],
      "execution_count": 48
    },
    {
      "cell_type": "code",
      "source": "df = df.cumsum()",
      "metadata": {
        "trusted": true
      },
      "outputs": [],
      "execution_count": 49
    },
    {
      "cell_type": "code",
      "source": "plt.figure()",
      "metadata": {
        "trusted": true
      },
      "outputs": [
        {
          "execution_count": 50,
          "output_type": "execute_result",
          "data": {
            "text/plain": "<Figure size 640x480 with 0 Axes>"
          },
          "metadata": {}
        },
        {
          "output_type": "display_data",
          "data": {
            "text/plain": "<Figure size 640x480 with 0 Axes>"
          },
          "metadata": {}
        }
      ],
      "execution_count": 50
    },
    {
      "cell_type": "code",
      "source": "df.plot();",
      "metadata": {
        "trusted": true
      },
      "outputs": [
        {
          "output_type": "display_data",
          "data": {
            "text/plain": "<Figure size 640x480 with 1 Axes>",
            "image/png": "[encoded data removed]"
          },
          "metadata": {}
        }
      ],
      "execution_count": 51
    },
    {
      "cell_type": "code",
      "source": "n = pd.DataFrame(np.random.randint(0, 5, (10, 5)))",
      "metadata": {
        "trusted": true
      },
      "outputs": [],
      "execution_count": 52
    },
    {
      "cell_type": "code",
      "source": "n.to_csv(\"foo.csv\")",
      "metadata": {
        "trusted": true
      },
      "outputs": [],
      "execution_count": 59
    },
    {
      "cell_type": "code",
      "source": "pd.read_csv(\"foo.csv\")",
      "metadata": {
        "trusted": true
      },
      "outputs": [
        {
          "execution_count": 58,
          "output_type": "execute_result",
          "data": {
            "text/plain": "   Unnamed: 0  0  1  2  3  4\n0           0  3  0  2  2  2\n1           1  3  1  0  2  0\n2           2  2  3  1  4  2\n3           3  0  1  0  0  3\n4           4  3  3  3  2  0\n5           5  3  1  0  1  0\n6           6  2  3  3  3  2\n7           7  3  3  0  4  2\n8           8  4  1  4  3  4\n9           9  0  0  1  2  3",
            "text/html": "<div>\n<style scoped>\n    .dataframe tbody tr th:only-of-type {\n        vertical-align: middle;\n    }\n\n    .dataframe tbody tr th {\n        vertical-align: top;\n    }\n\n    .dataframe thead th {\n        text-align: right;\n    }\n</style>\n<table border=\"1\" class=\"dataframe\">\n  <thead>\n    <tr style=\"text-align: right;\">\n      <th></th>\n      <th>Unnamed: 0</th>\n      <th>0</th>\n      <th>1</th>\n      <th>2</th>\n      <th>3</th>\n      <th>4</th>\n    </tr>\n  </thead>\n  <tbody>\n    <tr>\n      <th>0</th>\n      <td>0</td>\n      <td>3</td>\n      <td>0</td>\n      <td>2</td>\n      <td>2</td>\n      <td>2</td>\n    </tr>\n    <tr>\n      <th>1</th>\n      <td>1</td>\n      <td>3</td>\n      <td>1</td>\n      <td>0</td>\n      <td>2</td>\n      <td>0</td>\n    </tr>\n    <tr>\n      <th>2</th>\n      <td>2</td>\n      <td>2</td>\n      <td>3</td>\n      <td>1</td>\n      <td>4</td>\n      <td>2</td>\n    </tr>\n    <tr>\n      <th>3</th>\n      <td>3</td>\n      <td>0</td>\n      <td>1</td>\n      <td>0</td>\n      <td>0</td>\n      <td>3</td>\n    </tr>\n    <tr>\n      <th>4</th>\n      <td>4</td>\n      <td>3</td>\n      <td>3</td>\n      <td>3</td>\n      <td>2</td>\n      <td>0</td>\n    </tr>\n    <tr>\n      <th>5</th>\n      <td>5</td>\n      <td>3</td>\n      <td>1</td>\n      <td>0</td>\n      <td>1</td>\n      <td>0</td>\n    </tr>\n    <tr>\n      <th>6</th>\n      <td>6</td>\n      <td>2</td>\n      <td>3</td>\n      <td>3</td>\n      <td>3</td>\n      <td>2</td>\n    </tr>\n    <tr>\n      <th>7</th>\n      <td>7</td>\n      <td>3</td>\n      <td>3</td>\n      <td>0</td>\n      <td>4</td>\n      <td>2</td>\n    </tr>\n    <tr>\n      <th>8</th>\n      <td>8</td>\n      <td>4</td>\n      <td>1</td>\n      <td>4</td>\n      <td>3</td>\n      <td>4</td>\n    </tr>\n    <tr>\n      <th>9</th>\n      <td>9</td>\n      <td>0</td>\n      <td>0</td>\n      <td>1</td>\n      <td>2</td>\n      <td>3</td>\n    </tr>\n  </tbody>\n</table>\n</div>"
          },
          "metadata": {}
        }
      ],
      "execution_count": 58
    },
    {
      "cell_type": "code",
      "source": "",
      "metadata": {
        "trusted": true
      },
      "outputs": [],
      "execution_count": null
    }
  ]
}