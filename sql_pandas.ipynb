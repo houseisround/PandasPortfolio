{
  "metadata": {
    "kernelspec": {
      "name": "python",
      "display_name": "Python (Pyodide)",
      "language": "python"
    },
    "language_info": {
      "codemirror_mode": {
        "name": "python",
        "version": 3
      },
      "file_extension": ".py",
      "mimetype": "text/x-python",
      "name": "python",
      "nbconvert_exporter": "python",
      "pygments_lexer": "ipython3",
      "version": "3.8"
    }
  },
  "nbformat_minor": 4,
  "nbformat": 4,
  "cells": [
    {
      "cell_type": "code",
      "source": "import pandas as pd",
      "metadata": {
        "trusted": true
      },
      "outputs": [],
      "execution_count": 4
    },
    {
      "cell_type": "code",
      "source": "import numpy as np",
      "metadata": {
        "trusted": true
      },
      "outputs": [],
      "execution_count": 5
    },
    {
      "cell_type": "code",
      "source": "pk = pd.read_csv('pokemon_data.csv')",
      "metadata": {
        "trusted": true
      },
      "outputs": [],
      "execution_count": 6
    },
    {
      "cell_type": "code",
      "source": "pk",
      "metadata": {
        "trusted": true
      },
      "outputs": [
        {
          "execution_count": 6,
          "output_type": "execute_result",
          "data": {
            "text/plain": "       #                   Name   Type 1  Type 2  HP  Attack  Defense  \\\n0      1              Bulbasaur    Grass  Poison  45      49       49   \n1      2                Ivysaur    Grass  Poison  60      62       63   \n2      3               Venusaur    Grass  Poison  80      82       83   \n3      3  VenusaurMega Venusaur    Grass  Poison  80     100      123   \n4      4             Charmander     Fire     NaN  39      52       43   \n..   ...                    ...      ...     ...  ..     ...      ...   \n795  719                Diancie     Rock   Fairy  50     100      150   \n796  719    DiancieMega Diancie     Rock   Fairy  50     160      110   \n797  720    HoopaHoopa Confined  Psychic   Ghost  80     110       60   \n798  720     HoopaHoopa Unbound  Psychic    Dark  80     160       60   \n799  721              Volcanion     Fire   Water  80     110      120   \n\n     Sp. Atk  Sp. Def  Speed  Generation  Legendary  \n0         65       65     45           1      False  \n1         80       80     60           1      False  \n2        100      100     80           1      False  \n3        122      120     80           1      False  \n4         60       50     65           1      False  \n..       ...      ...    ...         ...        ...  \n795      100      150     50           6       True  \n796      160      110    110           6       True  \n797      150      130     70           6       True  \n798      170      130     80           6       True  \n799      130       90     70           6       True  \n\n[800 rows x 12 columns]",
            "text/html": "<div>\n<style scoped>\n    .dataframe tbody tr th:only-of-type {\n        vertical-align: middle;\n    }\n\n    .dataframe tbody tr th {\n        vertical-align: top;\n    }\n\n    .dataframe thead th {\n        text-align: right;\n    }\n</style>\n<table border=\"1\" class=\"dataframe\">\n  <thead>\n    <tr style=\"text-align: right;\">\n      <th></th>\n      <th>#</th>\n      <th>Name</th>\n      <th>Type 1</th>\n      <th>Type 2</th>\n      <th>HP</th>\n      <th>Attack</th>\n      <th>Defense</th>\n      <th>Sp. Atk</th>\n      <th>Sp. Def</th>\n      <th>Speed</th>\n      <th>Generation</th>\n      <th>Legendary</th>\n    </tr>\n  </thead>\n  <tbody>\n    <tr>\n      <th>0</th>\n      <td>1</td>\n      <td>Bulbasaur</td>\n      <td>Grass</td>\n      <td>Poison</td>\n      <td>45</td>\n      <td>49</td>\n      <td>49</td>\n      <td>65</td>\n      <td>65</td>\n      <td>45</td>\n      <td>1</td>\n      <td>False</td>\n    </tr>\n    <tr>\n      <th>1</th>\n      <td>2</td>\n      <td>Ivysaur</td>\n      <td>Grass</td>\n      <td>Poison</td>\n      <td>60</td>\n      <td>62</td>\n      <td>63</td>\n      <td>80</td>\n      <td>80</td>\n      <td>60</td>\n      <td>1</td>\n      <td>False</td>\n    </tr>\n    <tr>\n      <th>2</th>\n      <td>3</td>\n      <td>Venusaur</td>\n      <td>Grass</td>\n      <td>Poison</td>\n      <td>80</td>\n      <td>82</td>\n      <td>83</td>\n      <td>100</td>\n      <td>100</td>\n      <td>80</td>\n      <td>1</td>\n      <td>False</td>\n    </tr>\n    <tr>\n      <th>3</th>\n      <td>3</td>\n      <td>VenusaurMega Venusaur</td>\n      <td>Grass</td>\n      <td>Poison</td>\n      <td>80</td>\n      <td>100</td>\n      <td>123</td>\n      <td>122</td>\n      <td>120</td>\n      <td>80</td>\n      <td>1</td>\n      <td>False</td>\n    </tr>\n    <tr>\n      <th>4</th>\n      <td>4</td>\n      <td>Charmander</td>\n      <td>Fire</td>\n      <td>NaN</td>\n      <td>39</td>\n      <td>52</td>\n      <td>43</td>\n      <td>60</td>\n      <td>50</td>\n      <td>65</td>\n      <td>1</td>\n      <td>False</td>\n    </tr>\n    <tr>\n      <th>...</th>\n      <td>...</td>\n      <td>...</td>\n      <td>...</td>\n      <td>...</td>\n      <td>...</td>\n      <td>...</td>\n      <td>...</td>\n      <td>...</td>\n      <td>...</td>\n      <td>...</td>\n      <td>...</td>\n      <td>...</td>\n    </tr>\n    <tr>\n      <th>795</th>\n      <td>719</td>\n      <td>Diancie</td>\n      <td>Rock</td>\n      <td>Fairy</td>\n      <td>50</td>\n      <td>100</td>\n      <td>150</td>\n      <td>100</td>\n      <td>150</td>\n      <td>50</td>\n      <td>6</td>\n      <td>True</td>\n    </tr>\n    <tr>\n      <th>796</th>\n      <td>719</td>\n      <td>DiancieMega Diancie</td>\n      <td>Rock</td>\n      <td>Fairy</td>\n      <td>50</td>\n      <td>160</td>\n      <td>110</td>\n      <td>160</td>\n      <td>110</td>\n      <td>110</td>\n      <td>6</td>\n      <td>True</td>\n    </tr>\n    <tr>\n      <th>797</th>\n      <td>720</td>\n      <td>HoopaHoopa Confined</td>\n      <td>Psychic</td>\n      <td>Ghost</td>\n      <td>80</td>\n      <td>110</td>\n      <td>60</td>\n      <td>150</td>\n      <td>130</td>\n      <td>70</td>\n      <td>6</td>\n      <td>True</td>\n    </tr>\n    <tr>\n      <th>798</th>\n      <td>720</td>\n      <td>HoopaHoopa Unbound</td>\n      <td>Psychic</td>\n      <td>Dark</td>\n      <td>80</td>\n      <td>160</td>\n      <td>60</td>\n      <td>170</td>\n      <td>130</td>\n      <td>80</td>\n      <td>6</td>\n      <td>True</td>\n    </tr>\n    <tr>\n      <th>799</th>\n      <td>721</td>\n      <td>Volcanion</td>\n      <td>Fire</td>\n      <td>Water</td>\n      <td>80</td>\n      <td>110</td>\n      <td>120</td>\n      <td>130</td>\n      <td>90</td>\n      <td>70</td>\n      <td>6</td>\n      <td>True</td>\n    </tr>\n  </tbody>\n</table>\n<p>800 rows × 12 columns</p>\n</div>"
          },
          "metadata": {}
        }
      ],
      "execution_count": 6
    },
    {
      "cell_type": "code",
      "source": "select Name, Type 1, Type 2 \nfrom pk",
      "metadata": {
        "trusted": true
      },
      "outputs": [],
      "execution_count": null
    },
    {
      "cell_type": "code",
      "source": "pk[['Name', 'Type 1', 'Type 2']]",
      "metadata": {
        "trusted": true
      },
      "outputs": [
        {
          "execution_count": 8,
          "output_type": "execute_result",
          "data": {
            "text/plain": "                      Name   Type 1  Type 2\n0                Bulbasaur    Grass  Poison\n1                  Ivysaur    Grass  Poison\n2                 Venusaur    Grass  Poison\n3    VenusaurMega Venusaur    Grass  Poison\n4               Charmander     Fire     NaN\n..                     ...      ...     ...\n795                Diancie     Rock   Fairy\n796    DiancieMega Diancie     Rock   Fairy\n797    HoopaHoopa Confined  Psychic   Ghost\n798     HoopaHoopa Unbound  Psychic    Dark\n799              Volcanion     Fire   Water\n\n[800 rows x 3 columns]",
            "text/html": "<div>\n<style scoped>\n    .dataframe tbody tr th:only-of-type {\n        vertical-align: middle;\n    }\n\n    .dataframe tbody tr th {\n        vertical-align: top;\n    }\n\n    .dataframe thead th {\n        text-align: right;\n    }\n</style>\n<table border=\"1\" class=\"dataframe\">\n  <thead>\n    <tr style=\"text-align: right;\">\n      <th></th>\n      <th>Name</th>\n      <th>Type 1</th>\n      <th>Type 2</th>\n    </tr>\n  </thead>\n  <tbody>\n    <tr>\n      <th>0</th>\n      <td>Bulbasaur</td>\n      <td>Grass</td>\n      <td>Poison</td>\n    </tr>\n    <tr>\n      <th>1</th>\n      <td>Ivysaur</td>\n      <td>Grass</td>\n      <td>Poison</td>\n    </tr>\n    <tr>\n      <th>2</th>\n      <td>Venusaur</td>\n      <td>Grass</td>\n      <td>Poison</td>\n    </tr>\n    <tr>\n      <th>3</th>\n      <td>VenusaurMega Venusaur</td>\n      <td>Grass</td>\n      <td>Poison</td>\n    </tr>\n    <tr>\n      <th>4</th>\n      <td>Charmander</td>\n      <td>Fire</td>\n      <td>NaN</td>\n    </tr>\n    <tr>\n      <th>...</th>\n      <td>...</td>\n      <td>...</td>\n      <td>...</td>\n    </tr>\n    <tr>\n      <th>795</th>\n      <td>Diancie</td>\n      <td>Rock</td>\n      <td>Fairy</td>\n    </tr>\n    <tr>\n      <th>796</th>\n      <td>DiancieMega Diancie</td>\n      <td>Rock</td>\n      <td>Fairy</td>\n    </tr>\n    <tr>\n      <th>797</th>\n      <td>HoopaHoopa Confined</td>\n      <td>Psychic</td>\n      <td>Ghost</td>\n    </tr>\n    <tr>\n      <th>798</th>\n      <td>HoopaHoopa Unbound</td>\n      <td>Psychic</td>\n      <td>Dark</td>\n    </tr>\n    <tr>\n      <th>799</th>\n      <td>Volcanion</td>\n      <td>Fire</td>\n      <td>Water</td>\n    </tr>\n  </tbody>\n</table>\n<p>800 rows × 3 columns</p>\n</div>"
          },
          "metadata": {}
        }
      ],
      "execution_count": 8
    },
    {
      "cell_type": "code",
      "source": "pk[['Name', 'HP', 'Attack', 'Defense', 'Speed']]",
      "metadata": {
        "trusted": true
      },
      "outputs": [
        {
          "execution_count": 12,
          "output_type": "execute_result",
          "data": {
            "text/plain": "                      Name  HP  Attack  Defense  Speed\n0                Bulbasaur  45      49       49     45\n1                  Ivysaur  60      62       63     60\n2                 Venusaur  80      82       83     80\n3    VenusaurMega Venusaur  80     100      123     80\n4               Charmander  39      52       43     65\n..                     ...  ..     ...      ...    ...\n795                Diancie  50     100      150     50\n796    DiancieMega Diancie  50     160      110    110\n797    HoopaHoopa Confined  80     110       60     70\n798     HoopaHoopa Unbound  80     160       60     80\n799              Volcanion  80     110      120     70\n\n[800 rows x 5 columns]",
            "text/html": "<div>\n<style scoped>\n    .dataframe tbody tr th:only-of-type {\n        vertical-align: middle;\n    }\n\n    .dataframe tbody tr th {\n        vertical-align: top;\n    }\n\n    .dataframe thead th {\n        text-align: right;\n    }\n</style>\n<table border=\"1\" class=\"dataframe\">\n  <thead>\n    <tr style=\"text-align: right;\">\n      <th></th>\n      <th>Name</th>\n      <th>HP</th>\n      <th>Attack</th>\n      <th>Defense</th>\n      <th>Speed</th>\n    </tr>\n  </thead>\n  <tbody>\n    <tr>\n      <th>0</th>\n      <td>Bulbasaur</td>\n      <td>45</td>\n      <td>49</td>\n      <td>49</td>\n      <td>45</td>\n    </tr>\n    <tr>\n      <th>1</th>\n      <td>Ivysaur</td>\n      <td>60</td>\n      <td>62</td>\n      <td>63</td>\n      <td>60</td>\n    </tr>\n    <tr>\n      <th>2</th>\n      <td>Venusaur</td>\n      <td>80</td>\n      <td>82</td>\n      <td>83</td>\n      <td>80</td>\n    </tr>\n    <tr>\n      <th>3</th>\n      <td>VenusaurMega Venusaur</td>\n      <td>80</td>\n      <td>100</td>\n      <td>123</td>\n      <td>80</td>\n    </tr>\n    <tr>\n      <th>4</th>\n      <td>Charmander</td>\n      <td>39</td>\n      <td>52</td>\n      <td>43</td>\n      <td>65</td>\n    </tr>\n    <tr>\n      <th>...</th>\n      <td>...</td>\n      <td>...</td>\n      <td>...</td>\n      <td>...</td>\n      <td>...</td>\n    </tr>\n    <tr>\n      <th>795</th>\n      <td>Diancie</td>\n      <td>50</td>\n      <td>100</td>\n      <td>150</td>\n      <td>50</td>\n    </tr>\n    <tr>\n      <th>796</th>\n      <td>DiancieMega Diancie</td>\n      <td>50</td>\n      <td>160</td>\n      <td>110</td>\n      <td>110</td>\n    </tr>\n    <tr>\n      <th>797</th>\n      <td>HoopaHoopa Confined</td>\n      <td>80</td>\n      <td>110</td>\n      <td>60</td>\n      <td>70</td>\n    </tr>\n    <tr>\n      <th>798</th>\n      <td>HoopaHoopa Unbound</td>\n      <td>80</td>\n      <td>160</td>\n      <td>60</td>\n      <td>80</td>\n    </tr>\n    <tr>\n      <th>799</th>\n      <td>Volcanion</td>\n      <td>80</td>\n      <td>110</td>\n      <td>120</td>\n      <td>70</td>\n    </tr>\n  </tbody>\n</table>\n<p>800 rows × 5 columns</p>\n</div>"
          },
          "metadata": {}
        }
      ],
      "execution_count": 12
    },
    {
      "cell_type": "code",
      "source": "pk[['#', 'Type 1', 'Type 2', 'HP', 'Attack', 'Generation', 'Legendary']]",
      "metadata": {
        "trusted": true
      },
      "outputs": [
        {
          "execution_count": 13,
          "output_type": "execute_result",
          "data": {
            "text/plain": "       #   Type 1  Type 2  HP  Attack  Generation  Legendary\n0      1    Grass  Poison  45      49           1      False\n1      2    Grass  Poison  60      62           1      False\n2      3    Grass  Poison  80      82           1      False\n3      3    Grass  Poison  80     100           1      False\n4      4     Fire     NaN  39      52           1      False\n..   ...      ...     ...  ..     ...         ...        ...\n795  719     Rock   Fairy  50     100           6       True\n796  719     Rock   Fairy  50     160           6       True\n797  720  Psychic   Ghost  80     110           6       True\n798  720  Psychic    Dark  80     160           6       True\n799  721     Fire   Water  80     110           6       True\n\n[800 rows x 7 columns]",
            "text/html": "<div>\n<style scoped>\n    .dataframe tbody tr th:only-of-type {\n        vertical-align: middle;\n    }\n\n    .dataframe tbody tr th {\n        vertical-align: top;\n    }\n\n    .dataframe thead th {\n        text-align: right;\n    }\n</style>\n<table border=\"1\" class=\"dataframe\">\n  <thead>\n    <tr style=\"text-align: right;\">\n      <th></th>\n      <th>#</th>\n      <th>Type 1</th>\n      <th>Type 2</th>\n      <th>HP</th>\n      <th>Attack</th>\n      <th>Generation</th>\n      <th>Legendary</th>\n    </tr>\n  </thead>\n  <tbody>\n    <tr>\n      <th>0</th>\n      <td>1</td>\n      <td>Grass</td>\n      <td>Poison</td>\n      <td>45</td>\n      <td>49</td>\n      <td>1</td>\n      <td>False</td>\n    </tr>\n    <tr>\n      <th>1</th>\n      <td>2</td>\n      <td>Grass</td>\n      <td>Poison</td>\n      <td>60</td>\n      <td>62</td>\n      <td>1</td>\n      <td>False</td>\n    </tr>\n    <tr>\n      <th>2</th>\n      <td>3</td>\n      <td>Grass</td>\n      <td>Poison</td>\n      <td>80</td>\n      <td>82</td>\n      <td>1</td>\n      <td>False</td>\n    </tr>\n    <tr>\n      <th>3</th>\n      <td>3</td>\n      <td>Grass</td>\n      <td>Poison</td>\n      <td>80</td>\n      <td>100</td>\n      <td>1</td>\n      <td>False</td>\n    </tr>\n    <tr>\n      <th>4</th>\n      <td>4</td>\n      <td>Fire</td>\n      <td>NaN</td>\n      <td>39</td>\n      <td>52</td>\n      <td>1</td>\n      <td>False</td>\n    </tr>\n    <tr>\n      <th>...</th>\n      <td>...</td>\n      <td>...</td>\n      <td>...</td>\n      <td>...</td>\n      <td>...</td>\n      <td>...</td>\n      <td>...</td>\n    </tr>\n    <tr>\n      <th>795</th>\n      <td>719</td>\n      <td>Rock</td>\n      <td>Fairy</td>\n      <td>50</td>\n      <td>100</td>\n      <td>6</td>\n      <td>True</td>\n    </tr>\n    <tr>\n      <th>796</th>\n      <td>719</td>\n      <td>Rock</td>\n      <td>Fairy</td>\n      <td>50</td>\n      <td>160</td>\n      <td>6</td>\n      <td>True</td>\n    </tr>\n    <tr>\n      <th>797</th>\n      <td>720</td>\n      <td>Psychic</td>\n      <td>Ghost</td>\n      <td>80</td>\n      <td>110</td>\n      <td>6</td>\n      <td>True</td>\n    </tr>\n    <tr>\n      <th>798</th>\n      <td>720</td>\n      <td>Psychic</td>\n      <td>Dark</td>\n      <td>80</td>\n      <td>160</td>\n      <td>6</td>\n      <td>True</td>\n    </tr>\n    <tr>\n      <th>799</th>\n      <td>721</td>\n      <td>Fire</td>\n      <td>Water</td>\n      <td>80</td>\n      <td>110</td>\n      <td>6</td>\n      <td>True</td>\n    </tr>\n  </tbody>\n</table>\n<p>800 rows × 7 columns</p>\n</div>"
          },
          "metadata": {}
        }
      ],
      "execution_count": 13
    },
    {
      "cell_type": "code",
      "source": "pk[['Name', 'Attack', 'Speed']]",
      "metadata": {
        "trusted": true
      },
      "outputs": [
        {
          "execution_count": 14,
          "output_type": "execute_result",
          "data": {
            "text/plain": "                      Name  Attack  Speed\n0                Bulbasaur      49     45\n1                  Ivysaur      62     60\n2                 Venusaur      82     80\n3    VenusaurMega Venusaur     100     80\n4               Charmander      52     65\n..                     ...     ...    ...\n795                Diancie     100     50\n796    DiancieMega Diancie     160    110\n797    HoopaHoopa Confined     110     70\n798     HoopaHoopa Unbound     160     80\n799              Volcanion     110     70\n\n[800 rows x 3 columns]",
            "text/html": "<div>\n<style scoped>\n    .dataframe tbody tr th:only-of-type {\n        vertical-align: middle;\n    }\n\n    .dataframe tbody tr th {\n        vertical-align: top;\n    }\n\n    .dataframe thead th {\n        text-align: right;\n    }\n</style>\n<table border=\"1\" class=\"dataframe\">\n  <thead>\n    <tr style=\"text-align: right;\">\n      <th></th>\n      <th>Name</th>\n      <th>Attack</th>\n      <th>Speed</th>\n    </tr>\n  </thead>\n  <tbody>\n    <tr>\n      <th>0</th>\n      <td>Bulbasaur</td>\n      <td>49</td>\n      <td>45</td>\n    </tr>\n    <tr>\n      <th>1</th>\n      <td>Ivysaur</td>\n      <td>62</td>\n      <td>60</td>\n    </tr>\n    <tr>\n      <th>2</th>\n      <td>Venusaur</td>\n      <td>82</td>\n      <td>80</td>\n    </tr>\n    <tr>\n      <th>3</th>\n      <td>VenusaurMega Venusaur</td>\n      <td>100</td>\n      <td>80</td>\n    </tr>\n    <tr>\n      <th>4</th>\n      <td>Charmander</td>\n      <td>52</td>\n      <td>65</td>\n    </tr>\n    <tr>\n      <th>...</th>\n      <td>...</td>\n      <td>...</td>\n      <td>...</td>\n    </tr>\n    <tr>\n      <th>795</th>\n      <td>Diancie</td>\n      <td>100</td>\n      <td>50</td>\n    </tr>\n    <tr>\n      <th>796</th>\n      <td>DiancieMega Diancie</td>\n      <td>160</td>\n      <td>110</td>\n    </tr>\n    <tr>\n      <th>797</th>\n      <td>HoopaHoopa Confined</td>\n      <td>110</td>\n      <td>70</td>\n    </tr>\n    <tr>\n      <th>798</th>\n      <td>HoopaHoopa Unbound</td>\n      <td>160</td>\n      <td>80</td>\n    </tr>\n    <tr>\n      <th>799</th>\n      <td>Volcanion</td>\n      <td>110</td>\n      <td>70</td>\n    </tr>\n  </tbody>\n</table>\n<p>800 rows × 3 columns</p>\n</div>"
          },
          "metadata": {}
        }
      ],
      "execution_count": 14
    },
    {
      "cell_type": "code",
      "source": "",
      "metadata": {
        "trusted": true
      },
      "outputs": [],
      "execution_count": null
    },
    {
      "cell_type": "code",
      "source": "pk1 = pk.assign(Name1 = pk['Name'])\npk1",
      "metadata": {
        "trusted": true
      },
      "outputs": [
        {
          "execution_count": 9,
          "output_type": "execute_result",
          "data": {
            "text/plain": "       #                   Name   Type 1  Type 2  HP  Attack  Defense  \\\n0      1              Bulbasaur    Grass  Poison  45      49       49   \n1      2                Ivysaur    Grass  Poison  60      62       63   \n2      3               Venusaur    Grass  Poison  80      82       83   \n3      3  VenusaurMega Venusaur    Grass  Poison  80     100      123   \n4      4             Charmander     Fire     NaN  39      52       43   \n..   ...                    ...      ...     ...  ..     ...      ...   \n795  719                Diancie     Rock   Fairy  50     100      150   \n796  719    DiancieMega Diancie     Rock   Fairy  50     160      110   \n797  720    HoopaHoopa Confined  Psychic   Ghost  80     110       60   \n798  720     HoopaHoopa Unbound  Psychic    Dark  80     160       60   \n799  721              Volcanion     Fire   Water  80     110      120   \n\n     Sp. Atk  Sp. Def  Speed  Generation  Legendary                  Name1  \n0         65       65     45           1      False              Bulbasaur  \n1         80       80     60           1      False                Ivysaur  \n2        100      100     80           1      False               Venusaur  \n3        122      120     80           1      False  VenusaurMega Venusaur  \n4         60       50     65           1      False             Charmander  \n..       ...      ...    ...         ...        ...                    ...  \n795      100      150     50           6       True                Diancie  \n796      160      110    110           6       True    DiancieMega Diancie  \n797      150      130     70           6       True    HoopaHoopa Confined  \n798      170      130     80           6       True     HoopaHoopa Unbound  \n799      130       90     70           6       True              Volcanion  \n\n[800 rows x 13 columns]",
            "text/html": "<div>\n<style scoped>\n    .dataframe tbody tr th:only-of-type {\n        vertical-align: middle;\n    }\n\n    .dataframe tbody tr th {\n        vertical-align: top;\n    }\n\n    .dataframe thead th {\n        text-align: right;\n    }\n</style>\n<table border=\"1\" class=\"dataframe\">\n  <thead>\n    <tr style=\"text-align: right;\">\n      <th></th>\n      <th>#</th>\n      <th>Name</th>\n      <th>Type 1</th>\n      <th>Type 2</th>\n      <th>HP</th>\n      <th>Attack</th>\n      <th>Defense</th>\n      <th>Sp. Atk</th>\n      <th>Sp. Def</th>\n      <th>Speed</th>\n      <th>Generation</th>\n      <th>Legendary</th>\n      <th>Name1</th>\n    </tr>\n  </thead>\n  <tbody>\n    <tr>\n      <th>0</th>\n      <td>1</td>\n      <td>Bulbasaur</td>\n      <td>Grass</td>\n      <td>Poison</td>\n      <td>45</td>\n      <td>49</td>\n      <td>49</td>\n      <td>65</td>\n      <td>65</td>\n      <td>45</td>\n      <td>1</td>\n      <td>False</td>\n      <td>Bulbasaur</td>\n    </tr>\n    <tr>\n      <th>1</th>\n      <td>2</td>\n      <td>Ivysaur</td>\n      <td>Grass</td>\n      <td>Poison</td>\n      <td>60</td>\n      <td>62</td>\n      <td>63</td>\n      <td>80</td>\n      <td>80</td>\n      <td>60</td>\n      <td>1</td>\n      <td>False</td>\n      <td>Ivysaur</td>\n    </tr>\n    <tr>\n      <th>2</th>\n      <td>3</td>\n      <td>Venusaur</td>\n      <td>Grass</td>\n      <td>Poison</td>\n      <td>80</td>\n      <td>82</td>\n      <td>83</td>\n      <td>100</td>\n      <td>100</td>\n      <td>80</td>\n      <td>1</td>\n      <td>False</td>\n      <td>Venusaur</td>\n    </tr>\n    <tr>\n      <th>3</th>\n      <td>3</td>\n      <td>VenusaurMega Venusaur</td>\n      <td>Grass</td>\n      <td>Poison</td>\n      <td>80</td>\n      <td>100</td>\n      <td>123</td>\n      <td>122</td>\n      <td>120</td>\n      <td>80</td>\n      <td>1</td>\n      <td>False</td>\n      <td>VenusaurMega Venusaur</td>\n    </tr>\n    <tr>\n      <th>4</th>\n      <td>4</td>\n      <td>Charmander</td>\n      <td>Fire</td>\n      <td>NaN</td>\n      <td>39</td>\n      <td>52</td>\n      <td>43</td>\n      <td>60</td>\n      <td>50</td>\n      <td>65</td>\n      <td>1</td>\n      <td>False</td>\n      <td>Charmander</td>\n    </tr>\n    <tr>\n      <th>...</th>\n      <td>...</td>\n      <td>...</td>\n      <td>...</td>\n      <td>...</td>\n      <td>...</td>\n      <td>...</td>\n      <td>...</td>\n      <td>...</td>\n      <td>...</td>\n      <td>...</td>\n      <td>...</td>\n      <td>...</td>\n      <td>...</td>\n    </tr>\n    <tr>\n      <th>795</th>\n      <td>719</td>\n      <td>Diancie</td>\n      <td>Rock</td>\n      <td>Fairy</td>\n      <td>50</td>\n      <td>100</td>\n      <td>150</td>\n      <td>100</td>\n      <td>150</td>\n      <td>50</td>\n      <td>6</td>\n      <td>True</td>\n      <td>Diancie</td>\n    </tr>\n    <tr>\n      <th>796</th>\n      <td>719</td>\n      <td>DiancieMega Diancie</td>\n      <td>Rock</td>\n      <td>Fairy</td>\n      <td>50</td>\n      <td>160</td>\n      <td>110</td>\n      <td>160</td>\n      <td>110</td>\n      <td>110</td>\n      <td>6</td>\n      <td>True</td>\n      <td>DiancieMega Diancie</td>\n    </tr>\n    <tr>\n      <th>797</th>\n      <td>720</td>\n      <td>HoopaHoopa Confined</td>\n      <td>Psychic</td>\n      <td>Ghost</td>\n      <td>80</td>\n      <td>110</td>\n      <td>60</td>\n      <td>150</td>\n      <td>130</td>\n      <td>70</td>\n      <td>6</td>\n      <td>True</td>\n      <td>HoopaHoopa Confined</td>\n    </tr>\n    <tr>\n      <th>798</th>\n      <td>720</td>\n      <td>HoopaHoopa Unbound</td>\n      <td>Psychic</td>\n      <td>Dark</td>\n      <td>80</td>\n      <td>160</td>\n      <td>60</td>\n      <td>170</td>\n      <td>130</td>\n      <td>80</td>\n      <td>6</td>\n      <td>True</td>\n      <td>HoopaHoopa Unbound</td>\n    </tr>\n    <tr>\n      <th>799</th>\n      <td>721</td>\n      <td>Volcanion</td>\n      <td>Fire</td>\n      <td>Water</td>\n      <td>80</td>\n      <td>110</td>\n      <td>120</td>\n      <td>130</td>\n      <td>90</td>\n      <td>70</td>\n      <td>6</td>\n      <td>True</td>\n      <td>Volcanion</td>\n    </tr>\n  </tbody>\n</table>\n<p>800 rows × 13 columns</p>\n</div>"
          },
          "metadata": {}
        }
      ],
      "execution_count": 9
    },
    {
      "cell_type": "code",
      "source": "select * \nfrom pk\nwhere Name = 'Ivysaur'",
      "metadata": {
        "trusted": true
      },
      "outputs": [],
      "execution_count": null
    },
    {
      "cell_type": "code",
      "source": "pk[pk['Name']=='Ivysaur']",
      "metadata": {
        "trusted": true
      },
      "outputs": [
        {
          "execution_count": 10,
          "output_type": "execute_result",
          "data": {
            "text/plain": "   #     Name Type 1  Type 2  HP  Attack  Defense  Sp. Atk  Sp. Def  Speed  \\\n1  2  Ivysaur  Grass  Poison  60      62       63       80       80     60   \n\n   Generation  Legendary  \n1           1      False  ",
            "text/html": "<div>\n<style scoped>\n    .dataframe tbody tr th:only-of-type {\n        vertical-align: middle;\n    }\n\n    .dataframe tbody tr th {\n        vertical-align: top;\n    }\n\n    .dataframe thead th {\n        text-align: right;\n    }\n</style>\n<table border=\"1\" class=\"dataframe\">\n  <thead>\n    <tr style=\"text-align: right;\">\n      <th></th>\n      <th>#</th>\n      <th>Name</th>\n      <th>Type 1</th>\n      <th>Type 2</th>\n      <th>HP</th>\n      <th>Attack</th>\n      <th>Defense</th>\n      <th>Sp. Atk</th>\n      <th>Sp. Def</th>\n      <th>Speed</th>\n      <th>Generation</th>\n      <th>Legendary</th>\n    </tr>\n  </thead>\n  <tbody>\n    <tr>\n      <th>1</th>\n      <td>2</td>\n      <td>Ivysaur</td>\n      <td>Grass</td>\n      <td>Poison</td>\n      <td>60</td>\n      <td>62</td>\n      <td>63</td>\n      <td>80</td>\n      <td>80</td>\n      <td>60</td>\n      <td>1</td>\n      <td>False</td>\n    </tr>\n  </tbody>\n</table>\n</div>"
          },
          "metadata": {}
        }
      ],
      "execution_count": 10
    },
    {
      "cell_type": "code",
      "source": "pk[pk['Attack'] < 50]",
      "metadata": {
        "trusted": true
      },
      "outputs": [
        {
          "execution_count": 7,
          "output_type": "execute_result",
          "data": {
            "text/plain": "       #            Name    Type 1  Type 2  HP  Attack  Defense  Sp. Atk  \\\n0      1       Bulbasaur     Grass  Poison  45      49       49       65   \n9      7        Squirtle     Water     NaN  44      48       65       50   \n13    10        Caterpie       Bug     NaN  45      30       35       20   \n14    11         Metapod       Bug     NaN  50      20       55       25   \n15    12      Butterfree       Bug  Flying  60      45       50       90   \n..   ...             ...       ...     ...  ..     ...      ...      ...   \n746  678    MeowsticMale   Psychic     NaN  74      48       76       83   \n747  678  MeowsticFemale   Psychic     NaN  74      48       76       83   \n754  684         Swirlix     Fairy     NaN  62      48       66       59   \n764  694      Helioptile  Electric  Normal  44      38       33       61   \n790  714          Noibat    Flying  Dragon  40      30       35       45   \n\n     Sp. Def  Speed  Generation  Legendary  \n0         65     45           1      False  \n9         64     43           1      False  \n13        20     45           1      False  \n14        25     30           1      False  \n15        80     70           1      False  \n..       ...    ...         ...        ...  \n746       81    104           6      False  \n747       81    104           6      False  \n754       57     49           6      False  \n764       43     70           6      False  \n790       40     55           6      False  \n\n[133 rows x 12 columns]",
            "text/html": "<div>\n<style scoped>\n    .dataframe tbody tr th:only-of-type {\n        vertical-align: middle;\n    }\n\n    .dataframe tbody tr th {\n        vertical-align: top;\n    }\n\n    .dataframe thead th {\n        text-align: right;\n    }\n</style>\n<table border=\"1\" class=\"dataframe\">\n  <thead>\n    <tr style=\"text-align: right;\">\n      <th></th>\n      <th>#</th>\n      <th>Name</th>\n      <th>Type 1</th>\n      <th>Type 2</th>\n      <th>HP</th>\n      <th>Attack</th>\n      <th>Defense</th>\n      <th>Sp. Atk</th>\n      <th>Sp. Def</th>\n      <th>Speed</th>\n      <th>Generation</th>\n      <th>Legendary</th>\n    </tr>\n  </thead>\n  <tbody>\n    <tr>\n      <th>0</th>\n      <td>1</td>\n      <td>Bulbasaur</td>\n      <td>Grass</td>\n      <td>Poison</td>\n      <td>45</td>\n      <td>49</td>\n      <td>49</td>\n      <td>65</td>\n      <td>65</td>\n      <td>45</td>\n      <td>1</td>\n      <td>False</td>\n    </tr>\n    <tr>\n      <th>9</th>\n      <td>7</td>\n      <td>Squirtle</td>\n      <td>Water</td>\n      <td>NaN</td>\n      <td>44</td>\n      <td>48</td>\n      <td>65</td>\n      <td>50</td>\n      <td>64</td>\n      <td>43</td>\n      <td>1</td>\n      <td>False</td>\n    </tr>\n    <tr>\n      <th>13</th>\n      <td>10</td>\n      <td>Caterpie</td>\n      <td>Bug</td>\n      <td>NaN</td>\n      <td>45</td>\n      <td>30</td>\n      <td>35</td>\n      <td>20</td>\n      <td>20</td>\n      <td>45</td>\n      <td>1</td>\n      <td>False</td>\n    </tr>\n    <tr>\n      <th>14</th>\n      <td>11</td>\n      <td>Metapod</td>\n      <td>Bug</td>\n      <td>NaN</td>\n      <td>50</td>\n      <td>20</td>\n      <td>55</td>\n      <td>25</td>\n      <td>25</td>\n      <td>30</td>\n      <td>1</td>\n      <td>False</td>\n    </tr>\n    <tr>\n      <th>15</th>\n      <td>12</td>\n      <td>Butterfree</td>\n      <td>Bug</td>\n      <td>Flying</td>\n      <td>60</td>\n      <td>45</td>\n      <td>50</td>\n      <td>90</td>\n      <td>80</td>\n      <td>70</td>\n      <td>1</td>\n      <td>False</td>\n    </tr>\n    <tr>\n      <th>...</th>\n      <td>...</td>\n      <td>...</td>\n      <td>...</td>\n      <td>...</td>\n      <td>...</td>\n      <td>...</td>\n      <td>...</td>\n      <td>...</td>\n      <td>...</td>\n      <td>...</td>\n      <td>...</td>\n      <td>...</td>\n    </tr>\n    <tr>\n      <th>746</th>\n      <td>678</td>\n      <td>MeowsticMale</td>\n      <td>Psychic</td>\n      <td>NaN</td>\n      <td>74</td>\n      <td>48</td>\n      <td>76</td>\n      <td>83</td>\n      <td>81</td>\n      <td>104</td>\n      <td>6</td>\n      <td>False</td>\n    </tr>\n    <tr>\n      <th>747</th>\n      <td>678</td>\n      <td>MeowsticFemale</td>\n      <td>Psychic</td>\n      <td>NaN</td>\n      <td>74</td>\n      <td>48</td>\n      <td>76</td>\n      <td>83</td>\n      <td>81</td>\n      <td>104</td>\n      <td>6</td>\n      <td>False</td>\n    </tr>\n    <tr>\n      <th>754</th>\n      <td>684</td>\n      <td>Swirlix</td>\n      <td>Fairy</td>\n      <td>NaN</td>\n      <td>62</td>\n      <td>48</td>\n      <td>66</td>\n      <td>59</td>\n      <td>57</td>\n      <td>49</td>\n      <td>6</td>\n      <td>False</td>\n    </tr>\n    <tr>\n      <th>764</th>\n      <td>694</td>\n      <td>Helioptile</td>\n      <td>Electric</td>\n      <td>Normal</td>\n      <td>44</td>\n      <td>38</td>\n      <td>33</td>\n      <td>61</td>\n      <td>43</td>\n      <td>70</td>\n      <td>6</td>\n      <td>False</td>\n    </tr>\n    <tr>\n      <th>790</th>\n      <td>714</td>\n      <td>Noibat</td>\n      <td>Flying</td>\n      <td>Dragon</td>\n      <td>40</td>\n      <td>30</td>\n      <td>35</td>\n      <td>45</td>\n      <td>40</td>\n      <td>55</td>\n      <td>6</td>\n      <td>False</td>\n    </tr>\n  </tbody>\n</table>\n<p>133 rows × 12 columns</p>\n</div>"
          },
          "metadata": {}
        }
      ],
      "execution_count": 7
    },
    {
      "cell_type": "code",
      "source": "pk[pk['Attack']>80]['Name'][pk['HP']>100]",
      "metadata": {
        "trusted": true
      },
      "outputs": [
        {
          "execution_count": 21,
          "output_type": "execute_result",
          "data": {
            "text/plain": "96                           Muk\n120                       Rhydon\n123                   Kangaskhan\n124    KangaskhanMega Kangaskhan\n142                       Lapras\n155                      Snorlax\n162                       Mewtwo\n163          MewtwoMega Mewtwo X\n164          MewtwoMega Mewtwo Y\n263                        Entei\n269                        Lugia\n270                        Ho-oh\n313                      Slaking\n319                      Exploud\n321                     Hariyama\n351                      Wailord\n425                     Rayquaza\n426        RayquazaMega Rayquaza\n470                    Gastrodon\n483                     Skuntank\n493                     Garchomp\n494        GarchompMega Garchomp\n495                     Munchlax\n500                    Hippowdon\n514                   Lickilicky\n515                    Rhyperior\n524                    Mamoswine\n543                    Regigigas\n544        GiratinaAltered Forme\n545         GiratinaOrigin Forme\n552                       Arceus\n559                       Emboar\n589                    Excadrill\n594                   Conkeldurr\n597                   Seismitoad\n598                        Throh\n615      DarmanitanStandard Mode\n652                    Amoonguss\n710                       Kyurem\n711           KyuremBlack Kyurem\n712           KyuremWhite Kyurem\n741                       Gogoat\n792                      Xerneas\n793                      Yveltal\n794             Zygarde50% Forme\nName: Name, dtype: object"
          },
          "metadata": {}
        }
      ],
      "execution_count": 21
    },
    {
      "cell_type": "code",
      "source": "pk[(pk['Type 2']=='Poison') & (pk['Generation'] == 1 )][['Name', 'Attack', 'Defense']]",
      "metadata": {
        "trusted": true
      },
      "outputs": [
        {
          "execution_count": 42,
          "output_type": "execute_result",
          "data": {
            "text/plain": "                      Name  Attack  Defense\n0                Bulbasaur      49       49\n1                  Ivysaur      62       63\n2                 Venusaur      82       83\n3    VenusaurMega Venusaur     100      123\n16                  Weedle      35       30\n17                  Kakuna      25       50\n18                Beedrill      90       40\n19   BeedrillMega Beedrill     150       40\n48                  Oddish      50       55\n49                   Gloom      65       70\n50               Vileplume      80       85\n53                 Venonat      55       50\n54                Venomoth      65       60\n75              Bellsprout      75       35\n76              Weepinbell      90       50\n77              Victreebel     105       65\n78               Tentacool      40       35\n79              Tentacruel      70       65\n99                  Gastly      35       30\n100                Haunter      50       45\n101                 Gengar      65       60\n102      GengarMega Gengar      65       80",
            "text/html": "<div>\n<style scoped>\n    .dataframe tbody tr th:only-of-type {\n        vertical-align: middle;\n    }\n\n    .dataframe tbody tr th {\n        vertical-align: top;\n    }\n\n    .dataframe thead th {\n        text-align: right;\n    }\n</style>\n<table border=\"1\" class=\"dataframe\">\n  <thead>\n    <tr style=\"text-align: right;\">\n      <th></th>\n      <th>Name</th>\n      <th>Attack</th>\n      <th>Defense</th>\n    </tr>\n  </thead>\n  <tbody>\n    <tr>\n      <th>0</th>\n      <td>Bulbasaur</td>\n      <td>49</td>\n      <td>49</td>\n    </tr>\n    <tr>\n      <th>1</th>\n      <td>Ivysaur</td>\n      <td>62</td>\n      <td>63</td>\n    </tr>\n    <tr>\n      <th>2</th>\n      <td>Venusaur</td>\n      <td>82</td>\n      <td>83</td>\n    </tr>\n    <tr>\n      <th>3</th>\n      <td>VenusaurMega Venusaur</td>\n      <td>100</td>\n      <td>123</td>\n    </tr>\n    <tr>\n      <th>16</th>\n      <td>Weedle</td>\n      <td>35</td>\n      <td>30</td>\n    </tr>\n    <tr>\n      <th>17</th>\n      <td>Kakuna</td>\n      <td>25</td>\n      <td>50</td>\n    </tr>\n    <tr>\n      <th>18</th>\n      <td>Beedrill</td>\n      <td>90</td>\n      <td>40</td>\n    </tr>\n    <tr>\n      <th>19</th>\n      <td>BeedrillMega Beedrill</td>\n      <td>150</td>\n      <td>40</td>\n    </tr>\n    <tr>\n      <th>48</th>\n      <td>Oddish</td>\n      <td>50</td>\n      <td>55</td>\n    </tr>\n    <tr>\n      <th>49</th>\n      <td>Gloom</td>\n      <td>65</td>\n      <td>70</td>\n    </tr>\n    <tr>\n      <th>50</th>\n      <td>Vileplume</td>\n      <td>80</td>\n      <td>85</td>\n    </tr>\n    <tr>\n      <th>53</th>\n      <td>Venonat</td>\n      <td>55</td>\n      <td>50</td>\n    </tr>\n    <tr>\n      <th>54</th>\n      <td>Venomoth</td>\n      <td>65</td>\n      <td>60</td>\n    </tr>\n    <tr>\n      <th>75</th>\n      <td>Bellsprout</td>\n      <td>75</td>\n      <td>35</td>\n    </tr>\n    <tr>\n      <th>76</th>\n      <td>Weepinbell</td>\n      <td>90</td>\n      <td>50</td>\n    </tr>\n    <tr>\n      <th>77</th>\n      <td>Victreebel</td>\n      <td>105</td>\n      <td>65</td>\n    </tr>\n    <tr>\n      <th>78</th>\n      <td>Tentacool</td>\n      <td>40</td>\n      <td>35</td>\n    </tr>\n    <tr>\n      <th>79</th>\n      <td>Tentacruel</td>\n      <td>70</td>\n      <td>65</td>\n    </tr>\n    <tr>\n      <th>99</th>\n      <td>Gastly</td>\n      <td>35</td>\n      <td>30</td>\n    </tr>\n    <tr>\n      <th>100</th>\n      <td>Haunter</td>\n      <td>50</td>\n      <td>45</td>\n    </tr>\n    <tr>\n      <th>101</th>\n      <td>Gengar</td>\n      <td>65</td>\n      <td>60</td>\n    </tr>\n    <tr>\n      <th>102</th>\n      <td>GengarMega Gengar</td>\n      <td>65</td>\n      <td>80</td>\n    </tr>\n  </tbody>\n</table>\n</div>"
          },
          "metadata": {}
        }
      ],
      "execution_count": 42
    },
    {
      "cell_type": "code",
      "source": "pk[(pk['Legendary'] == 1) & (pk['Generation'] == 6) & (pk['Speed']>=99)][['Name', 'Type 1', 'Type 2', 'HP', 'Attack', 'Defense']]",
      "metadata": {
        "trusted": true
      },
      "outputs": [
        {
          "execution_count": 47,
          "output_type": "execute_result",
          "data": {
            "text/plain": "                    Name Type 1  Type 2   HP  Attack  Defense\n792              Xerneas  Fairy     NaN  126     131       95\n793              Yveltal   Dark  Flying  126     131       95\n796  DiancieMega Diancie   Rock   Fairy   50     160      110",
            "text/html": "<div>\n<style scoped>\n    .dataframe tbody tr th:only-of-type {\n        vertical-align: middle;\n    }\n\n    .dataframe tbody tr th {\n        vertical-align: top;\n    }\n\n    .dataframe thead th {\n        text-align: right;\n    }\n</style>\n<table border=\"1\" class=\"dataframe\">\n  <thead>\n    <tr style=\"text-align: right;\">\n      <th></th>\n      <th>Name</th>\n      <th>Type 1</th>\n      <th>Type 2</th>\n      <th>HP</th>\n      <th>Attack</th>\n      <th>Defense</th>\n    </tr>\n  </thead>\n  <tbody>\n    <tr>\n      <th>792</th>\n      <td>Xerneas</td>\n      <td>Fairy</td>\n      <td>NaN</td>\n      <td>126</td>\n      <td>131</td>\n      <td>95</td>\n    </tr>\n    <tr>\n      <th>793</th>\n      <td>Yveltal</td>\n      <td>Dark</td>\n      <td>Flying</td>\n      <td>126</td>\n      <td>131</td>\n      <td>95</td>\n    </tr>\n    <tr>\n      <th>796</th>\n      <td>DiancieMega Diancie</td>\n      <td>Rock</td>\n      <td>Fairy</td>\n      <td>50</td>\n      <td>160</td>\n      <td>110</td>\n    </tr>\n  </tbody>\n</table>\n</div>"
          },
          "metadata": {}
        }
      ],
      "execution_count": 47
    },
    {
      "cell_type": "code",
      "source": "pk[\n(pk['Defense'].between(100,110)) & \n(pk['Type 1'] == 'Water') & \n(pk['Type 2'].isna()) & \n(pk['Speed'].notna()) & \n(pk['Generation'].isin([1, 3, 4]))\n].head(5)",
      "metadata": {
        "trusted": true
      },
      "outputs": [
        {
          "execution_count": 27,
          "output_type": "execute_result",
          "data": {
            "text/plain": "       #       Name Type 1 Type 2   HP  Attack  Defense  Sp. Atk  Sp. Def  \\\n11     9  Blastoise  Water    NaN   79      83      100       85      105   \n97    90   Shellder  Water    NaN   30      65      100       45       25   \n402  367    Huntail  Water    NaN   55     104      105       94       75   \n403  368   Gorebyss  Water    NaN   55      84      105      114       75   \n548  490    Manaphy  Water    NaN  100     100      100      100      100   \n\n     Speed  Generation  Legendary  \n11      78           1      False  \n97      40           1      False  \n402     52           3      False  \n403     52           3      False  \n548    100           4      False  ",
            "text/html": "<div>\n<style scoped>\n    .dataframe tbody tr th:only-of-type {\n        vertical-align: middle;\n    }\n\n    .dataframe tbody tr th {\n        vertical-align: top;\n    }\n\n    .dataframe thead th {\n        text-align: right;\n    }\n</style>\n<table border=\"1\" class=\"dataframe\">\n  <thead>\n    <tr style=\"text-align: right;\">\n      <th></th>\n      <th>#</th>\n      <th>Name</th>\n      <th>Type 1</th>\n      <th>Type 2</th>\n      <th>HP</th>\n      <th>Attack</th>\n      <th>Defense</th>\n      <th>Sp. Atk</th>\n      <th>Sp. Def</th>\n      <th>Speed</th>\n      <th>Generation</th>\n      <th>Legendary</th>\n    </tr>\n  </thead>\n  <tbody>\n    <tr>\n      <th>11</th>\n      <td>9</td>\n      <td>Blastoise</td>\n      <td>Water</td>\n      <td>NaN</td>\n      <td>79</td>\n      <td>83</td>\n      <td>100</td>\n      <td>85</td>\n      <td>105</td>\n      <td>78</td>\n      <td>1</td>\n      <td>False</td>\n    </tr>\n    <tr>\n      <th>97</th>\n      <td>90</td>\n      <td>Shellder</td>\n      <td>Water</td>\n      <td>NaN</td>\n      <td>30</td>\n      <td>65</td>\n      <td>100</td>\n      <td>45</td>\n      <td>25</td>\n      <td>40</td>\n      <td>1</td>\n      <td>False</td>\n    </tr>\n    <tr>\n      <th>402</th>\n      <td>367</td>\n      <td>Huntail</td>\n      <td>Water</td>\n      <td>NaN</td>\n      <td>55</td>\n      <td>104</td>\n      <td>105</td>\n      <td>94</td>\n      <td>75</td>\n      <td>52</td>\n      <td>3</td>\n      <td>False</td>\n    </tr>\n    <tr>\n      <th>403</th>\n      <td>368</td>\n      <td>Gorebyss</td>\n      <td>Water</td>\n      <td>NaN</td>\n      <td>55</td>\n      <td>84</td>\n      <td>105</td>\n      <td>114</td>\n      <td>75</td>\n      <td>52</td>\n      <td>3</td>\n      <td>False</td>\n    </tr>\n    <tr>\n      <th>548</th>\n      <td>490</td>\n      <td>Manaphy</td>\n      <td>Water</td>\n      <td>NaN</td>\n      <td>100</td>\n      <td>100</td>\n      <td>100</td>\n      <td>100</td>\n      <td>100</td>\n      <td>100</td>\n      <td>4</td>\n      <td>False</td>\n    </tr>\n  </tbody>\n</table>\n</div>"
          },
          "metadata": {}
        }
      ],
      "execution_count": 27
    },
    {
      "cell_type": "code",
      "source": "pk[\n(pk['Attack'].between(20, 140)) &\n(pk['Type 1'].isin(['Ghost', 'Ice', 'Flying', 'Fairy', 'Fairy', 'Dark', 'Dragon', 'Rock', 'Psychic', 'Water'])) &\n((pk['Attack']) > 0 & (pk['Attack'] < 1000)) &\n(pk['Legendary'].isin([True, False])) &\n(pk['Legendary'] == True) &\n(pk['Type 2'].notna())\n].tail(20)",
      "metadata": {
        "trusted": true
      },
      "outputs": [
        {
          "execution_count": 12,
          "output_type": "execute_result",
          "data": {
            "text/plain": "       #                   Name   Type 1    Type 2   HP  Attack  Defense  \\\n156  144               Articuno      Ice    Flying   90      85      100   \n269  249                  Lugia  Psychic    Flying  106      90      130   \n417  380                 Latias   Dragon   Psychic   80      80       90   \n418  380      LatiasMega Latias   Dragon   Psychic   80     100      120   \n419  381                 Latios   Dragon   Psychic   80      90       80   \n420  381      LatiosMega Latios   Dragon   Psychic   80     130      100   \n541  484                 Palkia    Water    Dragon   90     120      100   \n544  487  GiratinaAltered Forme    Ghost    Dragon  150     100      120   \n545  487   GiratinaOrigin Forme    Ghost    Dragon  150     120      100   \n553  494                Victini  Psychic      Fire  100     100      100   \n700  639              Terrakion     Rock  Fighting   91     129       90   \n706  643               Reshiram   Dragon      Fire  100     120      100   \n710  646                 Kyurem   Dragon       Ice  125     130       90   \n712  646     KyuremWhite Kyurem   Dragon       Ice  125     120       90   \n793  717                Yveltal     Dark    Flying  126     131       95   \n794  718       Zygarde50% Forme   Dragon    Ground  108     100      121   \n795  719                Diancie     Rock     Fairy   50     100      150   \n797  720    HoopaHoopa Confined  Psychic     Ghost   80     110       60   \n\n     Sp. Atk  Sp. Def  Speed  Generation  Legendary  \n156       95      125     85           1       True  \n269       90      154    110           2       True  \n417      110      130    110           3       True  \n418      140      150    110           3       True  \n419      130      110    110           3       True  \n420      160      120    110           3       True  \n541      150      120    100           4       True  \n544      100      120     90           4       True  \n545      120      100     90           4       True  \n553      100      100    100           5       True  \n700       72       90    108           5       True  \n706      150      120     90           5       True  \n710      130       90     95           5       True  \n712      170      100     95           5       True  \n793      131       98     99           6       True  \n794       81       95     95           6       True  \n795      100      150     50           6       True  \n797      150      130     70           6       True  ",
            "text/html": "<div>\n<style scoped>\n    .dataframe tbody tr th:only-of-type {\n        vertical-align: middle;\n    }\n\n    .dataframe tbody tr th {\n        vertical-align: top;\n    }\n\n    .dataframe thead th {\n        text-align: right;\n    }\n</style>\n<table border=\"1\" class=\"dataframe\">\n  <thead>\n    <tr style=\"text-align: right;\">\n      <th></th>\n      <th>#</th>\n      <th>Name</th>\n      <th>Type 1</th>\n      <th>Type 2</th>\n      <th>HP</th>\n      <th>Attack</th>\n      <th>Defense</th>\n      <th>Sp. Atk</th>\n      <th>Sp. Def</th>\n      <th>Speed</th>\n      <th>Generation</th>\n      <th>Legendary</th>\n    </tr>\n  </thead>\n  <tbody>\n    <tr>\n      <th>156</th>\n      <td>144</td>\n      <td>Articuno</td>\n      <td>Ice</td>\n      <td>Flying</td>\n      <td>90</td>\n      <td>85</td>\n      <td>100</td>\n      <td>95</td>\n      <td>125</td>\n      <td>85</td>\n      <td>1</td>\n      <td>True</td>\n    </tr>\n    <tr>\n      <th>269</th>\n      <td>249</td>\n      <td>Lugia</td>\n      <td>Psychic</td>\n      <td>Flying</td>\n      <td>106</td>\n      <td>90</td>\n      <td>130</td>\n      <td>90</td>\n      <td>154</td>\n      <td>110</td>\n      <td>2</td>\n      <td>True</td>\n    </tr>\n    <tr>\n      <th>417</th>\n      <td>380</td>\n      <td>Latias</td>\n      <td>Dragon</td>\n      <td>Psychic</td>\n      <td>80</td>\n      <td>80</td>\n      <td>90</td>\n      <td>110</td>\n      <td>130</td>\n      <td>110</td>\n      <td>3</td>\n      <td>True</td>\n    </tr>\n    <tr>\n      <th>418</th>\n      <td>380</td>\n      <td>LatiasMega Latias</td>\n      <td>Dragon</td>\n      <td>Psychic</td>\n      <td>80</td>\n      <td>100</td>\n      <td>120</td>\n      <td>140</td>\n      <td>150</td>\n      <td>110</td>\n      <td>3</td>\n      <td>True</td>\n    </tr>\n    <tr>\n      <th>419</th>\n      <td>381</td>\n      <td>Latios</td>\n      <td>Dragon</td>\n      <td>Psychic</td>\n      <td>80</td>\n      <td>90</td>\n      <td>80</td>\n      <td>130</td>\n      <td>110</td>\n      <td>110</td>\n      <td>3</td>\n      <td>True</td>\n    </tr>\n    <tr>\n      <th>420</th>\n      <td>381</td>\n      <td>LatiosMega Latios</td>\n      <td>Dragon</td>\n      <td>Psychic</td>\n      <td>80</td>\n      <td>130</td>\n      <td>100</td>\n      <td>160</td>\n      <td>120</td>\n      <td>110</td>\n      <td>3</td>\n      <td>True</td>\n    </tr>\n    <tr>\n      <th>541</th>\n      <td>484</td>\n      <td>Palkia</td>\n      <td>Water</td>\n      <td>Dragon</td>\n      <td>90</td>\n      <td>120</td>\n      <td>100</td>\n      <td>150</td>\n      <td>120</td>\n      <td>100</td>\n      <td>4</td>\n      <td>True</td>\n    </tr>\n    <tr>\n      <th>544</th>\n      <td>487</td>\n      <td>GiratinaAltered Forme</td>\n      <td>Ghost</td>\n      <td>Dragon</td>\n      <td>150</td>\n      <td>100</td>\n      <td>120</td>\n      <td>100</td>\n      <td>120</td>\n      <td>90</td>\n      <td>4</td>\n      <td>True</td>\n    </tr>\n    <tr>\n      <th>545</th>\n      <td>487</td>\n      <td>GiratinaOrigin Forme</td>\n      <td>Ghost</td>\n      <td>Dragon</td>\n      <td>150</td>\n      <td>120</td>\n      <td>100</td>\n      <td>120</td>\n      <td>100</td>\n      <td>90</td>\n      <td>4</td>\n      <td>True</td>\n    </tr>\n    <tr>\n      <th>553</th>\n      <td>494</td>\n      <td>Victini</td>\n      <td>Psychic</td>\n      <td>Fire</td>\n      <td>100</td>\n      <td>100</td>\n      <td>100</td>\n      <td>100</td>\n      <td>100</td>\n      <td>100</td>\n      <td>5</td>\n      <td>True</td>\n    </tr>\n    <tr>\n      <th>700</th>\n      <td>639</td>\n      <td>Terrakion</td>\n      <td>Rock</td>\n      <td>Fighting</td>\n      <td>91</td>\n      <td>129</td>\n      <td>90</td>\n      <td>72</td>\n      <td>90</td>\n      <td>108</td>\n      <td>5</td>\n      <td>True</td>\n    </tr>\n    <tr>\n      <th>706</th>\n      <td>643</td>\n      <td>Reshiram</td>\n      <td>Dragon</td>\n      <td>Fire</td>\n      <td>100</td>\n      <td>120</td>\n      <td>100</td>\n      <td>150</td>\n      <td>120</td>\n      <td>90</td>\n      <td>5</td>\n      <td>True</td>\n    </tr>\n    <tr>\n      <th>710</th>\n      <td>646</td>\n      <td>Kyurem</td>\n      <td>Dragon</td>\n      <td>Ice</td>\n      <td>125</td>\n      <td>130</td>\n      <td>90</td>\n      <td>130</td>\n      <td>90</td>\n      <td>95</td>\n      <td>5</td>\n      <td>True</td>\n    </tr>\n    <tr>\n      <th>712</th>\n      <td>646</td>\n      <td>KyuremWhite Kyurem</td>\n      <td>Dragon</td>\n      <td>Ice</td>\n      <td>125</td>\n      <td>120</td>\n      <td>90</td>\n      <td>170</td>\n      <td>100</td>\n      <td>95</td>\n      <td>5</td>\n      <td>True</td>\n    </tr>\n    <tr>\n      <th>793</th>\n      <td>717</td>\n      <td>Yveltal</td>\n      <td>Dark</td>\n      <td>Flying</td>\n      <td>126</td>\n      <td>131</td>\n      <td>95</td>\n      <td>131</td>\n      <td>98</td>\n      <td>99</td>\n      <td>6</td>\n      <td>True</td>\n    </tr>\n    <tr>\n      <th>794</th>\n      <td>718</td>\n      <td>Zygarde50% Forme</td>\n      <td>Dragon</td>\n      <td>Ground</td>\n      <td>108</td>\n      <td>100</td>\n      <td>121</td>\n      <td>81</td>\n      <td>95</td>\n      <td>95</td>\n      <td>6</td>\n      <td>True</td>\n    </tr>\n    <tr>\n      <th>795</th>\n      <td>719</td>\n      <td>Diancie</td>\n      <td>Rock</td>\n      <td>Fairy</td>\n      <td>50</td>\n      <td>100</td>\n      <td>150</td>\n      <td>100</td>\n      <td>150</td>\n      <td>50</td>\n      <td>6</td>\n      <td>True</td>\n    </tr>\n    <tr>\n      <th>797</th>\n      <td>720</td>\n      <td>HoopaHoopa Confined</td>\n      <td>Psychic</td>\n      <td>Ghost</td>\n      <td>80</td>\n      <td>110</td>\n      <td>60</td>\n      <td>150</td>\n      <td>130</td>\n      <td>70</td>\n      <td>6</td>\n      <td>True</td>\n    </tr>\n  </tbody>\n</table>\n</div>"
          },
          "metadata": {}
        }
      ],
      "execution_count": 12
    },
    {
      "cell_type": "code",
      "source": "pk[\n(pk['Type 2'].isin(['Flying', 'Psychic', 'Dragon' , 'Fire', 'Fighting', 'Ice', 'Ground'])) &\n(pk['Sp. Def'].between(10, 200)) &\n(pk['Defense'] != 0) &\n(pk['Attack'] >= 20)\n].sort_values(['Name'], ascending = 1)",
      "metadata": {
        "trusted": true
      },
      "outputs": [
        {
          "execution_count": 27,
          "output_type": "execute_result",
          "data": {
            "text/plain": "       #                       Name    Type 1  Type 2   HP  Attack  Defense  \\\n510  460                  Abomasnow     Grass     Ice   90      92       75   \n511  460    AbomasnowMega Abomasnow     Grass     Ice   90     132      105   \n153  142                 Aerodactyl      Rock  Flying   80     105       65   \n154  142  AerodactylMega Aerodactyl      Rock  Flying   80     135       85   \n365  334                    Altaria    Dragon  Flying   75      70       90   \n..   ...                        ...       ...     ...  ...     ...      ...   \n793  717                    Yveltal      Dark  Flying  126     131       95   \n157  145                     Zapdos  Electric  Flying   90      90       85   \n46    41                      Zubat    Poison  Flying   40      45       35   \n695  634                   Zweilous      Dark  Dragon   72      85       70   \n794  718           Zygarde50% Forme    Dragon  Ground  108     100      121   \n\n     Sp. Atk  Sp. Def  Speed  Generation  Legendary  \n510       92       85     60           4      False  \n511      132      105     30           4      False  \n153       60       75    130           1      False  \n154       70       95    150           1      False  \n365       70      105     80           3      False  \n..       ...      ...    ...         ...        ...  \n793      131       98     99           6       True  \n157      125       90    100           1       True  \n46        30       40     55           1      False  \n695       65       70     58           5      False  \n794       81       95     95           6       True  \n\n[235 rows x 12 columns]",
            "text/html": "<div>\n<style scoped>\n    .dataframe tbody tr th:only-of-type {\n        vertical-align: middle;\n    }\n\n    .dataframe tbody tr th {\n        vertical-align: top;\n    }\n\n    .dataframe thead th {\n        text-align: right;\n    }\n</style>\n<table border=\"1\" class=\"dataframe\">\n  <thead>\n    <tr style=\"text-align: right;\">\n      <th></th>\n      <th>#</th>\n      <th>Name</th>\n      <th>Type 1</th>\n      <th>Type 2</th>\n      <th>HP</th>\n      <th>Attack</th>\n      <th>Defense</th>\n      <th>Sp. Atk</th>\n      <th>Sp. Def</th>\n      <th>Speed</th>\n      <th>Generation</th>\n      <th>Legendary</th>\n    </tr>\n  </thead>\n  <tbody>\n    <tr>\n      <th>510</th>\n      <td>460</td>\n      <td>Abomasnow</td>\n      <td>Grass</td>\n      <td>Ice</td>\n      <td>90</td>\n      <td>92</td>\n      <td>75</td>\n      <td>92</td>\n      <td>85</td>\n      <td>60</td>\n      <td>4</td>\n      <td>False</td>\n    </tr>\n    <tr>\n      <th>511</th>\n      <td>460</td>\n      <td>AbomasnowMega Abomasnow</td>\n      <td>Grass</td>\n      <td>Ice</td>\n      <td>90</td>\n      <td>132</td>\n      <td>105</td>\n      <td>132</td>\n      <td>105</td>\n      <td>30</td>\n      <td>4</td>\n      <td>False</td>\n    </tr>\n    <tr>\n      <th>153</th>\n      <td>142</td>\n      <td>Aerodactyl</td>\n      <td>Rock</td>\n      <td>Flying</td>\n      <td>80</td>\n      <td>105</td>\n      <td>65</td>\n      <td>60</td>\n      <td>75</td>\n      <td>130</td>\n      <td>1</td>\n      <td>False</td>\n    </tr>\n    <tr>\n      <th>154</th>\n      <td>142</td>\n      <td>AerodactylMega Aerodactyl</td>\n      <td>Rock</td>\n      <td>Flying</td>\n      <td>80</td>\n      <td>135</td>\n      <td>85</td>\n      <td>70</td>\n      <td>95</td>\n      <td>150</td>\n      <td>1</td>\n      <td>False</td>\n    </tr>\n    <tr>\n      <th>365</th>\n      <td>334</td>\n      <td>Altaria</td>\n      <td>Dragon</td>\n      <td>Flying</td>\n      <td>75</td>\n      <td>70</td>\n      <td>90</td>\n      <td>70</td>\n      <td>105</td>\n      <td>80</td>\n      <td>3</td>\n      <td>False</td>\n    </tr>\n    <tr>\n      <th>...</th>\n      <td>...</td>\n      <td>...</td>\n      <td>...</td>\n      <td>...</td>\n      <td>...</td>\n      <td>...</td>\n      <td>...</td>\n      <td>...</td>\n      <td>...</td>\n      <td>...</td>\n      <td>...</td>\n      <td>...</td>\n    </tr>\n    <tr>\n      <th>793</th>\n      <td>717</td>\n      <td>Yveltal</td>\n      <td>Dark</td>\n      <td>Flying</td>\n      <td>126</td>\n      <td>131</td>\n      <td>95</td>\n      <td>131</td>\n      <td>98</td>\n      <td>99</td>\n      <td>6</td>\n      <td>True</td>\n    </tr>\n    <tr>\n      <th>157</th>\n      <td>145</td>\n      <td>Zapdos</td>\n      <td>Electric</td>\n      <td>Flying</td>\n      <td>90</td>\n      <td>90</td>\n      <td>85</td>\n      <td>125</td>\n      <td>90</td>\n      <td>100</td>\n      <td>1</td>\n      <td>True</td>\n    </tr>\n    <tr>\n      <th>46</th>\n      <td>41</td>\n      <td>Zubat</td>\n      <td>Poison</td>\n      <td>Flying</td>\n      <td>40</td>\n      <td>45</td>\n      <td>35</td>\n      <td>30</td>\n      <td>40</td>\n      <td>55</td>\n      <td>1</td>\n      <td>False</td>\n    </tr>\n    <tr>\n      <th>695</th>\n      <td>634</td>\n      <td>Zweilous</td>\n      <td>Dark</td>\n      <td>Dragon</td>\n      <td>72</td>\n      <td>85</td>\n      <td>70</td>\n      <td>65</td>\n      <td>70</td>\n      <td>58</td>\n      <td>5</td>\n      <td>False</td>\n    </tr>\n    <tr>\n      <th>794</th>\n      <td>718</td>\n      <td>Zygarde50% Forme</td>\n      <td>Dragon</td>\n      <td>Ground</td>\n      <td>108</td>\n      <td>100</td>\n      <td>121</td>\n      <td>81</td>\n      <td>95</td>\n      <td>95</td>\n      <td>6</td>\n      <td>True</td>\n    </tr>\n  </tbody>\n</table>\n<p>235 rows × 12 columns</p>\n</div>"
          },
          "metadata": {}
        }
      ],
      "execution_count": 27
    },
    {
      "cell_type": "code",
      "source": "pk[\n(pk['Speed'] > 60) &\n(pk['Sp. Def'].between(10,220)) &\n(pk['Attack'] == 100)\n].groupby(['Type 1', 'Type 2']).agg({'Defense':'size', 'HP':'mean', 'Sp. Atk':'min', 'Sp. Def': 'max', 'Speed': 'sum'})",
      "metadata": {
        "trusted": true
      },
      "outputs": [
        {
          "execution_count": 34,
          "output_type": "execute_result",
          "data": {
            "text/plain": "                  Defense     HP  Sp. Atk  Sp. Def  Speed\nType 1   Type 2                                          \nBug      Poison         1   60.0       55       69    112\nDragon   Ground         1  108.0       81       95     95\n         Psychic        1   80.0      140      150    110\nFighting Psychic        1   60.0       80       85    100\nFire     Flying         1   90.0      125       85     90\nGhost    Dragon         1  150.0      100      120     90\nGrass    Dark           1   90.0       90       60     80\n         Poison         1   80.0      122      120     80\nGround   Dragon         1   80.0       80       80    100\nNormal   Grass          1   80.0       60       70     95\nPsychic  Fire           1  100.0      100      100    100\n         Grass          1  100.0      100      100    100\nSteel    Psychic        1  100.0      100      100    100",
            "text/html": "<div>\n<style scoped>\n    .dataframe tbody tr th:only-of-type {\n        vertical-align: middle;\n    }\n\n    .dataframe tbody tr th {\n        vertical-align: top;\n    }\n\n    .dataframe thead th {\n        text-align: right;\n    }\n</style>\n<table border=\"1\" class=\"dataframe\">\n  <thead>\n    <tr style=\"text-align: right;\">\n      <th></th>\n      <th></th>\n      <th>Defense</th>\n      <th>HP</th>\n      <th>Sp. Atk</th>\n      <th>Sp. Def</th>\n      <th>Speed</th>\n    </tr>\n    <tr>\n      <th>Type 1</th>\n      <th>Type 2</th>\n      <th></th>\n      <th></th>\n      <th></th>\n      <th></th>\n      <th></th>\n    </tr>\n  </thead>\n  <tbody>\n    <tr>\n      <th>Bug</th>\n      <th>Poison</th>\n      <td>1</td>\n      <td>60.0</td>\n      <td>55</td>\n      <td>69</td>\n      <td>112</td>\n    </tr>\n    <tr>\n      <th rowspan=\"2\" valign=\"top\">Dragon</th>\n      <th>Ground</th>\n      <td>1</td>\n      <td>108.0</td>\n      <td>81</td>\n      <td>95</td>\n      <td>95</td>\n    </tr>\n    <tr>\n      <th>Psychic</th>\n      <td>1</td>\n      <td>80.0</td>\n      <td>140</td>\n      <td>150</td>\n      <td>110</td>\n    </tr>\n    <tr>\n      <th>Fighting</th>\n      <th>Psychic</th>\n      <td>1</td>\n      <td>60.0</td>\n      <td>80</td>\n      <td>85</td>\n      <td>100</td>\n    </tr>\n    <tr>\n      <th>Fire</th>\n      <th>Flying</th>\n      <td>1</td>\n      <td>90.0</td>\n      <td>125</td>\n      <td>85</td>\n      <td>90</td>\n    </tr>\n    <tr>\n      <th>Ghost</th>\n      <th>Dragon</th>\n      <td>1</td>\n      <td>150.0</td>\n      <td>100</td>\n      <td>120</td>\n      <td>90</td>\n    </tr>\n    <tr>\n      <th rowspan=\"2\" valign=\"top\">Grass</th>\n      <th>Dark</th>\n      <td>1</td>\n      <td>90.0</td>\n      <td>90</td>\n      <td>60</td>\n      <td>80</td>\n    </tr>\n    <tr>\n      <th>Poison</th>\n      <td>1</td>\n      <td>80.0</td>\n      <td>122</td>\n      <td>120</td>\n      <td>80</td>\n    </tr>\n    <tr>\n      <th>Ground</th>\n      <th>Dragon</th>\n      <td>1</td>\n      <td>80.0</td>\n      <td>80</td>\n      <td>80</td>\n      <td>100</td>\n    </tr>\n    <tr>\n      <th>Normal</th>\n      <th>Grass</th>\n      <td>1</td>\n      <td>80.0</td>\n      <td>60</td>\n      <td>70</td>\n      <td>95</td>\n    </tr>\n    <tr>\n      <th rowspan=\"2\" valign=\"top\">Psychic</th>\n      <th>Fire</th>\n      <td>1</td>\n      <td>100.0</td>\n      <td>100</td>\n      <td>100</td>\n      <td>100</td>\n    </tr>\n    <tr>\n      <th>Grass</th>\n      <td>1</td>\n      <td>100.0</td>\n      <td>100</td>\n      <td>100</td>\n      <td>100</td>\n    </tr>\n    <tr>\n      <th>Steel</th>\n      <th>Psychic</th>\n      <td>1</td>\n      <td>100.0</td>\n      <td>100</td>\n      <td>100</td>\n      <td>100</td>\n    </tr>\n  </tbody>\n</table>\n</div>"
          },
          "metadata": {}
        }
      ],
      "execution_count": 34
    },
    {
      "cell_type": "code",
      "source": "pk.groupby(['Type 2']).agg({\n    'HP' : 'max', \n    'Attack':'min', \n    'Defense':'mean', \n    'Speed': 'sum', \n    'Sp. Def':'size'})",
      "metadata": {
        "trusted": true
      },
      "outputs": [
        {
          "execution_count": 8,
          "output_type": "execute_result",
          "data": {
            "text/plain": "           HP  Attack     Defense  Speed  Sp. Def\nType 2                                           \nBug        75      50   80.000000    185        3\nDark      103      63   72.050000   1507       20\nDragon    150      30   87.055556   1450       18\nElectric  125      38   68.333333    429        6\nFairy     140      20   73.869565   1408       23\nFighting  110      61   82.500000   2272       26\nFire      100      30   80.166667    956       12\nFlying    150      20   68.309278   8315       97\nGhost     100      40   82.285714    754       14\nGrass     100      30   80.120000   1433       25\nGround    111      45   90.314286   1913       35\nIce       130      59   85.642857   1045       14\nNormal     86      38   53.750000    357        4\nPoison    114      25   59.558824   2266       34\nPsychic   105      24   87.030303   2293       33\nRock      115      10  126.857143    504       14\nSteel     110      35  104.636364   1306       22\nWater     110      30   85.071429    800       14",
            "text/html": "<div>\n<style scoped>\n    .dataframe tbody tr th:only-of-type {\n        vertical-align: middle;\n    }\n\n    .dataframe tbody tr th {\n        vertical-align: top;\n    }\n\n    .dataframe thead th {\n        text-align: right;\n    }\n</style>\n<table border=\"1\" class=\"dataframe\">\n  <thead>\n    <tr style=\"text-align: right;\">\n      <th></th>\n      <th>HP</th>\n      <th>Attack</th>\n      <th>Defense</th>\n      <th>Speed</th>\n      <th>Sp. Def</th>\n    </tr>\n    <tr>\n      <th>Type 2</th>\n      <th></th>\n      <th></th>\n      <th></th>\n      <th></th>\n      <th></th>\n    </tr>\n  </thead>\n  <tbody>\n    <tr>\n      <th>Bug</th>\n      <td>75</td>\n      <td>50</td>\n      <td>80.000000</td>\n      <td>185</td>\n      <td>3</td>\n    </tr>\n    <tr>\n      <th>Dark</th>\n      <td>103</td>\n      <td>63</td>\n      <td>72.050000</td>\n      <td>1507</td>\n      <td>20</td>\n    </tr>\n    <tr>\n      <th>Dragon</th>\n      <td>150</td>\n      <td>30</td>\n      <td>87.055556</td>\n      <td>1450</td>\n      <td>18</td>\n    </tr>\n    <tr>\n      <th>Electric</th>\n      <td>125</td>\n      <td>38</td>\n      <td>68.333333</td>\n      <td>429</td>\n      <td>6</td>\n    </tr>\n    <tr>\n      <th>Fairy</th>\n      <td>140</td>\n      <td>20</td>\n      <td>73.869565</td>\n      <td>1408</td>\n      <td>23</td>\n    </tr>\n    <tr>\n      <th>Fighting</th>\n      <td>110</td>\n      <td>61</td>\n      <td>82.500000</td>\n      <td>2272</td>\n      <td>26</td>\n    </tr>\n    <tr>\n      <th>Fire</th>\n      <td>100</td>\n      <td>30</td>\n      <td>80.166667</td>\n      <td>956</td>\n      <td>12</td>\n    </tr>\n    <tr>\n      <th>Flying</th>\n      <td>150</td>\n      <td>20</td>\n      <td>68.309278</td>\n      <td>8315</td>\n      <td>97</td>\n    </tr>\n    <tr>\n      <th>Ghost</th>\n      <td>100</td>\n      <td>40</td>\n      <td>82.285714</td>\n      <td>754</td>\n      <td>14</td>\n    </tr>\n    <tr>\n      <th>Grass</th>\n      <td>100</td>\n      <td>30</td>\n      <td>80.120000</td>\n      <td>1433</td>\n      <td>25</td>\n    </tr>\n    <tr>\n      <th>Ground</th>\n      <td>111</td>\n      <td>45</td>\n      <td>90.314286</td>\n      <td>1913</td>\n      <td>35</td>\n    </tr>\n    <tr>\n      <th>Ice</th>\n      <td>130</td>\n      <td>59</td>\n      <td>85.642857</td>\n      <td>1045</td>\n      <td>14</td>\n    </tr>\n    <tr>\n      <th>Normal</th>\n      <td>86</td>\n      <td>38</td>\n      <td>53.750000</td>\n      <td>357</td>\n      <td>4</td>\n    </tr>\n    <tr>\n      <th>Poison</th>\n      <td>114</td>\n      <td>25</td>\n      <td>59.558824</td>\n      <td>2266</td>\n      <td>34</td>\n    </tr>\n    <tr>\n      <th>Psychic</th>\n      <td>105</td>\n      <td>24</td>\n      <td>87.030303</td>\n      <td>2293</td>\n      <td>33</td>\n    </tr>\n    <tr>\n      <th>Rock</th>\n      <td>115</td>\n      <td>10</td>\n      <td>126.857143</td>\n      <td>504</td>\n      <td>14</td>\n    </tr>\n    <tr>\n      <th>Steel</th>\n      <td>110</td>\n      <td>35</td>\n      <td>104.636364</td>\n      <td>1306</td>\n      <td>22</td>\n    </tr>\n    <tr>\n      <th>Water</th>\n      <td>110</td>\n      <td>30</td>\n      <td>85.071429</td>\n      <td>800</td>\n      <td>14</td>\n    </tr>\n  </tbody>\n</table>\n</div>"
          },
          "metadata": {}
        }
      ],
      "execution_count": 8
    },
    {
      "cell_type": "code",
      "source": "pk.dtypes",
      "metadata": {
        "trusted": true
      },
      "outputs": [
        {
          "execution_count": 10,
          "output_type": "execute_result",
          "data": {
            "text/plain": "#              int64\nName          object\nType 1        object\nType 2        object\nHP             int64\nAttack         int64\nDefense        int64\nSp. Atk        int64\nSp. Def        int64\nSpeed          int64\nGeneration     int64\nLegendary       bool\ndtype: object"
          },
          "metadata": {}
        }
      ],
      "execution_count": 10
    },
    {
      "cell_type": "code",
      "source": "select * \nfrom pk\nwhere HP > 60 and Attack < 80",
      "metadata": {
        "trusted": true
      },
      "outputs": [],
      "execution_count": null
    },
    {
      "cell_type": "code",
      "source": "pk[(pk['HP'] > 60) & (pk['Attack'] < 80)]",
      "metadata": {
        "trusted": true
      },
      "outputs": [
        {
          "execution_count": 11,
          "output_type": "execute_result",
          "data": {
            "text/plain": "       #       Name    Type 1  Type 2   HP  Attack  Defense  Sp. Atk  Sp. Def  \\\n21    17  Pidgeotto    Normal  Flying   63      60       55       50       50   \n35    30   Nidorina    Poison     NaN   70      62       67       55       55   \n38    33   Nidorino    Poison     NaN   61      72       57       55       55   \n40    35   Clefairy     Fairy     NaN   70      45       48       60       65   \n41    36   Clefable     Fairy     NaN   95      70       73       95       90   \n..   ...        ...       ...     ...  ...     ...      ...      ...      ...   \n769  699    Aurorus      Rock     Ice  123      77       72       99       92   \n770  700    Sylveon     Fairy     NaN   95      65       65      110      130   \n772  702    Dedenne  Electric   Fairy   67      58       57       81       67   \n775  705    Sliggoo    Dragon     NaN   68      75       53       83      113   \n791  715    Noivern    Flying  Dragon   85      70       80       97       80   \n\n     Speed  Generation  Legendary  \n21      71           1      False  \n35      56           1      False  \n38      65           1      False  \n40      35           1      False  \n41      60           1      False  \n..     ...         ...        ...  \n769     58           6      False  \n770     60           6      False  \n772    101           6      False  \n775     60           6      False  \n791    123           6      False  \n\n[152 rows x 12 columns]",
            "text/html": "<div>\n<style scoped>\n    .dataframe tbody tr th:only-of-type {\n        vertical-align: middle;\n    }\n\n    .dataframe tbody tr th {\n        vertical-align: top;\n    }\n\n    .dataframe thead th {\n        text-align: right;\n    }\n</style>\n<table border=\"1\" class=\"dataframe\">\n  <thead>\n    <tr style=\"text-align: right;\">\n      <th></th>\n      <th>#</th>\n      <th>Name</th>\n      <th>Type 1</th>\n      <th>Type 2</th>\n      <th>HP</th>\n      <th>Attack</th>\n      <th>Defense</th>\n      <th>Sp. Atk</th>\n      <th>Sp. Def</th>\n      <th>Speed</th>\n      <th>Generation</th>\n      <th>Legendary</th>\n    </tr>\n  </thead>\n  <tbody>\n    <tr>\n      <th>21</th>\n      <td>17</td>\n      <td>Pidgeotto</td>\n      <td>Normal</td>\n      <td>Flying</td>\n      <td>63</td>\n      <td>60</td>\n      <td>55</td>\n      <td>50</td>\n      <td>50</td>\n      <td>71</td>\n      <td>1</td>\n      <td>False</td>\n    </tr>\n    <tr>\n      <th>35</th>\n      <td>30</td>\n      <td>Nidorina</td>\n      <td>Poison</td>\n      <td>NaN</td>\n      <td>70</td>\n      <td>62</td>\n      <td>67</td>\n      <td>55</td>\n      <td>55</td>\n      <td>56</td>\n      <td>1</td>\n      <td>False</td>\n    </tr>\n    <tr>\n      <th>38</th>\n      <td>33</td>\n      <td>Nidorino</td>\n      <td>Poison</td>\n      <td>NaN</td>\n      <td>61</td>\n      <td>72</td>\n      <td>57</td>\n      <td>55</td>\n      <td>55</td>\n      <td>65</td>\n      <td>1</td>\n      <td>False</td>\n    </tr>\n    <tr>\n      <th>40</th>\n      <td>35</td>\n      <td>Clefairy</td>\n      <td>Fairy</td>\n      <td>NaN</td>\n      <td>70</td>\n      <td>45</td>\n      <td>48</td>\n      <td>60</td>\n      <td>65</td>\n      <td>35</td>\n      <td>1</td>\n      <td>False</td>\n    </tr>\n    <tr>\n      <th>41</th>\n      <td>36</td>\n      <td>Clefable</td>\n      <td>Fairy</td>\n      <td>NaN</td>\n      <td>95</td>\n      <td>70</td>\n      <td>73</td>\n      <td>95</td>\n      <td>90</td>\n      <td>60</td>\n      <td>1</td>\n      <td>False</td>\n    </tr>\n    <tr>\n      <th>...</th>\n      <td>...</td>\n      <td>...</td>\n      <td>...</td>\n      <td>...</td>\n      <td>...</td>\n      <td>...</td>\n      <td>...</td>\n      <td>...</td>\n      <td>...</td>\n      <td>...</td>\n      <td>...</td>\n      <td>...</td>\n    </tr>\n    <tr>\n      <th>769</th>\n      <td>699</td>\n      <td>Aurorus</td>\n      <td>Rock</td>\n      <td>Ice</td>\n      <td>123</td>\n      <td>77</td>\n      <td>72</td>\n      <td>99</td>\n      <td>92</td>\n      <td>58</td>\n      <td>6</td>\n      <td>False</td>\n    </tr>\n    <tr>\n      <th>770</th>\n      <td>700</td>\n      <td>Sylveon</td>\n      <td>Fairy</td>\n      <td>NaN</td>\n      <td>95</td>\n      <td>65</td>\n      <td>65</td>\n      <td>110</td>\n      <td>130</td>\n      <td>60</td>\n      <td>6</td>\n      <td>False</td>\n    </tr>\n    <tr>\n      <th>772</th>\n      <td>702</td>\n      <td>Dedenne</td>\n      <td>Electric</td>\n      <td>Fairy</td>\n      <td>67</td>\n      <td>58</td>\n      <td>57</td>\n      <td>81</td>\n      <td>67</td>\n      <td>101</td>\n      <td>6</td>\n      <td>False</td>\n    </tr>\n    <tr>\n      <th>775</th>\n      <td>705</td>\n      <td>Sliggoo</td>\n      <td>Dragon</td>\n      <td>NaN</td>\n      <td>68</td>\n      <td>75</td>\n      <td>53</td>\n      <td>83</td>\n      <td>113</td>\n      <td>60</td>\n      <td>6</td>\n      <td>False</td>\n    </tr>\n    <tr>\n      <th>791</th>\n      <td>715</td>\n      <td>Noivern</td>\n      <td>Flying</td>\n      <td>Dragon</td>\n      <td>85</td>\n      <td>70</td>\n      <td>80</td>\n      <td>97</td>\n      <td>80</td>\n      <td>123</td>\n      <td>6</td>\n      <td>False</td>\n    </tr>\n  </tbody>\n</table>\n<p>152 rows × 12 columns</p>\n</div>"
          },
          "metadata": {}
        }
      ],
      "execution_count": 11
    },
    {
      "cell_type": "code",
      "source": "select * \nfrom pk\nwhere Type 1 == 'Grass' or Type 2 != 'Poison'",
      "metadata": {
        "trusted": true
      },
      "outputs": [],
      "execution_count": null
    },
    {
      "cell_type": "code",
      "source": "pk[(pk['Type 1'] == 'Grass') | (pk['Type 2'] == 'Fairy')]",
      "metadata": {
        "trusted": true
      },
      "outputs": [
        {
          "execution_count": 18,
          "output_type": "execute_result",
          "data": {
            "text/plain": "       #                   Name    Type 1  Type 2   HP  Attack  Defense  \\\n0      1              Bulbasaur     Grass  Poison   45      49       49   \n1      2                Ivysaur     Grass  Poison   60      62       63   \n2      3               Venusaur     Grass  Poison   80      82       83   \n3      3  VenusaurMega Venusaur     Grass  Poison   80     100      123   \n44    39             Jigglypuff    Normal   Fairy  115      45       20   \n..   ...                    ...       ...     ...  ...     ...      ...   \n772  702                Dedenne  Electric   Fairy   67      58       57   \n773  703                Carbink      Rock   Fairy   50      50      150   \n777  707                 Klefki     Steel   Fairy   57      80       91   \n795  719                Diancie      Rock   Fairy   50     100      150   \n796  719    DiancieMega Diancie      Rock   Fairy   50     160      110   \n\n     Sp. Atk  Sp. Def  Speed  Generation  Legendary  \n0         65       65     45           1      False  \n1         80       80     60           1      False  \n2        100      100     80           1      False  \n3        122      120     80           1      False  \n44        45       25     20           1      False  \n..       ...      ...    ...         ...        ...  \n772       81       67    101           6      False  \n773       50      150     50           6      False  \n777       80       87     75           6      False  \n795      100      150     50           6       True  \n796      160      110    110           6       True  \n\n[91 rows x 12 columns]",
            "text/html": "<div>\n<style scoped>\n    .dataframe tbody tr th:only-of-type {\n        vertical-align: middle;\n    }\n\n    .dataframe tbody tr th {\n        vertical-align: top;\n    }\n\n    .dataframe thead th {\n        text-align: right;\n    }\n</style>\n<table border=\"1\" class=\"dataframe\">\n  <thead>\n    <tr style=\"text-align: right;\">\n      <th></th>\n      <th>#</th>\n      <th>Name</th>\n      <th>Type 1</th>\n      <th>Type 2</th>\n      <th>HP</th>\n      <th>Attack</th>\n      <th>Defense</th>\n      <th>Sp. Atk</th>\n      <th>Sp. Def</th>\n      <th>Speed</th>\n      <th>Generation</th>\n      <th>Legendary</th>\n    </tr>\n  </thead>\n  <tbody>\n    <tr>\n      <th>0</th>\n      <td>1</td>\n      <td>Bulbasaur</td>\n      <td>Grass</td>\n      <td>Poison</td>\n      <td>45</td>\n      <td>49</td>\n      <td>49</td>\n      <td>65</td>\n      <td>65</td>\n      <td>45</td>\n      <td>1</td>\n      <td>False</td>\n    </tr>\n    <tr>\n      <th>1</th>\n      <td>2</td>\n      <td>Ivysaur</td>\n      <td>Grass</td>\n      <td>Poison</td>\n      <td>60</td>\n      <td>62</td>\n      <td>63</td>\n      <td>80</td>\n      <td>80</td>\n      <td>60</td>\n      <td>1</td>\n      <td>False</td>\n    </tr>\n    <tr>\n      <th>2</th>\n      <td>3</td>\n      <td>Venusaur</td>\n      <td>Grass</td>\n      <td>Poison</td>\n      <td>80</td>\n      <td>82</td>\n      <td>83</td>\n      <td>100</td>\n      <td>100</td>\n      <td>80</td>\n      <td>1</td>\n      <td>False</td>\n    </tr>\n    <tr>\n      <th>3</th>\n      <td>3</td>\n      <td>VenusaurMega Venusaur</td>\n      <td>Grass</td>\n      <td>Poison</td>\n      <td>80</td>\n      <td>100</td>\n      <td>123</td>\n      <td>122</td>\n      <td>120</td>\n      <td>80</td>\n      <td>1</td>\n      <td>False</td>\n    </tr>\n    <tr>\n      <th>44</th>\n      <td>39</td>\n      <td>Jigglypuff</td>\n      <td>Normal</td>\n      <td>Fairy</td>\n      <td>115</td>\n      <td>45</td>\n      <td>20</td>\n      <td>45</td>\n      <td>25</td>\n      <td>20</td>\n      <td>1</td>\n      <td>False</td>\n    </tr>\n    <tr>\n      <th>...</th>\n      <td>...</td>\n      <td>...</td>\n      <td>...</td>\n      <td>...</td>\n      <td>...</td>\n      <td>...</td>\n      <td>...</td>\n      <td>...</td>\n      <td>...</td>\n      <td>...</td>\n      <td>...</td>\n      <td>...</td>\n    </tr>\n    <tr>\n      <th>772</th>\n      <td>702</td>\n      <td>Dedenne</td>\n      <td>Electric</td>\n      <td>Fairy</td>\n      <td>67</td>\n      <td>58</td>\n      <td>57</td>\n      <td>81</td>\n      <td>67</td>\n      <td>101</td>\n      <td>6</td>\n      <td>False</td>\n    </tr>\n    <tr>\n      <th>773</th>\n      <td>703</td>\n      <td>Carbink</td>\n      <td>Rock</td>\n      <td>Fairy</td>\n      <td>50</td>\n      <td>50</td>\n      <td>150</td>\n      <td>50</td>\n      <td>150</td>\n      <td>50</td>\n      <td>6</td>\n      <td>False</td>\n    </tr>\n    <tr>\n      <th>777</th>\n      <td>707</td>\n      <td>Klefki</td>\n      <td>Steel</td>\n      <td>Fairy</td>\n      <td>57</td>\n      <td>80</td>\n      <td>91</td>\n      <td>80</td>\n      <td>87</td>\n      <td>75</td>\n      <td>6</td>\n      <td>False</td>\n    </tr>\n    <tr>\n      <th>795</th>\n      <td>719</td>\n      <td>Diancie</td>\n      <td>Rock</td>\n      <td>Fairy</td>\n      <td>50</td>\n      <td>100</td>\n      <td>150</td>\n      <td>100</td>\n      <td>150</td>\n      <td>50</td>\n      <td>6</td>\n      <td>True</td>\n    </tr>\n    <tr>\n      <th>796</th>\n      <td>719</td>\n      <td>DiancieMega Diancie</td>\n      <td>Rock</td>\n      <td>Fairy</td>\n      <td>50</td>\n      <td>160</td>\n      <td>110</td>\n      <td>160</td>\n      <td>110</td>\n      <td>110</td>\n      <td>6</td>\n      <td>True</td>\n    </tr>\n  </tbody>\n</table>\n<p>91 rows × 12 columns</p>\n</div>"
          },
          "metadata": {}
        }
      ],
      "execution_count": 18
    },
    {
      "cell_type": "code",
      "source": "select *\nfrom pk\nwhere Type 2 is null",
      "metadata": {
        "trusted": true
      },
      "outputs": [],
      "execution_count": null
    },
    {
      "cell_type": "code",
      "source": "pk[pk['Type 2'].isna()]",
      "metadata": {
        "trusted": true
      },
      "outputs": [
        {
          "execution_count": 20,
          "output_type": "execute_result",
          "data": {
            "text/plain": "       #        Name  Type 1 Type 2   HP  Attack  Defense  Sp. Atk  Sp. Def  \\\n4      4  Charmander    Fire    NaN   39      52       43       60       50   \n5      5  Charmeleon    Fire    NaN   58      64       58       80       65   \n9      7    Squirtle   Water    NaN   44      48       65       50       64   \n10     8   Wartortle   Water    NaN   59      63       80       65       80   \n11     9   Blastoise   Water    NaN   79      83      100       85      105   \n..   ...         ...     ...    ...  ...     ...      ...      ...      ...   \n775  705     Sliggoo  Dragon    NaN   68      75       53       83      113   \n776  706      Goodra  Dragon    NaN   90     100       70      110      150   \n788  712    Bergmite     Ice    NaN   55      69       85       32       35   \n789  713     Avalugg     Ice    NaN   95     117      184       44       46   \n792  716     Xerneas   Fairy    NaN  126     131       95      131       98   \n\n     Speed  Generation  Legendary  \n4       65           1      False  \n5       80           1      False  \n9       43           1      False  \n10      58           1      False  \n11      78           1      False  \n..     ...         ...        ...  \n775     60           6      False  \n776     80           6      False  \n788     28           6      False  \n789     28           6      False  \n792     99           6       True  \n\n[386 rows x 12 columns]",
            "text/html": "<div>\n<style scoped>\n    .dataframe tbody tr th:only-of-type {\n        vertical-align: middle;\n    }\n\n    .dataframe tbody tr th {\n        vertical-align: top;\n    }\n\n    .dataframe thead th {\n        text-align: right;\n    }\n</style>\n<table border=\"1\" class=\"dataframe\">\n  <thead>\n    <tr style=\"text-align: right;\">\n      <th></th>\n      <th>#</th>\n      <th>Name</th>\n      <th>Type 1</th>\n      <th>Type 2</th>\n      <th>HP</th>\n      <th>Attack</th>\n      <th>Defense</th>\n      <th>Sp. Atk</th>\n      <th>Sp. Def</th>\n      <th>Speed</th>\n      <th>Generation</th>\n      <th>Legendary</th>\n    </tr>\n  </thead>\n  <tbody>\n    <tr>\n      <th>4</th>\n      <td>4</td>\n      <td>Charmander</td>\n      <td>Fire</td>\n      <td>NaN</td>\n      <td>39</td>\n      <td>52</td>\n      <td>43</td>\n      <td>60</td>\n      <td>50</td>\n      <td>65</td>\n      <td>1</td>\n      <td>False</td>\n    </tr>\n    <tr>\n      <th>5</th>\n      <td>5</td>\n      <td>Charmeleon</td>\n      <td>Fire</td>\n      <td>NaN</td>\n      <td>58</td>\n      <td>64</td>\n      <td>58</td>\n      <td>80</td>\n      <td>65</td>\n      <td>80</td>\n      <td>1</td>\n      <td>False</td>\n    </tr>\n    <tr>\n      <th>9</th>\n      <td>7</td>\n      <td>Squirtle</td>\n      <td>Water</td>\n      <td>NaN</td>\n      <td>44</td>\n      <td>48</td>\n      <td>65</td>\n      <td>50</td>\n      <td>64</td>\n      <td>43</td>\n      <td>1</td>\n      <td>False</td>\n    </tr>\n    <tr>\n      <th>10</th>\n      <td>8</td>\n      <td>Wartortle</td>\n      <td>Water</td>\n      <td>NaN</td>\n      <td>59</td>\n      <td>63</td>\n      <td>80</td>\n      <td>65</td>\n      <td>80</td>\n      <td>58</td>\n      <td>1</td>\n      <td>False</td>\n    </tr>\n    <tr>\n      <th>11</th>\n      <td>9</td>\n      <td>Blastoise</td>\n      <td>Water</td>\n      <td>NaN</td>\n      <td>79</td>\n      <td>83</td>\n      <td>100</td>\n      <td>85</td>\n      <td>105</td>\n      <td>78</td>\n      <td>1</td>\n      <td>False</td>\n    </tr>\n    <tr>\n      <th>...</th>\n      <td>...</td>\n      <td>...</td>\n      <td>...</td>\n      <td>...</td>\n      <td>...</td>\n      <td>...</td>\n      <td>...</td>\n      <td>...</td>\n      <td>...</td>\n      <td>...</td>\n      <td>...</td>\n      <td>...</td>\n    </tr>\n    <tr>\n      <th>775</th>\n      <td>705</td>\n      <td>Sliggoo</td>\n      <td>Dragon</td>\n      <td>NaN</td>\n      <td>68</td>\n      <td>75</td>\n      <td>53</td>\n      <td>83</td>\n      <td>113</td>\n      <td>60</td>\n      <td>6</td>\n      <td>False</td>\n    </tr>\n    <tr>\n      <th>776</th>\n      <td>706</td>\n      <td>Goodra</td>\n      <td>Dragon</td>\n      <td>NaN</td>\n      <td>90</td>\n      <td>100</td>\n      <td>70</td>\n      <td>110</td>\n      <td>150</td>\n      <td>80</td>\n      <td>6</td>\n      <td>False</td>\n    </tr>\n    <tr>\n      <th>788</th>\n      <td>712</td>\n      <td>Bergmite</td>\n      <td>Ice</td>\n      <td>NaN</td>\n      <td>55</td>\n      <td>69</td>\n      <td>85</td>\n      <td>32</td>\n      <td>35</td>\n      <td>28</td>\n      <td>6</td>\n      <td>False</td>\n    </tr>\n    <tr>\n      <th>789</th>\n      <td>713</td>\n      <td>Avalugg</td>\n      <td>Ice</td>\n      <td>NaN</td>\n      <td>95</td>\n      <td>117</td>\n      <td>184</td>\n      <td>44</td>\n      <td>46</td>\n      <td>28</td>\n      <td>6</td>\n      <td>False</td>\n    </tr>\n    <tr>\n      <th>792</th>\n      <td>716</td>\n      <td>Xerneas</td>\n      <td>Fairy</td>\n      <td>NaN</td>\n      <td>126</td>\n      <td>131</td>\n      <td>95</td>\n      <td>131</td>\n      <td>98</td>\n      <td>99</td>\n      <td>6</td>\n      <td>True</td>\n    </tr>\n  </tbody>\n</table>\n<p>386 rows × 12 columns</p>\n</div>"
          },
          "metadata": {}
        }
      ],
      "execution_count": 20
    },
    {
      "cell_type": "code",
      "source": "select *\nfrom pk\nwhere Type 2 is not null",
      "metadata": {
        "trusted": true
      },
      "outputs": [],
      "execution_count": null
    },
    {
      "cell_type": "code",
      "source": "pk[pk['Type 2'].notna()]",
      "metadata": {
        "trusted": true
      },
      "outputs": [
        {
          "execution_count": 21,
          "output_type": "execute_result",
          "data": {
            "text/plain": "       #                   Name   Type 1  Type 2  HP  Attack  Defense  \\\n0      1              Bulbasaur    Grass  Poison  45      49       49   \n1      2                Ivysaur    Grass  Poison  60      62       63   \n2      3               Venusaur    Grass  Poison  80      82       83   \n3      3  VenusaurMega Venusaur    Grass  Poison  80     100      123   \n6      6              Charizard     Fire  Flying  78      84       78   \n..   ...                    ...      ...     ...  ..     ...      ...   \n795  719                Diancie     Rock   Fairy  50     100      150   \n796  719    DiancieMega Diancie     Rock   Fairy  50     160      110   \n797  720    HoopaHoopa Confined  Psychic   Ghost  80     110       60   \n798  720     HoopaHoopa Unbound  Psychic    Dark  80     160       60   \n799  721              Volcanion     Fire   Water  80     110      120   \n\n     Sp. Atk  Sp. Def  Speed  Generation  Legendary  \n0         65       65     45           1      False  \n1         80       80     60           1      False  \n2        100      100     80           1      False  \n3        122      120     80           1      False  \n6        109       85    100           1      False  \n..       ...      ...    ...         ...        ...  \n795      100      150     50           6       True  \n796      160      110    110           6       True  \n797      150      130     70           6       True  \n798      170      130     80           6       True  \n799      130       90     70           6       True  \n\n[414 rows x 12 columns]",
            "text/html": "<div>\n<style scoped>\n    .dataframe tbody tr th:only-of-type {\n        vertical-align: middle;\n    }\n\n    .dataframe tbody tr th {\n        vertical-align: top;\n    }\n\n    .dataframe thead th {\n        text-align: right;\n    }\n</style>\n<table border=\"1\" class=\"dataframe\">\n  <thead>\n    <tr style=\"text-align: right;\">\n      <th></th>\n      <th>#</th>\n      <th>Name</th>\n      <th>Type 1</th>\n      <th>Type 2</th>\n      <th>HP</th>\n      <th>Attack</th>\n      <th>Defense</th>\n      <th>Sp. Atk</th>\n      <th>Sp. Def</th>\n      <th>Speed</th>\n      <th>Generation</th>\n      <th>Legendary</th>\n    </tr>\n  </thead>\n  <tbody>\n    <tr>\n      <th>0</th>\n      <td>1</td>\n      <td>Bulbasaur</td>\n      <td>Grass</td>\n      <td>Poison</td>\n      <td>45</td>\n      <td>49</td>\n      <td>49</td>\n      <td>65</td>\n      <td>65</td>\n      <td>45</td>\n      <td>1</td>\n      <td>False</td>\n    </tr>\n    <tr>\n      <th>1</th>\n      <td>2</td>\n      <td>Ivysaur</td>\n      <td>Grass</td>\n      <td>Poison</td>\n      <td>60</td>\n      <td>62</td>\n      <td>63</td>\n      <td>80</td>\n      <td>80</td>\n      <td>60</td>\n      <td>1</td>\n      <td>False</td>\n    </tr>\n    <tr>\n      <th>2</th>\n      <td>3</td>\n      <td>Venusaur</td>\n      <td>Grass</td>\n      <td>Poison</td>\n      <td>80</td>\n      <td>82</td>\n      <td>83</td>\n      <td>100</td>\n      <td>100</td>\n      <td>80</td>\n      <td>1</td>\n      <td>False</td>\n    </tr>\n    <tr>\n      <th>3</th>\n      <td>3</td>\n      <td>VenusaurMega Venusaur</td>\n      <td>Grass</td>\n      <td>Poison</td>\n      <td>80</td>\n      <td>100</td>\n      <td>123</td>\n      <td>122</td>\n      <td>120</td>\n      <td>80</td>\n      <td>1</td>\n      <td>False</td>\n    </tr>\n    <tr>\n      <th>6</th>\n      <td>6</td>\n      <td>Charizard</td>\n      <td>Fire</td>\n      <td>Flying</td>\n      <td>78</td>\n      <td>84</td>\n      <td>78</td>\n      <td>109</td>\n      <td>85</td>\n      <td>100</td>\n      <td>1</td>\n      <td>False</td>\n    </tr>\n    <tr>\n      <th>...</th>\n      <td>...</td>\n      <td>...</td>\n      <td>...</td>\n      <td>...</td>\n      <td>...</td>\n      <td>...</td>\n      <td>...</td>\n      <td>...</td>\n      <td>...</td>\n      <td>...</td>\n      <td>...</td>\n      <td>...</td>\n    </tr>\n    <tr>\n      <th>795</th>\n      <td>719</td>\n      <td>Diancie</td>\n      <td>Rock</td>\n      <td>Fairy</td>\n      <td>50</td>\n      <td>100</td>\n      <td>150</td>\n      <td>100</td>\n      <td>150</td>\n      <td>50</td>\n      <td>6</td>\n      <td>True</td>\n    </tr>\n    <tr>\n      <th>796</th>\n      <td>719</td>\n      <td>DiancieMega Diancie</td>\n      <td>Rock</td>\n      <td>Fairy</td>\n      <td>50</td>\n      <td>160</td>\n      <td>110</td>\n      <td>160</td>\n      <td>110</td>\n      <td>110</td>\n      <td>6</td>\n      <td>True</td>\n    </tr>\n    <tr>\n      <th>797</th>\n      <td>720</td>\n      <td>HoopaHoopa Confined</td>\n      <td>Psychic</td>\n      <td>Ghost</td>\n      <td>80</td>\n      <td>110</td>\n      <td>60</td>\n      <td>150</td>\n      <td>130</td>\n      <td>70</td>\n      <td>6</td>\n      <td>True</td>\n    </tr>\n    <tr>\n      <th>798</th>\n      <td>720</td>\n      <td>HoopaHoopa Unbound</td>\n      <td>Psychic</td>\n      <td>Dark</td>\n      <td>80</td>\n      <td>160</td>\n      <td>60</td>\n      <td>170</td>\n      <td>130</td>\n      <td>80</td>\n      <td>6</td>\n      <td>True</td>\n    </tr>\n    <tr>\n      <th>799</th>\n      <td>721</td>\n      <td>Volcanion</td>\n      <td>Fire</td>\n      <td>Water</td>\n      <td>80</td>\n      <td>110</td>\n      <td>120</td>\n      <td>130</td>\n      <td>90</td>\n      <td>70</td>\n      <td>6</td>\n      <td>True</td>\n    </tr>\n  </tbody>\n</table>\n<p>414 rows × 12 columns</p>\n</div>"
          },
          "metadata": {}
        }
      ],
      "execution_count": 21
    },
    {
      "cell_type": "code",
      "source": "select Name, Type 1, \n    count(Defense), \n    avg(HP), \n    min(Sp. Atk), \n    max(Sp. Def), \n    sum(Speed)\nfrom pk\ngroup by Name, Type 1",
      "metadata": {
        "trusted": true
      },
      "outputs": [],
      "execution_count": null
    },
    {
      "cell_type": "code",
      "source": "pk.groupby(['Name', 'Type 1']).agg({'Defense':'size', 'HP':'mean', 'Sp. Atk':'min', 'Sp. Def': 'max', 'Speed': 'sum'})",
      "metadata": {
        "trusted": true
      },
      "outputs": [
        {
          "execution_count": 23,
          "output_type": "execute_result",
          "data": {
            "text/plain": "                                 Defense     HP  Sp. Atk  Sp. Def  Speed\nName                    Type 1                                          \nAbomasnow               Grass          1   90.0       92       85     60\nAbomasnowMega Abomasnow Grass          1   90.0      132      105     30\nAbra                    Psychic        1   25.0      105       55     90\nAbsol                   Dark           1   65.0       75       60     75\nAbsolMega Absol         Dark           1   65.0      115       60    115\n...                                  ...    ...      ...      ...    ...\nZoroark                 Dark           1   60.0      120       60    105\nZorua                   Dark           1   40.0       80       40     65\nZubat                   Poison         1   40.0       30       40     55\nZweilous                Dark           1   72.0       65       70     58\nZygarde50% Forme        Dragon         1  108.0       81       95     95\n\n[800 rows x 5 columns]",
            "text/html": "<div>\n<style scoped>\n    .dataframe tbody tr th:only-of-type {\n        vertical-align: middle;\n    }\n\n    .dataframe tbody tr th {\n        vertical-align: top;\n    }\n\n    .dataframe thead th {\n        text-align: right;\n    }\n</style>\n<table border=\"1\" class=\"dataframe\">\n  <thead>\n    <tr style=\"text-align: right;\">\n      <th></th>\n      <th></th>\n      <th>Defense</th>\n      <th>HP</th>\n      <th>Sp. Atk</th>\n      <th>Sp. Def</th>\n      <th>Speed</th>\n    </tr>\n    <tr>\n      <th>Name</th>\n      <th>Type 1</th>\n      <th></th>\n      <th></th>\n      <th></th>\n      <th></th>\n      <th></th>\n    </tr>\n  </thead>\n  <tbody>\n    <tr>\n      <th>Abomasnow</th>\n      <th>Grass</th>\n      <td>1</td>\n      <td>90.0</td>\n      <td>92</td>\n      <td>85</td>\n      <td>60</td>\n    </tr>\n    <tr>\n      <th>AbomasnowMega Abomasnow</th>\n      <th>Grass</th>\n      <td>1</td>\n      <td>90.0</td>\n      <td>132</td>\n      <td>105</td>\n      <td>30</td>\n    </tr>\n    <tr>\n      <th>Abra</th>\n      <th>Psychic</th>\n      <td>1</td>\n      <td>25.0</td>\n      <td>105</td>\n      <td>55</td>\n      <td>90</td>\n    </tr>\n    <tr>\n      <th>Absol</th>\n      <th>Dark</th>\n      <td>1</td>\n      <td>65.0</td>\n      <td>75</td>\n      <td>60</td>\n      <td>75</td>\n    </tr>\n    <tr>\n      <th>AbsolMega Absol</th>\n      <th>Dark</th>\n      <td>1</td>\n      <td>65.0</td>\n      <td>115</td>\n      <td>60</td>\n      <td>115</td>\n    </tr>\n    <tr>\n      <th>...</th>\n      <th>...</th>\n      <td>...</td>\n      <td>...</td>\n      <td>...</td>\n      <td>...</td>\n      <td>...</td>\n    </tr>\n    <tr>\n      <th>Zoroark</th>\n      <th>Dark</th>\n      <td>1</td>\n      <td>60.0</td>\n      <td>120</td>\n      <td>60</td>\n      <td>105</td>\n    </tr>\n    <tr>\n      <th>Zorua</th>\n      <th>Dark</th>\n      <td>1</td>\n      <td>40.0</td>\n      <td>80</td>\n      <td>40</td>\n      <td>65</td>\n    </tr>\n    <tr>\n      <th>Zubat</th>\n      <th>Poison</th>\n      <td>1</td>\n      <td>40.0</td>\n      <td>30</td>\n      <td>40</td>\n      <td>55</td>\n    </tr>\n    <tr>\n      <th>Zweilous</th>\n      <th>Dark</th>\n      <td>1</td>\n      <td>72.0</td>\n      <td>65</td>\n      <td>70</td>\n      <td>58</td>\n    </tr>\n    <tr>\n      <th>Zygarde50% Forme</th>\n      <th>Dragon</th>\n      <td>1</td>\n      <td>108.0</td>\n      <td>81</td>\n      <td>95</td>\n      <td>95</td>\n    </tr>\n  </tbody>\n</table>\n<p>800 rows × 5 columns</p>\n</div>"
          },
          "metadata": {}
        }
      ],
      "execution_count": 23
    },
    {
      "cell_type": "code",
      "source": "select *\nfrom bd1 join bd2 on bd1.id = bd2.id",
      "metadata": {
        "trusted": true
      },
      "outputs": [],
      "execution_count": null
    },
    {
      "cell_type": "code",
      "source": "pd.merge(bd1, bd2, on = 'id')",
      "metadata": {
        "trusted": true
      },
      "outputs": [],
      "execution_count": null
    },
    {
      "cell_type": "code",
      "source": "select * \nfrom pk\nlimit(5)",
      "metadata": {
        "trusted": true
      },
      "outputs": [],
      "execution_count": null
    },
    {
      "cell_type": "code",
      "source": "pk.head(5)",
      "metadata": {
        "trusted": true
      },
      "outputs": [
        {
          "execution_count": 24,
          "output_type": "execute_result",
          "data": {
            "text/plain": "   #                   Name Type 1  Type 2  HP  Attack  Defense  Sp. Atk  \\\n0  1              Bulbasaur  Grass  Poison  45      49       49       65   \n1  2                Ivysaur  Grass  Poison  60      62       63       80   \n2  3               Venusaur  Grass  Poison  80      82       83      100   \n3  3  VenusaurMega Venusaur  Grass  Poison  80     100      123      122   \n4  4             Charmander   Fire     NaN  39      52       43       60   \n\n   Sp. Def  Speed  Generation  Legendary  \n0       65     45           1      False  \n1       80     60           1      False  \n2      100     80           1      False  \n3      120     80           1      False  \n4       50     65           1      False  ",
            "text/html": "<div>\n<style scoped>\n    .dataframe tbody tr th:only-of-type {\n        vertical-align: middle;\n    }\n\n    .dataframe tbody tr th {\n        vertical-align: top;\n    }\n\n    .dataframe thead th {\n        text-align: right;\n    }\n</style>\n<table border=\"1\" class=\"dataframe\">\n  <thead>\n    <tr style=\"text-align: right;\">\n      <th></th>\n      <th>#</th>\n      <th>Name</th>\n      <th>Type 1</th>\n      <th>Type 2</th>\n      <th>HP</th>\n      <th>Attack</th>\n      <th>Defense</th>\n      <th>Sp. Atk</th>\n      <th>Sp. Def</th>\n      <th>Speed</th>\n      <th>Generation</th>\n      <th>Legendary</th>\n    </tr>\n  </thead>\n  <tbody>\n    <tr>\n      <th>0</th>\n      <td>1</td>\n      <td>Bulbasaur</td>\n      <td>Grass</td>\n      <td>Poison</td>\n      <td>45</td>\n      <td>49</td>\n      <td>49</td>\n      <td>65</td>\n      <td>65</td>\n      <td>45</td>\n      <td>1</td>\n      <td>False</td>\n    </tr>\n    <tr>\n      <th>1</th>\n      <td>2</td>\n      <td>Ivysaur</td>\n      <td>Grass</td>\n      <td>Poison</td>\n      <td>60</td>\n      <td>62</td>\n      <td>63</td>\n      <td>80</td>\n      <td>80</td>\n      <td>60</td>\n      <td>1</td>\n      <td>False</td>\n    </tr>\n    <tr>\n      <th>2</th>\n      <td>3</td>\n      <td>Venusaur</td>\n      <td>Grass</td>\n      <td>Poison</td>\n      <td>80</td>\n      <td>82</td>\n      <td>83</td>\n      <td>100</td>\n      <td>100</td>\n      <td>80</td>\n      <td>1</td>\n      <td>False</td>\n    </tr>\n    <tr>\n      <th>3</th>\n      <td>3</td>\n      <td>VenusaurMega Venusaur</td>\n      <td>Grass</td>\n      <td>Poison</td>\n      <td>80</td>\n      <td>100</td>\n      <td>123</td>\n      <td>122</td>\n      <td>120</td>\n      <td>80</td>\n      <td>1</td>\n      <td>False</td>\n    </tr>\n    <tr>\n      <th>4</th>\n      <td>4</td>\n      <td>Charmander</td>\n      <td>Fire</td>\n      <td>NaN</td>\n      <td>39</td>\n      <td>52</td>\n      <td>43</td>\n      <td>60</td>\n      <td>50</td>\n      <td>65</td>\n      <td>1</td>\n      <td>False</td>\n    </tr>\n  </tbody>\n</table>\n</div>"
          },
          "metadata": {}
        }
      ],
      "execution_count": 24
    },
    {
      "cell_type": "code",
      "source": "select *\nfrom pk\norder by desc\nlimit(5)",
      "metadata": {
        "trusted": true
      },
      "outputs": [],
      "execution_count": null
    },
    {
      "cell_type": "code",
      "source": "pk.tail(5)",
      "metadata": {
        "trusted": true
      },
      "outputs": [
        {
          "execution_count": 25,
          "output_type": "execute_result",
          "data": {
            "text/plain": "       #                 Name   Type 1 Type 2  HP  Attack  Defense  Sp. Atk  \\\n795  719              Diancie     Rock  Fairy  50     100      150      100   \n796  719  DiancieMega Diancie     Rock  Fairy  50     160      110      160   \n797  720  HoopaHoopa Confined  Psychic  Ghost  80     110       60      150   \n798  720   HoopaHoopa Unbound  Psychic   Dark  80     160       60      170   \n799  721            Volcanion     Fire  Water  80     110      120      130   \n\n     Sp. Def  Speed  Generation  Legendary  \n795      150     50           6       True  \n796      110    110           6       True  \n797      130     70           6       True  \n798      130     80           6       True  \n799       90     70           6       True  ",
            "text/html": "<div>\n<style scoped>\n    .dataframe tbody tr th:only-of-type {\n        vertical-align: middle;\n    }\n\n    .dataframe tbody tr th {\n        vertical-align: top;\n    }\n\n    .dataframe thead th {\n        text-align: right;\n    }\n</style>\n<table border=\"1\" class=\"dataframe\">\n  <thead>\n    <tr style=\"text-align: right;\">\n      <th></th>\n      <th>#</th>\n      <th>Name</th>\n      <th>Type 1</th>\n      <th>Type 2</th>\n      <th>HP</th>\n      <th>Attack</th>\n      <th>Defense</th>\n      <th>Sp. Atk</th>\n      <th>Sp. Def</th>\n      <th>Speed</th>\n      <th>Generation</th>\n      <th>Legendary</th>\n    </tr>\n  </thead>\n  <tbody>\n    <tr>\n      <th>795</th>\n      <td>719</td>\n      <td>Diancie</td>\n      <td>Rock</td>\n      <td>Fairy</td>\n      <td>50</td>\n      <td>100</td>\n      <td>150</td>\n      <td>100</td>\n      <td>150</td>\n      <td>50</td>\n      <td>6</td>\n      <td>True</td>\n    </tr>\n    <tr>\n      <th>796</th>\n      <td>719</td>\n      <td>DiancieMega Diancie</td>\n      <td>Rock</td>\n      <td>Fairy</td>\n      <td>50</td>\n      <td>160</td>\n      <td>110</td>\n      <td>160</td>\n      <td>110</td>\n      <td>110</td>\n      <td>6</td>\n      <td>True</td>\n    </tr>\n    <tr>\n      <th>797</th>\n      <td>720</td>\n      <td>HoopaHoopa Confined</td>\n      <td>Psychic</td>\n      <td>Ghost</td>\n      <td>80</td>\n      <td>110</td>\n      <td>60</td>\n      <td>150</td>\n      <td>130</td>\n      <td>70</td>\n      <td>6</td>\n      <td>True</td>\n    </tr>\n    <tr>\n      <th>798</th>\n      <td>720</td>\n      <td>HoopaHoopa Unbound</td>\n      <td>Psychic</td>\n      <td>Dark</td>\n      <td>80</td>\n      <td>160</td>\n      <td>60</td>\n      <td>170</td>\n      <td>130</td>\n      <td>80</td>\n      <td>6</td>\n      <td>True</td>\n    </tr>\n    <tr>\n      <th>799</th>\n      <td>721</td>\n      <td>Volcanion</td>\n      <td>Fire</td>\n      <td>Water</td>\n      <td>80</td>\n      <td>110</td>\n      <td>120</td>\n      <td>130</td>\n      <td>90</td>\n      <td>70</td>\n      <td>6</td>\n      <td>True</td>\n    </tr>\n  </tbody>\n</table>\n</div>"
          },
          "metadata": {}
        }
      ],
      "execution_count": 25
    },
    {
      "cell_type": "code",
      "source": "select *\nfrom pk\nlimit 5 offset 10",
      "metadata": {
        "trusted": true
      },
      "outputs": [],
      "execution_count": null
    },
    {
      "cell_type": "code",
      "source": "pk.loc[10:15]",
      "metadata": {
        "trusted": true
      },
      "outputs": [
        {
          "execution_count": 26,
          "output_type": "execute_result",
          "data": {
            "text/plain": "     #                     Name Type 1  Type 2  HP  Attack  Defense  Sp. Atk  \\\n10   8                Wartortle  Water     NaN  59      63       80       65   \n11   9                Blastoise  Water     NaN  79      83      100       85   \n12   9  BlastoiseMega Blastoise  Water     NaN  79     103      120      135   \n13  10                 Caterpie    Bug     NaN  45      30       35       20   \n14  11                  Metapod    Bug     NaN  50      20       55       25   \n15  12               Butterfree    Bug  Flying  60      45       50       90   \n\n    Sp. Def  Speed  Generation  Legendary  \n10       80     58           1      False  \n11      105     78           1      False  \n12      115     78           1      False  \n13       20     45           1      False  \n14       25     30           1      False  \n15       80     70           1      False  ",
            "text/html": "<div>\n<style scoped>\n    .dataframe tbody tr th:only-of-type {\n        vertical-align: middle;\n    }\n\n    .dataframe tbody tr th {\n        vertical-align: top;\n    }\n\n    .dataframe thead th {\n        text-align: right;\n    }\n</style>\n<table border=\"1\" class=\"dataframe\">\n  <thead>\n    <tr style=\"text-align: right;\">\n      <th></th>\n      <th>#</th>\n      <th>Name</th>\n      <th>Type 1</th>\n      <th>Type 2</th>\n      <th>HP</th>\n      <th>Attack</th>\n      <th>Defense</th>\n      <th>Sp. Atk</th>\n      <th>Sp. Def</th>\n      <th>Speed</th>\n      <th>Generation</th>\n      <th>Legendary</th>\n    </tr>\n  </thead>\n  <tbody>\n    <tr>\n      <th>10</th>\n      <td>8</td>\n      <td>Wartortle</td>\n      <td>Water</td>\n      <td>NaN</td>\n      <td>59</td>\n      <td>63</td>\n      <td>80</td>\n      <td>65</td>\n      <td>80</td>\n      <td>58</td>\n      <td>1</td>\n      <td>False</td>\n    </tr>\n    <tr>\n      <th>11</th>\n      <td>9</td>\n      <td>Blastoise</td>\n      <td>Water</td>\n      <td>NaN</td>\n      <td>79</td>\n      <td>83</td>\n      <td>100</td>\n      <td>85</td>\n      <td>105</td>\n      <td>78</td>\n      <td>1</td>\n      <td>False</td>\n    </tr>\n    <tr>\n      <th>12</th>\n      <td>9</td>\n      <td>BlastoiseMega Blastoise</td>\n      <td>Water</td>\n      <td>NaN</td>\n      <td>79</td>\n      <td>103</td>\n      <td>120</td>\n      <td>135</td>\n      <td>115</td>\n      <td>78</td>\n      <td>1</td>\n      <td>False</td>\n    </tr>\n    <tr>\n      <th>13</th>\n      <td>10</td>\n      <td>Caterpie</td>\n      <td>Bug</td>\n      <td>NaN</td>\n      <td>45</td>\n      <td>30</td>\n      <td>35</td>\n      <td>20</td>\n      <td>20</td>\n      <td>45</td>\n      <td>1</td>\n      <td>False</td>\n    </tr>\n    <tr>\n      <th>14</th>\n      <td>11</td>\n      <td>Metapod</td>\n      <td>Bug</td>\n      <td>NaN</td>\n      <td>50</td>\n      <td>20</td>\n      <td>55</td>\n      <td>25</td>\n      <td>25</td>\n      <td>30</td>\n      <td>1</td>\n      <td>False</td>\n    </tr>\n    <tr>\n      <th>15</th>\n      <td>12</td>\n      <td>Butterfree</td>\n      <td>Bug</td>\n      <td>Flying</td>\n      <td>60</td>\n      <td>45</td>\n      <td>50</td>\n      <td>90</td>\n      <td>80</td>\n      <td>70</td>\n      <td>1</td>\n      <td>False</td>\n    </tr>\n  </tbody>\n</table>\n</div>"
          },
          "metadata": {}
        }
      ],
      "execution_count": 26
    },
    {
      "cell_type": "code",
      "source": "pk['Name'][:5]",
      "metadata": {
        "trusted": true
      },
      "outputs": [
        {
          "execution_count": 27,
          "output_type": "execute_result",
          "data": {
            "text/plain": "0                Bulbasaur\n1                  Ivysaur\n2                 Venusaur\n3    VenusaurMega Venusaur\n4               Charmander\nName: Name, dtype: object"
          },
          "metadata": {}
        }
      ],
      "execution_count": 27
    },
    {
      "cell_type": "code",
      "source": "select distinct Type 1\nfrom pk",
      "metadata": {
        "trusted": true
      },
      "outputs": [],
      "execution_count": null
    },
    {
      "cell_type": "code",
      "source": "pk['Type 1'].unique()",
      "metadata": {
        "trusted": true
      },
      "outputs": [
        {
          "execution_count": 29,
          "output_type": "execute_result",
          "data": {
            "text/plain": "array(['Grass', 'Fire', 'Water', 'Bug', 'Normal', 'Poison', 'Electric',\n       'Ground', 'Fairy', 'Fighting', 'Psychic', 'Rock', 'Ghost', 'Ice',\n       'Dragon', 'Dark', 'Steel', 'Flying'], dtype=object)"
          },
          "metadata": {}
        }
      ],
      "execution_count": 29
    },
    {
      "cell_type": "code",
      "source": "select count(distinct Type 1)\nfrom pk",
      "metadata": {
        "trusted": true
      },
      "outputs": [],
      "execution_count": null
    },
    {
      "cell_type": "code",
      "source": "len(pk['Type 1'].unique())",
      "metadata": {
        "trusted": true
      },
      "outputs": [
        {
          "execution_count": 30,
          "output_type": "execute_result",
          "data": {
            "text/plain": "18"
          },
          "metadata": {}
        }
      ],
      "execution_count": 30
    },
    {
      "cell_type": "code",
      "source": "select *\nfrom pk\norder by Attack",
      "metadata": {
        "trusted": true
      },
      "outputs": [],
      "execution_count": null
    },
    {
      "cell_type": "code",
      "source": "pk.sort_values(['Attack'], ascending = 1)",
      "metadata": {
        "trusted": true
      },
      "outputs": [
        {
          "execution_count": 10,
          "output_type": "execute_result",
          "data": {
            "text/plain": "       #                     Name   Type 1    Type 2   HP  Attack  Defense  \\\n488  440                  Happiny   Normal       NaN  100       5        5   \n121  113                  Chansey   Normal       NaN  250       5        5   \n230  213                  Shuckle      Bug      Rock   20      10      230   \n261  242                  Blissey   Normal       NaN  255      10       10   \n139  129                 Magikarp    Water       NaN   20      10       55   \n..   ...                      ...      ...       ...  ...     ...      ...   \n429  386       DeoxysAttack Forme  Psychic       NaN   50     180       20   \n426  384    RayquazaMega Rayquaza   Dragon    Flying  105     180      100   \n424  383    GroudonPrimal Groudon   Ground      Fire  100     180      160   \n232  214  HeracrossMega Heracross      Bug  Fighting   80     185      115   \n163  150      MewtwoMega Mewtwo X  Psychic  Fighting  106     190      100   \n\n     Sp. Atk  Sp. Def  Speed  Generation  Legendary  \n488       15       65     30           4      False  \n121       35      105     50           1      False  \n230       10      230      5           2      False  \n261       75      135     55           2      False  \n139       15       20     80           1      False  \n..       ...      ...    ...         ...        ...  \n429      180       20    150           3       True  \n426      180      100    115           3       True  \n424      150       90     90           3       True  \n232       40      105     75           2      False  \n163      154      100    130           1       True  \n\n[800 rows x 12 columns]",
            "text/html": "<div>\n<style scoped>\n    .dataframe tbody tr th:only-of-type {\n        vertical-align: middle;\n    }\n\n    .dataframe tbody tr th {\n        vertical-align: top;\n    }\n\n    .dataframe thead th {\n        text-align: right;\n    }\n</style>\n<table border=\"1\" class=\"dataframe\">\n  <thead>\n    <tr style=\"text-align: right;\">\n      <th></th>\n      <th>#</th>\n      <th>Name</th>\n      <th>Type 1</th>\n      <th>Type 2</th>\n      <th>HP</th>\n      <th>Attack</th>\n      <th>Defense</th>\n      <th>Sp. Atk</th>\n      <th>Sp. Def</th>\n      <th>Speed</th>\n      <th>Generation</th>\n      <th>Legendary</th>\n    </tr>\n  </thead>\n  <tbody>\n    <tr>\n      <th>488</th>\n      <td>440</td>\n      <td>Happiny</td>\n      <td>Normal</td>\n      <td>NaN</td>\n      <td>100</td>\n      <td>5</td>\n      <td>5</td>\n      <td>15</td>\n      <td>65</td>\n      <td>30</td>\n      <td>4</td>\n      <td>False</td>\n    </tr>\n    <tr>\n      <th>121</th>\n      <td>113</td>\n      <td>Chansey</td>\n      <td>Normal</td>\n      <td>NaN</td>\n      <td>250</td>\n      <td>5</td>\n      <td>5</td>\n      <td>35</td>\n      <td>105</td>\n      <td>50</td>\n      <td>1</td>\n      <td>False</td>\n    </tr>\n    <tr>\n      <th>230</th>\n      <td>213</td>\n      <td>Shuckle</td>\n      <td>Bug</td>\n      <td>Rock</td>\n      <td>20</td>\n      <td>10</td>\n      <td>230</td>\n      <td>10</td>\n      <td>230</td>\n      <td>5</td>\n      <td>2</td>\n      <td>False</td>\n    </tr>\n    <tr>\n      <th>261</th>\n      <td>242</td>\n      <td>Blissey</td>\n      <td>Normal</td>\n      <td>NaN</td>\n      <td>255</td>\n      <td>10</td>\n      <td>10</td>\n      <td>75</td>\n      <td>135</td>\n      <td>55</td>\n      <td>2</td>\n      <td>False</td>\n    </tr>\n    <tr>\n      <th>139</th>\n      <td>129</td>\n      <td>Magikarp</td>\n      <td>Water</td>\n      <td>NaN</td>\n      <td>20</td>\n      <td>10</td>\n      <td>55</td>\n      <td>15</td>\n      <td>20</td>\n      <td>80</td>\n      <td>1</td>\n      <td>False</td>\n    </tr>\n    <tr>\n      <th>...</th>\n      <td>...</td>\n      <td>...</td>\n      <td>...</td>\n      <td>...</td>\n      <td>...</td>\n      <td>...</td>\n      <td>...</td>\n      <td>...</td>\n      <td>...</td>\n      <td>...</td>\n      <td>...</td>\n      <td>...</td>\n    </tr>\n    <tr>\n      <th>429</th>\n      <td>386</td>\n      <td>DeoxysAttack Forme</td>\n      <td>Psychic</td>\n      <td>NaN</td>\n      <td>50</td>\n      <td>180</td>\n      <td>20</td>\n      <td>180</td>\n      <td>20</td>\n      <td>150</td>\n      <td>3</td>\n      <td>True</td>\n    </tr>\n    <tr>\n      <th>426</th>\n      <td>384</td>\n      <td>RayquazaMega Rayquaza</td>\n      <td>Dragon</td>\n      <td>Flying</td>\n      <td>105</td>\n      <td>180</td>\n      <td>100</td>\n      <td>180</td>\n      <td>100</td>\n      <td>115</td>\n      <td>3</td>\n      <td>True</td>\n    </tr>\n    <tr>\n      <th>424</th>\n      <td>383</td>\n      <td>GroudonPrimal Groudon</td>\n      <td>Ground</td>\n      <td>Fire</td>\n      <td>100</td>\n      <td>180</td>\n      <td>160</td>\n      <td>150</td>\n      <td>90</td>\n      <td>90</td>\n      <td>3</td>\n      <td>True</td>\n    </tr>\n    <tr>\n      <th>232</th>\n      <td>214</td>\n      <td>HeracrossMega Heracross</td>\n      <td>Bug</td>\n      <td>Fighting</td>\n      <td>80</td>\n      <td>185</td>\n      <td>115</td>\n      <td>40</td>\n      <td>105</td>\n      <td>75</td>\n      <td>2</td>\n      <td>False</td>\n    </tr>\n    <tr>\n      <th>163</th>\n      <td>150</td>\n      <td>MewtwoMega Mewtwo X</td>\n      <td>Psychic</td>\n      <td>Fighting</td>\n      <td>106</td>\n      <td>190</td>\n      <td>100</td>\n      <td>154</td>\n      <td>100</td>\n      <td>130</td>\n      <td>1</td>\n      <td>True</td>\n    </tr>\n  </tbody>\n</table>\n<p>800 rows × 12 columns</p>\n</div>"
          },
          "metadata": {}
        }
      ],
      "execution_count": 10
    },
    {
      "cell_type": "code",
      "source": "select *\nfrom pk\norder by Attack desc",
      "metadata": {
        "trusted": true
      },
      "outputs": [],
      "execution_count": null
    },
    {
      "cell_type": "code",
      "source": "pk.sort_values(['Attack'], ascending = 0)",
      "metadata": {
        "trusted": true
      },
      "outputs": [
        {
          "execution_count": 11,
          "output_type": "execute_result",
          "data": {
            "text/plain": "       #                     Name   Type 1    Type 2   HP  Attack  Defense  \\\n163  150      MewtwoMega Mewtwo X  Psychic  Fighting  106     190      100   \n232  214  HeracrossMega Heracross      Bug  Fighting   80     185      115   \n424  383    GroudonPrimal Groudon   Ground      Fire  100     180      160   \n426  384    RayquazaMega Rayquaza   Dragon    Flying  105     180      100   \n429  386       DeoxysAttack Forme  Psychic       NaN   50     180       20   \n..   ...                      ...      ...       ...  ...     ...      ...   \n139  129                 Magikarp    Water       NaN   20      10       55   \n261  242                  Blissey   Normal       NaN  255      10       10   \n230  213                  Shuckle      Bug      Rock   20      10      230   \n121  113                  Chansey   Normal       NaN  250       5        5   \n488  440                  Happiny   Normal       NaN  100       5        5   \n\n     Sp. Atk  Sp. Def  Speed  Generation  Legendary  \n163      154      100    130           1       True  \n232       40      105     75           2      False  \n424      150       90     90           3       True  \n426      180      100    115           3       True  \n429      180       20    150           3       True  \n..       ...      ...    ...         ...        ...  \n139       15       20     80           1      False  \n261       75      135     55           2      False  \n230       10      230      5           2      False  \n121       35      105     50           1      False  \n488       15       65     30           4      False  \n\n[800 rows x 12 columns]",
            "text/html": "<div>\n<style scoped>\n    .dataframe tbody tr th:only-of-type {\n        vertical-align: middle;\n    }\n\n    .dataframe tbody tr th {\n        vertical-align: top;\n    }\n\n    .dataframe thead th {\n        text-align: right;\n    }\n</style>\n<table border=\"1\" class=\"dataframe\">\n  <thead>\n    <tr style=\"text-align: right;\">\n      <th></th>\n      <th>#</th>\n      <th>Name</th>\n      <th>Type 1</th>\n      <th>Type 2</th>\n      <th>HP</th>\n      <th>Attack</th>\n      <th>Defense</th>\n      <th>Sp. Atk</th>\n      <th>Sp. Def</th>\n      <th>Speed</th>\n      <th>Generation</th>\n      <th>Legendary</th>\n    </tr>\n  </thead>\n  <tbody>\n    <tr>\n      <th>163</th>\n      <td>150</td>\n      <td>MewtwoMega Mewtwo X</td>\n      <td>Psychic</td>\n      <td>Fighting</td>\n      <td>106</td>\n      <td>190</td>\n      <td>100</td>\n      <td>154</td>\n      <td>100</td>\n      <td>130</td>\n      <td>1</td>\n      <td>True</td>\n    </tr>\n    <tr>\n      <th>232</th>\n      <td>214</td>\n      <td>HeracrossMega Heracross</td>\n      <td>Bug</td>\n      <td>Fighting</td>\n      <td>80</td>\n      <td>185</td>\n      <td>115</td>\n      <td>40</td>\n      <td>105</td>\n      <td>75</td>\n      <td>2</td>\n      <td>False</td>\n    </tr>\n    <tr>\n      <th>424</th>\n      <td>383</td>\n      <td>GroudonPrimal Groudon</td>\n      <td>Ground</td>\n      <td>Fire</td>\n      <td>100</td>\n      <td>180</td>\n      <td>160</td>\n      <td>150</td>\n      <td>90</td>\n      <td>90</td>\n      <td>3</td>\n      <td>True</td>\n    </tr>\n    <tr>\n      <th>426</th>\n      <td>384</td>\n      <td>RayquazaMega Rayquaza</td>\n      <td>Dragon</td>\n      <td>Flying</td>\n      <td>105</td>\n      <td>180</td>\n      <td>100</td>\n      <td>180</td>\n      <td>100</td>\n      <td>115</td>\n      <td>3</td>\n      <td>True</td>\n    </tr>\n    <tr>\n      <th>429</th>\n      <td>386</td>\n      <td>DeoxysAttack Forme</td>\n      <td>Psychic</td>\n      <td>NaN</td>\n      <td>50</td>\n      <td>180</td>\n      <td>20</td>\n      <td>180</td>\n      <td>20</td>\n      <td>150</td>\n      <td>3</td>\n      <td>True</td>\n    </tr>\n    <tr>\n      <th>...</th>\n      <td>...</td>\n      <td>...</td>\n      <td>...</td>\n      <td>...</td>\n      <td>...</td>\n      <td>...</td>\n      <td>...</td>\n      <td>...</td>\n      <td>...</td>\n      <td>...</td>\n      <td>...</td>\n      <td>...</td>\n    </tr>\n    <tr>\n      <th>139</th>\n      <td>129</td>\n      <td>Magikarp</td>\n      <td>Water</td>\n      <td>NaN</td>\n      <td>20</td>\n      <td>10</td>\n      <td>55</td>\n      <td>15</td>\n      <td>20</td>\n      <td>80</td>\n      <td>1</td>\n      <td>False</td>\n    </tr>\n    <tr>\n      <th>261</th>\n      <td>242</td>\n      <td>Blissey</td>\n      <td>Normal</td>\n      <td>NaN</td>\n      <td>255</td>\n      <td>10</td>\n      <td>10</td>\n      <td>75</td>\n      <td>135</td>\n      <td>55</td>\n      <td>2</td>\n      <td>False</td>\n    </tr>\n    <tr>\n      <th>230</th>\n      <td>213</td>\n      <td>Shuckle</td>\n      <td>Bug</td>\n      <td>Rock</td>\n      <td>20</td>\n      <td>10</td>\n      <td>230</td>\n      <td>10</td>\n      <td>230</td>\n      <td>5</td>\n      <td>2</td>\n      <td>False</td>\n    </tr>\n    <tr>\n      <th>121</th>\n      <td>113</td>\n      <td>Chansey</td>\n      <td>Normal</td>\n      <td>NaN</td>\n      <td>250</td>\n      <td>5</td>\n      <td>5</td>\n      <td>35</td>\n      <td>105</td>\n      <td>50</td>\n      <td>1</td>\n      <td>False</td>\n    </tr>\n    <tr>\n      <th>488</th>\n      <td>440</td>\n      <td>Happiny</td>\n      <td>Normal</td>\n      <td>NaN</td>\n      <td>100</td>\n      <td>5</td>\n      <td>5</td>\n      <td>15</td>\n      <td>65</td>\n      <td>30</td>\n      <td>4</td>\n      <td>False</td>\n    </tr>\n  </tbody>\n</table>\n<p>800 rows × 12 columns</p>\n</div>"
          },
          "metadata": {}
        }
      ],
      "execution_count": 11
    },
    {
      "cell_type": "code",
      "source": "select *\nfrom \nwhere Type 1 in ('Psychic', 'Bug', 'Ground', 'Dragon')",
      "metadata": {
        "trusted": true
      },
      "outputs": [],
      "execution_count": null
    },
    {
      "cell_type": "code",
      "source": "pk[pk['Type 1'].isin(['Psychic', 'Bug', 'Ground', 'Dragon'])]",
      "metadata": {
        "trusted": true
      },
      "outputs": [
        {
          "execution_count": 16,
          "output_type": "execute_result",
          "data": {
            "text/plain": "       #                 Name   Type 1  Type 2   HP  Attack  Defense  Sp. Atk  \\\n13    10             Caterpie      Bug     NaN   45      30       35       20   \n14    11              Metapod      Bug     NaN   50      20       55       25   \n15    12           Butterfree      Bug  Flying   60      45       50       90   \n16    13               Weedle      Bug  Poison   40      35       30       20   \n17    14               Kakuna      Bug  Poison   45      25       50       25   \n..   ...                  ...      ...     ...  ...     ...      ...      ...   \n775  705              Sliggoo   Dragon     NaN   68      75       53       83   \n776  706               Goodra   Dragon     NaN   90     100       70      110   \n794  718     Zygarde50% Forme   Dragon  Ground  108     100      121       81   \n797  720  HoopaHoopa Confined  Psychic   Ghost   80     110       60      150   \n798  720   HoopaHoopa Unbound  Psychic    Dark   80     160       60      170   \n\n     Sp. Def  Speed  Generation  Legendary  \n13        20     45           1      False  \n14        25     30           1      False  \n15        80     70           1      False  \n16        20     50           1      False  \n17        25     35           1      False  \n..       ...    ...         ...        ...  \n775      113     60           6      False  \n776      150     80           6      False  \n794       95     95           6       True  \n797      130     70           6       True  \n798      130     80           6       True  \n\n[190 rows x 12 columns]",
            "text/html": "<div>\n<style scoped>\n    .dataframe tbody tr th:only-of-type {\n        vertical-align: middle;\n    }\n\n    .dataframe tbody tr th {\n        vertical-align: top;\n    }\n\n    .dataframe thead th {\n        text-align: right;\n    }\n</style>\n<table border=\"1\" class=\"dataframe\">\n  <thead>\n    <tr style=\"text-align: right;\">\n      <th></th>\n      <th>#</th>\n      <th>Name</th>\n      <th>Type 1</th>\n      <th>Type 2</th>\n      <th>HP</th>\n      <th>Attack</th>\n      <th>Defense</th>\n      <th>Sp. Atk</th>\n      <th>Sp. Def</th>\n      <th>Speed</th>\n      <th>Generation</th>\n      <th>Legendary</th>\n    </tr>\n  </thead>\n  <tbody>\n    <tr>\n      <th>13</th>\n      <td>10</td>\n      <td>Caterpie</td>\n      <td>Bug</td>\n      <td>NaN</td>\n      <td>45</td>\n      <td>30</td>\n      <td>35</td>\n      <td>20</td>\n      <td>20</td>\n      <td>45</td>\n      <td>1</td>\n      <td>False</td>\n    </tr>\n    <tr>\n      <th>14</th>\n      <td>11</td>\n      <td>Metapod</td>\n      <td>Bug</td>\n      <td>NaN</td>\n      <td>50</td>\n      <td>20</td>\n      <td>55</td>\n      <td>25</td>\n      <td>25</td>\n      <td>30</td>\n      <td>1</td>\n      <td>False</td>\n    </tr>\n    <tr>\n      <th>15</th>\n      <td>12</td>\n      <td>Butterfree</td>\n      <td>Bug</td>\n      <td>Flying</td>\n      <td>60</td>\n      <td>45</td>\n      <td>50</td>\n      <td>90</td>\n      <td>80</td>\n      <td>70</td>\n      <td>1</td>\n      <td>False</td>\n    </tr>\n    <tr>\n      <th>16</th>\n      <td>13</td>\n      <td>Weedle</td>\n      <td>Bug</td>\n      <td>Poison</td>\n      <td>40</td>\n      <td>35</td>\n      <td>30</td>\n      <td>20</td>\n      <td>20</td>\n      <td>50</td>\n      <td>1</td>\n      <td>False</td>\n    </tr>\n    <tr>\n      <th>17</th>\n      <td>14</td>\n      <td>Kakuna</td>\n      <td>Bug</td>\n      <td>Poison</td>\n      <td>45</td>\n      <td>25</td>\n      <td>50</td>\n      <td>25</td>\n      <td>25</td>\n      <td>35</td>\n      <td>1</td>\n      <td>False</td>\n    </tr>\n    <tr>\n      <th>...</th>\n      <td>...</td>\n      <td>...</td>\n      <td>...</td>\n      <td>...</td>\n      <td>...</td>\n      <td>...</td>\n      <td>...</td>\n      <td>...</td>\n      <td>...</td>\n      <td>...</td>\n      <td>...</td>\n      <td>...</td>\n    </tr>\n    <tr>\n      <th>775</th>\n      <td>705</td>\n      <td>Sliggoo</td>\n      <td>Dragon</td>\n      <td>NaN</td>\n      <td>68</td>\n      <td>75</td>\n      <td>53</td>\n      <td>83</td>\n      <td>113</td>\n      <td>60</td>\n      <td>6</td>\n      <td>False</td>\n    </tr>\n    <tr>\n      <th>776</th>\n      <td>706</td>\n      <td>Goodra</td>\n      <td>Dragon</td>\n      <td>NaN</td>\n      <td>90</td>\n      <td>100</td>\n      <td>70</td>\n      <td>110</td>\n      <td>150</td>\n      <td>80</td>\n      <td>6</td>\n      <td>False</td>\n    </tr>\n    <tr>\n      <th>794</th>\n      <td>718</td>\n      <td>Zygarde50% Forme</td>\n      <td>Dragon</td>\n      <td>Ground</td>\n      <td>108</td>\n      <td>100</td>\n      <td>121</td>\n      <td>81</td>\n      <td>95</td>\n      <td>95</td>\n      <td>6</td>\n      <td>True</td>\n    </tr>\n    <tr>\n      <th>797</th>\n      <td>720</td>\n      <td>HoopaHoopa Confined</td>\n      <td>Psychic</td>\n      <td>Ghost</td>\n      <td>80</td>\n      <td>110</td>\n      <td>60</td>\n      <td>150</td>\n      <td>130</td>\n      <td>70</td>\n      <td>6</td>\n      <td>True</td>\n    </tr>\n    <tr>\n      <th>798</th>\n      <td>720</td>\n      <td>HoopaHoopa Unbound</td>\n      <td>Psychic</td>\n      <td>Dark</td>\n      <td>80</td>\n      <td>160</td>\n      <td>60</td>\n      <td>170</td>\n      <td>130</td>\n      <td>80</td>\n      <td>6</td>\n      <td>True</td>\n    </tr>\n  </tbody>\n</table>\n<p>190 rows × 12 columns</p>\n</div>"
          },
          "metadata": {}
        }
      ],
      "execution_count": 16
    },
    {
      "cell_type": "code",
      "source": "select *\nfrom pk\nwhere Attack between 30 and 100",
      "metadata": {
        "trusted": true
      },
      "outputs": [],
      "execution_count": null
    },
    {
      "cell_type": "code",
      "source": "pk[pk['Attack'].between(30,100)]",
      "metadata": {
        "trusted": true
      },
      "outputs": [
        {
          "execution_count": 18,
          "output_type": "execute_result",
          "data": {
            "text/plain": "       #                   Name  Type 1  Type 2   HP  Attack  Defense  \\\n0      1              Bulbasaur   Grass  Poison   45      49       49   \n1      2                Ivysaur   Grass  Poison   60      62       63   \n2      3               Venusaur   Grass  Poison   80      82       83   \n3      3  VenusaurMega Venusaur   Grass  Poison   80     100      123   \n4      4             Charmander    Fire     NaN   39      52       43   \n..   ...                    ...     ...     ...  ...     ...      ...   \n788  712               Bergmite     Ice     NaN   55      69       85   \n790  714                 Noibat  Flying  Dragon   40      30       35   \n791  715                Noivern  Flying  Dragon   85      70       80   \n794  718       Zygarde50% Forme  Dragon  Ground  108     100      121   \n795  719                Diancie    Rock   Fairy   50     100      150   \n\n     Sp. Atk  Sp. Def  Speed  Generation  Legendary  \n0         65       65     45           1      False  \n1         80       80     60           1      False  \n2        100      100     80           1      False  \n3        122      120     80           1      False  \n4         60       50     65           1      False  \n..       ...      ...    ...         ...        ...  \n788       32       35     28           6      False  \n790       45       40     55           6      False  \n791       97       80    123           6      False  \n794       81       95     95           6       True  \n795      100      150     50           6       True  \n\n[604 rows x 12 columns]",
            "text/html": "<div>\n<style scoped>\n    .dataframe tbody tr th:only-of-type {\n        vertical-align: middle;\n    }\n\n    .dataframe tbody tr th {\n        vertical-align: top;\n    }\n\n    .dataframe thead th {\n        text-align: right;\n    }\n</style>\n<table border=\"1\" class=\"dataframe\">\n  <thead>\n    <tr style=\"text-align: right;\">\n      <th></th>\n      <th>#</th>\n      <th>Name</th>\n      <th>Type 1</th>\n      <th>Type 2</th>\n      <th>HP</th>\n      <th>Attack</th>\n      <th>Defense</th>\n      <th>Sp. Atk</th>\n      <th>Sp. Def</th>\n      <th>Speed</th>\n      <th>Generation</th>\n      <th>Legendary</th>\n    </tr>\n  </thead>\n  <tbody>\n    <tr>\n      <th>0</th>\n      <td>1</td>\n      <td>Bulbasaur</td>\n      <td>Grass</td>\n      <td>Poison</td>\n      <td>45</td>\n      <td>49</td>\n      <td>49</td>\n      <td>65</td>\n      <td>65</td>\n      <td>45</td>\n      <td>1</td>\n      <td>False</td>\n    </tr>\n    <tr>\n      <th>1</th>\n      <td>2</td>\n      <td>Ivysaur</td>\n      <td>Grass</td>\n      <td>Poison</td>\n      <td>60</td>\n      <td>62</td>\n      <td>63</td>\n      <td>80</td>\n      <td>80</td>\n      <td>60</td>\n      <td>1</td>\n      <td>False</td>\n    </tr>\n    <tr>\n      <th>2</th>\n      <td>3</td>\n      <td>Venusaur</td>\n      <td>Grass</td>\n      <td>Poison</td>\n      <td>80</td>\n      <td>82</td>\n      <td>83</td>\n      <td>100</td>\n      <td>100</td>\n      <td>80</td>\n      <td>1</td>\n      <td>False</td>\n    </tr>\n    <tr>\n      <th>3</th>\n      <td>3</td>\n      <td>VenusaurMega Venusaur</td>\n      <td>Grass</td>\n      <td>Poison</td>\n      <td>80</td>\n      <td>100</td>\n      <td>123</td>\n      <td>122</td>\n      <td>120</td>\n      <td>80</td>\n      <td>1</td>\n      <td>False</td>\n    </tr>\n    <tr>\n      <th>4</th>\n      <td>4</td>\n      <td>Charmander</td>\n      <td>Fire</td>\n      <td>NaN</td>\n      <td>39</td>\n      <td>52</td>\n      <td>43</td>\n      <td>60</td>\n      <td>50</td>\n      <td>65</td>\n      <td>1</td>\n      <td>False</td>\n    </tr>\n    <tr>\n      <th>...</th>\n      <td>...</td>\n      <td>...</td>\n      <td>...</td>\n      <td>...</td>\n      <td>...</td>\n      <td>...</td>\n      <td>...</td>\n      <td>...</td>\n      <td>...</td>\n      <td>...</td>\n      <td>...</td>\n      <td>...</td>\n    </tr>\n    <tr>\n      <th>788</th>\n      <td>712</td>\n      <td>Bergmite</td>\n      <td>Ice</td>\n      <td>NaN</td>\n      <td>55</td>\n      <td>69</td>\n      <td>85</td>\n      <td>32</td>\n      <td>35</td>\n      <td>28</td>\n      <td>6</td>\n      <td>False</td>\n    </tr>\n    <tr>\n      <th>790</th>\n      <td>714</td>\n      <td>Noibat</td>\n      <td>Flying</td>\n      <td>Dragon</td>\n      <td>40</td>\n      <td>30</td>\n      <td>35</td>\n      <td>45</td>\n      <td>40</td>\n      <td>55</td>\n      <td>6</td>\n      <td>False</td>\n    </tr>\n    <tr>\n      <th>791</th>\n      <td>715</td>\n      <td>Noivern</td>\n      <td>Flying</td>\n      <td>Dragon</td>\n      <td>85</td>\n      <td>70</td>\n      <td>80</td>\n      <td>97</td>\n      <td>80</td>\n      <td>123</td>\n      <td>6</td>\n      <td>False</td>\n    </tr>\n    <tr>\n      <th>794</th>\n      <td>718</td>\n      <td>Zygarde50% Forme</td>\n      <td>Dragon</td>\n      <td>Ground</td>\n      <td>108</td>\n      <td>100</td>\n      <td>121</td>\n      <td>81</td>\n      <td>95</td>\n      <td>95</td>\n      <td>6</td>\n      <td>True</td>\n    </tr>\n    <tr>\n      <th>795</th>\n      <td>719</td>\n      <td>Diancie</td>\n      <td>Rock</td>\n      <td>Fairy</td>\n      <td>50</td>\n      <td>100</td>\n      <td>150</td>\n      <td>100</td>\n      <td>150</td>\n      <td>50</td>\n      <td>6</td>\n      <td>True</td>\n    </tr>\n  </tbody>\n</table>\n<p>604 rows × 12 columns</p>\n</div>"
          },
          "metadata": {}
        }
      ],
      "execution_count": 18
    },
    {
      "cell_type": "code",
      "source": "",
      "metadata": {
        "trusted": true
      },
      "outputs": [],
      "execution_count": null
    }
  ]
}