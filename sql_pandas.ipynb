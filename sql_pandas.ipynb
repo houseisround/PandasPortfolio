{
  "metadata": {
    "kernelspec": {
      "name": "python",
      "display_name": "Python (Pyodide)",
      "language": "python"
    },
    "language_info": {
      "codemirror_mode": {
        "name": "python",
        "version": 3
      },
      "file_extension": ".py",
      "mimetype": "text/x-python",
      "name": "python",
      "nbconvert_exporter": "python",
      "pygments_lexer": "ipython3",
      "version": "3.8"
    }
  },
  "nbformat_minor": 4,
  "nbformat": 4,
  "cells": [
    {
      "cell_type": "code",
      "source": "import pandas as pd",
      "metadata": {
        "trusted": true
      },
      "outputs": [],
      "execution_count": 4
    },
    {
      "cell_type": "code",
      "source": "import numpy as np",
      "metadata": {
        "trusted": true
      },
      "outputs": [],
      "execution_count": 5
    },
    {
      "cell_type": "code",
      "source": "pk = pd.read_csv('pokemon_data.csv')",
      "metadata": {
        "trusted": true
      },
      "outputs": [],
      "execution_count": 6
    },
    {
      "cell_type": "code",
      "source": "pk",
      "metadata": {
        "trusted": true
      },
      "outputs": [
        {
          "execution_count": 7,
          "output_type": "execute_result",
          "data": {
            "text/plain": "       #                   Name   Type 1  Type 2  HP  Attack  Defense  \\\n0      1              Bulbasaur    Grass  Poison  45      49       49   \n1      2                Ivysaur    Grass  Poison  60      62       63   \n2      3               Venusaur    Grass  Poison  80      82       83   \n3      3  VenusaurMega Venusaur    Grass  Poison  80     100      123   \n4      4             Charmander     Fire     NaN  39      52       43   \n..   ...                    ...      ...     ...  ..     ...      ...   \n795  719                Diancie     Rock   Fairy  50     100      150   \n796  719    DiancieMega Diancie     Rock   Fairy  50     160      110   \n797  720    HoopaHoopa Confined  Psychic   Ghost  80     110       60   \n798  720     HoopaHoopa Unbound  Psychic    Dark  80     160       60   \n799  721              Volcanion     Fire   Water  80     110      120   \n\n     Sp. Atk  Sp. Def  Speed  Generation  Legendary  \n0         65       65     45           1      False  \n1         80       80     60           1      False  \n2        100      100     80           1      False  \n3        122      120     80           1      False  \n4         60       50     65           1      False  \n..       ...      ...    ...         ...        ...  \n795      100      150     50           6       True  \n796      160      110    110           6       True  \n797      150      130     70           6       True  \n798      170      130     80           6       True  \n799      130       90     70           6       True  \n\n[800 rows x 12 columns]",
            "text/html": "<div>\n<style scoped>\n    .dataframe tbody tr th:only-of-type {\n        vertical-align: middle;\n    }\n\n    .dataframe tbody tr th {\n        vertical-align: top;\n    }\n\n    .dataframe thead th {\n        text-align: right;\n    }\n</style>\n<table border=\"1\" class=\"dataframe\">\n  <thead>\n    <tr style=\"text-align: right;\">\n      <th></th>\n      <th>#</th>\n      <th>Name</th>\n      <th>Type 1</th>\n      <th>Type 2</th>\n      <th>HP</th>\n      <th>Attack</th>\n      <th>Defense</th>\n      <th>Sp. Atk</th>\n      <th>Sp. Def</th>\n      <th>Speed</th>\n      <th>Generation</th>\n      <th>Legendary</th>\n    </tr>\n  </thead>\n  <tbody>\n    <tr>\n      <th>0</th>\n      <td>1</td>\n      <td>Bulbasaur</td>\n      <td>Grass</td>\n      <td>Poison</td>\n      <td>45</td>\n      <td>49</td>\n      <td>49</td>\n      <td>65</td>\n      <td>65</td>\n      <td>45</td>\n      <td>1</td>\n      <td>False</td>\n    </tr>\n    <tr>\n      <th>1</th>\n      <td>2</td>\n      <td>Ivysaur</td>\n      <td>Grass</td>\n      <td>Poison</td>\n      <td>60</td>\n      <td>62</td>\n      <td>63</td>\n      <td>80</td>\n      <td>80</td>\n      <td>60</td>\n      <td>1</td>\n      <td>False</td>\n    </tr>\n    <tr>\n      <th>2</th>\n      <td>3</td>\n      <td>Venusaur</td>\n      <td>Grass</td>\n      <td>Poison</td>\n      <td>80</td>\n      <td>82</td>\n      <td>83</td>\n      <td>100</td>\n      <td>100</td>\n      <td>80</td>\n      <td>1</td>\n      <td>False</td>\n    </tr>\n    <tr>\n      <th>3</th>\n      <td>3</td>\n      <td>VenusaurMega Venusaur</td>\n      <td>Grass</td>\n      <td>Poison</td>\n      <td>80</td>\n      <td>100</td>\n      <td>123</td>\n      <td>122</td>\n      <td>120</td>\n      <td>80</td>\n      <td>1</td>\n      <td>False</td>\n    </tr>\n    <tr>\n      <th>4</th>\n      <td>4</td>\n      <td>Charmander</td>\n      <td>Fire</td>\n      <td>NaN</td>\n      <td>39</td>\n      <td>52</td>\n      <td>43</td>\n      <td>60</td>\n      <td>50</td>\n      <td>65</td>\n      <td>1</td>\n      <td>False</td>\n    </tr>\n    <tr>\n      <th>...</th>\n      <td>...</td>\n      <td>...</td>\n      <td>...</td>\n      <td>...</td>\n      <td>...</td>\n      <td>...</td>\n      <td>...</td>\n      <td>...</td>\n      <td>...</td>\n      <td>...</td>\n      <td>...</td>\n      <td>...</td>\n    </tr>\n    <tr>\n      <th>795</th>\n      <td>719</td>\n      <td>Diancie</td>\n      <td>Rock</td>\n      <td>Fairy</td>\n      <td>50</td>\n      <td>100</td>\n      <td>150</td>\n      <td>100</td>\n      <td>150</td>\n      <td>50</td>\n      <td>6</td>\n      <td>True</td>\n    </tr>\n    <tr>\n      <th>796</th>\n      <td>719</td>\n      <td>DiancieMega Diancie</td>\n      <td>Rock</td>\n      <td>Fairy</td>\n      <td>50</td>\n      <td>160</td>\n      <td>110</td>\n      <td>160</td>\n      <td>110</td>\n      <td>110</td>\n      <td>6</td>\n      <td>True</td>\n    </tr>\n    <tr>\n      <th>797</th>\n      <td>720</td>\n      <td>HoopaHoopa Confined</td>\n      <td>Psychic</td>\n      <td>Ghost</td>\n      <td>80</td>\n      <td>110</td>\n      <td>60</td>\n      <td>150</td>\n      <td>130</td>\n      <td>70</td>\n      <td>6</td>\n      <td>True</td>\n    </tr>\n    <tr>\n      <th>798</th>\n      <td>720</td>\n      <td>HoopaHoopa Unbound</td>\n      <td>Psychic</td>\n      <td>Dark</td>\n      <td>80</td>\n      <td>160</td>\n      <td>60</td>\n      <td>170</td>\n      <td>130</td>\n      <td>80</td>\n      <td>6</td>\n      <td>True</td>\n    </tr>\n    <tr>\n      <th>799</th>\n      <td>721</td>\n      <td>Volcanion</td>\n      <td>Fire</td>\n      <td>Water</td>\n      <td>80</td>\n      <td>110</td>\n      <td>120</td>\n      <td>130</td>\n      <td>90</td>\n      <td>70</td>\n      <td>6</td>\n      <td>True</td>\n    </tr>\n  </tbody>\n</table>\n<p>800 rows × 12 columns</p>\n</div>"
          },
          "metadata": {}
        }
      ],
      "execution_count": 7
    },
    {
      "cell_type": "markdown",
      "source": "select Name, Type 1, Type 2 \nfrom pk",
      "metadata": {}
    },
    {
      "cell_type": "code",
      "source": "pk[['Name', 'Type 1', 'Type 2']]",
      "metadata": {
        "trusted": true,
        "scrolled": true,
        "collapsed": true,
        "jupyter": {
          "outputs_hidden": true
        }
      },
      "outputs": [
        {
          "execution_count": 8,
          "output_type": "execute_result",
          "data": {
            "text/plain": "                      Name   Type 1  Type 2\n0                Bulbasaur    Grass  Poison\n1                  Ivysaur    Grass  Poison\n2                 Venusaur    Grass  Poison\n3    VenusaurMega Venusaur    Grass  Poison\n4               Charmander     Fire     NaN\n..                     ...      ...     ...\n795                Diancie     Rock   Fairy\n796    DiancieMega Diancie     Rock   Fairy\n797    HoopaHoopa Confined  Psychic   Ghost\n798     HoopaHoopa Unbound  Psychic    Dark\n799              Volcanion     Fire   Water\n\n[800 rows x 3 columns]",
            "text/html": "<div>\n<style scoped>\n    .dataframe tbody tr th:only-of-type {\n        vertical-align: middle;\n    }\n\n    .dataframe tbody tr th {\n        vertical-align: top;\n    }\n\n    .dataframe thead th {\n        text-align: right;\n    }\n</style>\n<table border=\"1\" class=\"dataframe\">\n  <thead>\n    <tr style=\"text-align: right;\">\n      <th></th>\n      <th>Name</th>\n      <th>Type 1</th>\n      <th>Type 2</th>\n    </tr>\n  </thead>\n  <tbody>\n    <tr>\n      <th>0</th>\n      <td>Bulbasaur</td>\n      <td>Grass</td>\n      <td>Poison</td>\n    </tr>\n    <tr>\n      <th>1</th>\n      <td>Ivysaur</td>\n      <td>Grass</td>\n      <td>Poison</td>\n    </tr>\n    <tr>\n      <th>2</th>\n      <td>Venusaur</td>\n      <td>Grass</td>\n      <td>Poison</td>\n    </tr>\n    <tr>\n      <th>3</th>\n      <td>VenusaurMega Venusaur</td>\n      <td>Grass</td>\n      <td>Poison</td>\n    </tr>\n    <tr>\n      <th>4</th>\n      <td>Charmander</td>\n      <td>Fire</td>\n      <td>NaN</td>\n    </tr>\n    <tr>\n      <th>...</th>\n      <td>...</td>\n      <td>...</td>\n      <td>...</td>\n    </tr>\n    <tr>\n      <th>795</th>\n      <td>Diancie</td>\n      <td>Rock</td>\n      <td>Fairy</td>\n    </tr>\n    <tr>\n      <th>796</th>\n      <td>DiancieMega Diancie</td>\n      <td>Rock</td>\n      <td>Fairy</td>\n    </tr>\n    <tr>\n      <th>797</th>\n      <td>HoopaHoopa Confined</td>\n      <td>Psychic</td>\n      <td>Ghost</td>\n    </tr>\n    <tr>\n      <th>798</th>\n      <td>HoopaHoopa Unbound</td>\n      <td>Psychic</td>\n      <td>Dark</td>\n    </tr>\n    <tr>\n      <th>799</th>\n      <td>Volcanion</td>\n      <td>Fire</td>\n      <td>Water</td>\n    </tr>\n  </tbody>\n</table>\n<p>800 rows × 3 columns</p>\n</div>"
          },
          "metadata": {}
        }
      ],
      "execution_count": 8
    },
    {
      "cell_type": "markdown",
      "source": "",
      "metadata": {}
    },
    {
      "cell_type": "code",
      "source": "pk1 = pk.assign(Name1 = pk['Name'])\npk1",
      "metadata": {
        "trusted": true,
        "scrolled": true,
        "collapsed": true,
        "jupyter": {
          "outputs_hidden": true
        }
      },
      "outputs": [
        {
          "execution_count": 9,
          "output_type": "execute_result",
          "data": {
            "text/plain": "       #                   Name   Type 1  Type 2  HP  Attack  Defense  \\\n0      1              Bulbasaur    Grass  Poison  45      49       49   \n1      2                Ivysaur    Grass  Poison  60      62       63   \n2      3               Venusaur    Grass  Poison  80      82       83   \n3      3  VenusaurMega Venusaur    Grass  Poison  80     100      123   \n4      4             Charmander     Fire     NaN  39      52       43   \n..   ...                    ...      ...     ...  ..     ...      ...   \n795  719                Diancie     Rock   Fairy  50     100      150   \n796  719    DiancieMega Diancie     Rock   Fairy  50     160      110   \n797  720    HoopaHoopa Confined  Psychic   Ghost  80     110       60   \n798  720     HoopaHoopa Unbound  Psychic    Dark  80     160       60   \n799  721              Volcanion     Fire   Water  80     110      120   \n\n     Sp. Atk  Sp. Def  Speed  Generation  Legendary                  Name1  \n0         65       65     45           1      False              Bulbasaur  \n1         80       80     60           1      False                Ivysaur  \n2        100      100     80           1      False               Venusaur  \n3        122      120     80           1      False  VenusaurMega Venusaur  \n4         60       50     65           1      False             Charmander  \n..       ...      ...    ...         ...        ...                    ...  \n795      100      150     50           6       True                Diancie  \n796      160      110    110           6       True    DiancieMega Diancie  \n797      150      130     70           6       True    HoopaHoopa Confined  \n798      170      130     80           6       True     HoopaHoopa Unbound  \n799      130       90     70           6       True              Volcanion  \n\n[800 rows x 13 columns]",
            "text/html": "<div>\n<style scoped>\n    .dataframe tbody tr th:only-of-type {\n        vertical-align: middle;\n    }\n\n    .dataframe tbody tr th {\n        vertical-align: top;\n    }\n\n    .dataframe thead th {\n        text-align: right;\n    }\n</style>\n<table border=\"1\" class=\"dataframe\">\n  <thead>\n    <tr style=\"text-align: right;\">\n      <th></th>\n      <th>#</th>\n      <th>Name</th>\n      <th>Type 1</th>\n      <th>Type 2</th>\n      <th>HP</th>\n      <th>Attack</th>\n      <th>Defense</th>\n      <th>Sp. Atk</th>\n      <th>Sp. Def</th>\n      <th>Speed</th>\n      <th>Generation</th>\n      <th>Legendary</th>\n      <th>Name1</th>\n    </tr>\n  </thead>\n  <tbody>\n    <tr>\n      <th>0</th>\n      <td>1</td>\n      <td>Bulbasaur</td>\n      <td>Grass</td>\n      <td>Poison</td>\n      <td>45</td>\n      <td>49</td>\n      <td>49</td>\n      <td>65</td>\n      <td>65</td>\n      <td>45</td>\n      <td>1</td>\n      <td>False</td>\n      <td>Bulbasaur</td>\n    </tr>\n    <tr>\n      <th>1</th>\n      <td>2</td>\n      <td>Ivysaur</td>\n      <td>Grass</td>\n      <td>Poison</td>\n      <td>60</td>\n      <td>62</td>\n      <td>63</td>\n      <td>80</td>\n      <td>80</td>\n      <td>60</td>\n      <td>1</td>\n      <td>False</td>\n      <td>Ivysaur</td>\n    </tr>\n    <tr>\n      <th>2</th>\n      <td>3</td>\n      <td>Venusaur</td>\n      <td>Grass</td>\n      <td>Poison</td>\n      <td>80</td>\n      <td>82</td>\n      <td>83</td>\n      <td>100</td>\n      <td>100</td>\n      <td>80</td>\n      <td>1</td>\n      <td>False</td>\n      <td>Venusaur</td>\n    </tr>\n    <tr>\n      <th>3</th>\n      <td>3</td>\n      <td>VenusaurMega Venusaur</td>\n      <td>Grass</td>\n      <td>Poison</td>\n      <td>80</td>\n      <td>100</td>\n      <td>123</td>\n      <td>122</td>\n      <td>120</td>\n      <td>80</td>\n      <td>1</td>\n      <td>False</td>\n      <td>VenusaurMega Venusaur</td>\n    </tr>\n    <tr>\n      <th>4</th>\n      <td>4</td>\n      <td>Charmander</td>\n      <td>Fire</td>\n      <td>NaN</td>\n      <td>39</td>\n      <td>52</td>\n      <td>43</td>\n      <td>60</td>\n      <td>50</td>\n      <td>65</td>\n      <td>1</td>\n      <td>False</td>\n      <td>Charmander</td>\n    </tr>\n    <tr>\n      <th>...</th>\n      <td>...</td>\n      <td>...</td>\n      <td>...</td>\n      <td>...</td>\n      <td>...</td>\n      <td>...</td>\n      <td>...</td>\n      <td>...</td>\n      <td>...</td>\n      <td>...</td>\n      <td>...</td>\n      <td>...</td>\n      <td>...</td>\n    </tr>\n    <tr>\n      <th>795</th>\n      <td>719</td>\n      <td>Diancie</td>\n      <td>Rock</td>\n      <td>Fairy</td>\n      <td>50</td>\n      <td>100</td>\n      <td>150</td>\n      <td>100</td>\n      <td>150</td>\n      <td>50</td>\n      <td>6</td>\n      <td>True</td>\n      <td>Diancie</td>\n    </tr>\n    <tr>\n      <th>796</th>\n      <td>719</td>\n      <td>DiancieMega Diancie</td>\n      <td>Rock</td>\n      <td>Fairy</td>\n      <td>50</td>\n      <td>160</td>\n      <td>110</td>\n      <td>160</td>\n      <td>110</td>\n      <td>110</td>\n      <td>6</td>\n      <td>True</td>\n      <td>DiancieMega Diancie</td>\n    </tr>\n    <tr>\n      <th>797</th>\n      <td>720</td>\n      <td>HoopaHoopa Confined</td>\n      <td>Psychic</td>\n      <td>Ghost</td>\n      <td>80</td>\n      <td>110</td>\n      <td>60</td>\n      <td>150</td>\n      <td>130</td>\n      <td>70</td>\n      <td>6</td>\n      <td>True</td>\n      <td>HoopaHoopa Confined</td>\n    </tr>\n    <tr>\n      <th>798</th>\n      <td>720</td>\n      <td>HoopaHoopa Unbound</td>\n      <td>Psychic</td>\n      <td>Dark</td>\n      <td>80</td>\n      <td>160</td>\n      <td>60</td>\n      <td>170</td>\n      <td>130</td>\n      <td>80</td>\n      <td>6</td>\n      <td>True</td>\n      <td>HoopaHoopa Unbound</td>\n    </tr>\n    <tr>\n      <th>799</th>\n      <td>721</td>\n      <td>Volcanion</td>\n      <td>Fire</td>\n      <td>Water</td>\n      <td>80</td>\n      <td>110</td>\n      <td>120</td>\n      <td>130</td>\n      <td>90</td>\n      <td>70</td>\n      <td>6</td>\n      <td>True</td>\n      <td>Volcanion</td>\n    </tr>\n  </tbody>\n</table>\n<p>800 rows × 13 columns</p>\n</div>"
          },
          "metadata": {}
        }
      ],
      "execution_count": 9
    },
    {
      "cell_type": "markdown",
      "source": "select * \nfrom pk\nwhere Name = 'Ivysaur'",
      "metadata": {}
    },
    {
      "cell_type": "code",
      "source": "pk[pk['Name']=='Ivysaur']",
      "metadata": {
        "trusted": true
      },
      "outputs": [
        {
          "execution_count": 10,
          "output_type": "execute_result",
          "data": {
            "text/plain": "   #     Name Type 1  Type 2  HP  Attack  Defense  Sp. Atk  Sp. Def  Speed  \\\n1  2  Ivysaur  Grass  Poison  60      62       63       80       80     60   \n\n   Generation  Legendary  \n1           1      False  ",
            "text/html": "<div>\n<style scoped>\n    .dataframe tbody tr th:only-of-type {\n        vertical-align: middle;\n    }\n\n    .dataframe tbody tr th {\n        vertical-align: top;\n    }\n\n    .dataframe thead th {\n        text-align: right;\n    }\n</style>\n<table border=\"1\" class=\"dataframe\">\n  <thead>\n    <tr style=\"text-align: right;\">\n      <th></th>\n      <th>#</th>\n      <th>Name</th>\n      <th>Type 1</th>\n      <th>Type 2</th>\n      <th>HP</th>\n      <th>Attack</th>\n      <th>Defense</th>\n      <th>Sp. Atk</th>\n      <th>Sp. Def</th>\n      <th>Speed</th>\n      <th>Generation</th>\n      <th>Legendary</th>\n    </tr>\n  </thead>\n  <tbody>\n    <tr>\n      <th>1</th>\n      <td>2</td>\n      <td>Ivysaur</td>\n      <td>Grass</td>\n      <td>Poison</td>\n      <td>60</td>\n      <td>62</td>\n      <td>63</td>\n      <td>80</td>\n      <td>80</td>\n      <td>60</td>\n      <td>1</td>\n      <td>False</td>\n    </tr>\n  </tbody>\n</table>\n</div>"
          },
          "metadata": {}
        }
      ],
      "execution_count": 10
    },
    {
      "cell_type": "markdown",
      "source": "select * \nfrom pk\nwhere HP > 60 and Attack < 80",
      "metadata": {}
    },
    {
      "cell_type": "code",
      "source": "pk[(pk['HP'] > 60) & (pk['Attack'] < 80)]",
      "metadata": {
        "trusted": true
      },
      "outputs": [
        {
          "execution_count": 11,
          "output_type": "execute_result",
          "data": {
            "text/plain": "       #       Name    Type 1  Type 2   HP  Attack  Defense  Sp. Atk  Sp. Def  \\\n21    17  Pidgeotto    Normal  Flying   63      60       55       50       50   \n35    30   Nidorina    Poison     NaN   70      62       67       55       55   \n38    33   Nidorino    Poison     NaN   61      72       57       55       55   \n40    35   Clefairy     Fairy     NaN   70      45       48       60       65   \n41    36   Clefable     Fairy     NaN   95      70       73       95       90   \n..   ...        ...       ...     ...  ...     ...      ...      ...      ...   \n769  699    Aurorus      Rock     Ice  123      77       72       99       92   \n770  700    Sylveon     Fairy     NaN   95      65       65      110      130   \n772  702    Dedenne  Electric   Fairy   67      58       57       81       67   \n775  705    Sliggoo    Dragon     NaN   68      75       53       83      113   \n791  715    Noivern    Flying  Dragon   85      70       80       97       80   \n\n     Speed  Generation  Legendary  \n21      71           1      False  \n35      56           1      False  \n38      65           1      False  \n40      35           1      False  \n41      60           1      False  \n..     ...         ...        ...  \n769     58           6      False  \n770     60           6      False  \n772    101           6      False  \n775     60           6      False  \n791    123           6      False  \n\n[152 rows x 12 columns]",
            "text/html": "<div>\n<style scoped>\n    .dataframe tbody tr th:only-of-type {\n        vertical-align: middle;\n    }\n\n    .dataframe tbody tr th {\n        vertical-align: top;\n    }\n\n    .dataframe thead th {\n        text-align: right;\n    }\n</style>\n<table border=\"1\" class=\"dataframe\">\n  <thead>\n    <tr style=\"text-align: right;\">\n      <th></th>\n      <th>#</th>\n      <th>Name</th>\n      <th>Type 1</th>\n      <th>Type 2</th>\n      <th>HP</th>\n      <th>Attack</th>\n      <th>Defense</th>\n      <th>Sp. Atk</th>\n      <th>Sp. Def</th>\n      <th>Speed</th>\n      <th>Generation</th>\n      <th>Legendary</th>\n    </tr>\n  </thead>\n  <tbody>\n    <tr>\n      <th>21</th>\n      <td>17</td>\n      <td>Pidgeotto</td>\n      <td>Normal</td>\n      <td>Flying</td>\n      <td>63</td>\n      <td>60</td>\n      <td>55</td>\n      <td>50</td>\n      <td>50</td>\n      <td>71</td>\n      <td>1</td>\n      <td>False</td>\n    </tr>\n    <tr>\n      <th>35</th>\n      <td>30</td>\n      <td>Nidorina</td>\n      <td>Poison</td>\n      <td>NaN</td>\n      <td>70</td>\n      <td>62</td>\n      <td>67</td>\n      <td>55</td>\n      <td>55</td>\n      <td>56</td>\n      <td>1</td>\n      <td>False</td>\n    </tr>\n    <tr>\n      <th>38</th>\n      <td>33</td>\n      <td>Nidorino</td>\n      <td>Poison</td>\n      <td>NaN</td>\n      <td>61</td>\n      <td>72</td>\n      <td>57</td>\n      <td>55</td>\n      <td>55</td>\n      <td>65</td>\n      <td>1</td>\n      <td>False</td>\n    </tr>\n    <tr>\n      <th>40</th>\n      <td>35</td>\n      <td>Clefairy</td>\n      <td>Fairy</td>\n      <td>NaN</td>\n      <td>70</td>\n      <td>45</td>\n      <td>48</td>\n      <td>60</td>\n      <td>65</td>\n      <td>35</td>\n      <td>1</td>\n      <td>False</td>\n    </tr>\n    <tr>\n      <th>41</th>\n      <td>36</td>\n      <td>Clefable</td>\n      <td>Fairy</td>\n      <td>NaN</td>\n      <td>95</td>\n      <td>70</td>\n      <td>73</td>\n      <td>95</td>\n      <td>90</td>\n      <td>60</td>\n      <td>1</td>\n      <td>False</td>\n    </tr>\n    <tr>\n      <th>...</th>\n      <td>...</td>\n      <td>...</td>\n      <td>...</td>\n      <td>...</td>\n      <td>...</td>\n      <td>...</td>\n      <td>...</td>\n      <td>...</td>\n      <td>...</td>\n      <td>...</td>\n      <td>...</td>\n      <td>...</td>\n    </tr>\n    <tr>\n      <th>769</th>\n      <td>699</td>\n      <td>Aurorus</td>\n      <td>Rock</td>\n      <td>Ice</td>\n      <td>123</td>\n      <td>77</td>\n      <td>72</td>\n      <td>99</td>\n      <td>92</td>\n      <td>58</td>\n      <td>6</td>\n      <td>False</td>\n    </tr>\n    <tr>\n      <th>770</th>\n      <td>700</td>\n      <td>Sylveon</td>\n      <td>Fairy</td>\n      <td>NaN</td>\n      <td>95</td>\n      <td>65</td>\n      <td>65</td>\n      <td>110</td>\n      <td>130</td>\n      <td>60</td>\n      <td>6</td>\n      <td>False</td>\n    </tr>\n    <tr>\n      <th>772</th>\n      <td>702</td>\n      <td>Dedenne</td>\n      <td>Electric</td>\n      <td>Fairy</td>\n      <td>67</td>\n      <td>58</td>\n      <td>57</td>\n      <td>81</td>\n      <td>67</td>\n      <td>101</td>\n      <td>6</td>\n      <td>False</td>\n    </tr>\n    <tr>\n      <th>775</th>\n      <td>705</td>\n      <td>Sliggoo</td>\n      <td>Dragon</td>\n      <td>NaN</td>\n      <td>68</td>\n      <td>75</td>\n      <td>53</td>\n      <td>83</td>\n      <td>113</td>\n      <td>60</td>\n      <td>6</td>\n      <td>False</td>\n    </tr>\n    <tr>\n      <th>791</th>\n      <td>715</td>\n      <td>Noivern</td>\n      <td>Flying</td>\n      <td>Dragon</td>\n      <td>85</td>\n      <td>70</td>\n      <td>80</td>\n      <td>97</td>\n      <td>80</td>\n      <td>123</td>\n      <td>6</td>\n      <td>False</td>\n    </tr>\n  </tbody>\n</table>\n<p>152 rows × 12 columns</p>\n</div>"
          },
          "metadata": {}
        }
      ],
      "execution_count": 11
    },
    {
      "cell_type": "markdown",
      "source": "select * \nfrom pk\nwhere Type 1 == 'Grass' or Type 2 != 'Poison'",
      "metadata": {}
    },
    {
      "cell_type": "code",
      "source": "pk[(pk['Type 1'] == 'Grass') | (pk['Type 2'] == 'Fairy')]",
      "metadata": {
        "trusted": true
      },
      "outputs": [
        {
          "execution_count": 18,
          "output_type": "execute_result",
          "data": {
            "text/plain": "       #                   Name    Type 1  Type 2   HP  Attack  Defense  \\\n0      1              Bulbasaur     Grass  Poison   45      49       49   \n1      2                Ivysaur     Grass  Poison   60      62       63   \n2      3               Venusaur     Grass  Poison   80      82       83   \n3      3  VenusaurMega Venusaur     Grass  Poison   80     100      123   \n44    39             Jigglypuff    Normal   Fairy  115      45       20   \n..   ...                    ...       ...     ...  ...     ...      ...   \n772  702                Dedenne  Electric   Fairy   67      58       57   \n773  703                Carbink      Rock   Fairy   50      50      150   \n777  707                 Klefki     Steel   Fairy   57      80       91   \n795  719                Diancie      Rock   Fairy   50     100      150   \n796  719    DiancieMega Diancie      Rock   Fairy   50     160      110   \n\n     Sp. Atk  Sp. Def  Speed  Generation  Legendary  \n0         65       65     45           1      False  \n1         80       80     60           1      False  \n2        100      100     80           1      False  \n3        122      120     80           1      False  \n44        45       25     20           1      False  \n..       ...      ...    ...         ...        ...  \n772       81       67    101           6      False  \n773       50      150     50           6      False  \n777       80       87     75           6      False  \n795      100      150     50           6       True  \n796      160      110    110           6       True  \n\n[91 rows x 12 columns]",
            "text/html": "<div>\n<style scoped>\n    .dataframe tbody tr th:only-of-type {\n        vertical-align: middle;\n    }\n\n    .dataframe tbody tr th {\n        vertical-align: top;\n    }\n\n    .dataframe thead th {\n        text-align: right;\n    }\n</style>\n<table border=\"1\" class=\"dataframe\">\n  <thead>\n    <tr style=\"text-align: right;\">\n      <th></th>\n      <th>#</th>\n      <th>Name</th>\n      <th>Type 1</th>\n      <th>Type 2</th>\n      <th>HP</th>\n      <th>Attack</th>\n      <th>Defense</th>\n      <th>Sp. Atk</th>\n      <th>Sp. Def</th>\n      <th>Speed</th>\n      <th>Generation</th>\n      <th>Legendary</th>\n    </tr>\n  </thead>\n  <tbody>\n    <tr>\n      <th>0</th>\n      <td>1</td>\n      <td>Bulbasaur</td>\n      <td>Grass</td>\n      <td>Poison</td>\n      <td>45</td>\n      <td>49</td>\n      <td>49</td>\n      <td>65</td>\n      <td>65</td>\n      <td>45</td>\n      <td>1</td>\n      <td>False</td>\n    </tr>\n    <tr>\n      <th>1</th>\n      <td>2</td>\n      <td>Ivysaur</td>\n      <td>Grass</td>\n      <td>Poison</td>\n      <td>60</td>\n      <td>62</td>\n      <td>63</td>\n      <td>80</td>\n      <td>80</td>\n      <td>60</td>\n      <td>1</td>\n      <td>False</td>\n    </tr>\n    <tr>\n      <th>2</th>\n      <td>3</td>\n      <td>Venusaur</td>\n      <td>Grass</td>\n      <td>Poison</td>\n      <td>80</td>\n      <td>82</td>\n      <td>83</td>\n      <td>100</td>\n      <td>100</td>\n      <td>80</td>\n      <td>1</td>\n      <td>False</td>\n    </tr>\n    <tr>\n      <th>3</th>\n      <td>3</td>\n      <td>VenusaurMega Venusaur</td>\n      <td>Grass</td>\n      <td>Poison</td>\n      <td>80</td>\n      <td>100</td>\n      <td>123</td>\n      <td>122</td>\n      <td>120</td>\n      <td>80</td>\n      <td>1</td>\n      <td>False</td>\n    </tr>\n    <tr>\n      <th>44</th>\n      <td>39</td>\n      <td>Jigglypuff</td>\n      <td>Normal</td>\n      <td>Fairy</td>\n      <td>115</td>\n      <td>45</td>\n      <td>20</td>\n      <td>45</td>\n      <td>25</td>\n      <td>20</td>\n      <td>1</td>\n      <td>False</td>\n    </tr>\n    <tr>\n      <th>...</th>\n      <td>...</td>\n      <td>...</td>\n      <td>...</td>\n      <td>...</td>\n      <td>...</td>\n      <td>...</td>\n      <td>...</td>\n      <td>...</td>\n      <td>...</td>\n      <td>...</td>\n      <td>...</td>\n      <td>...</td>\n    </tr>\n    <tr>\n      <th>772</th>\n      <td>702</td>\n      <td>Dedenne</td>\n      <td>Electric</td>\n      <td>Fairy</td>\n      <td>67</td>\n      <td>58</td>\n      <td>57</td>\n      <td>81</td>\n      <td>67</td>\n      <td>101</td>\n      <td>6</td>\n      <td>False</td>\n    </tr>\n    <tr>\n      <th>773</th>\n      <td>703</td>\n      <td>Carbink</td>\n      <td>Rock</td>\n      <td>Fairy</td>\n      <td>50</td>\n      <td>50</td>\n      <td>150</td>\n      <td>50</td>\n      <td>150</td>\n      <td>50</td>\n      <td>6</td>\n      <td>False</td>\n    </tr>\n    <tr>\n      <th>777</th>\n      <td>707</td>\n      <td>Klefki</td>\n      <td>Steel</td>\n      <td>Fairy</td>\n      <td>57</td>\n      <td>80</td>\n      <td>91</td>\n      <td>80</td>\n      <td>87</td>\n      <td>75</td>\n      <td>6</td>\n      <td>False</td>\n    </tr>\n    <tr>\n      <th>795</th>\n      <td>719</td>\n      <td>Diancie</td>\n      <td>Rock</td>\n      <td>Fairy</td>\n      <td>50</td>\n      <td>100</td>\n      <td>150</td>\n      <td>100</td>\n      <td>150</td>\n      <td>50</td>\n      <td>6</td>\n      <td>True</td>\n    </tr>\n    <tr>\n      <th>796</th>\n      <td>719</td>\n      <td>DiancieMega Diancie</td>\n      <td>Rock</td>\n      <td>Fairy</td>\n      <td>50</td>\n      <td>160</td>\n      <td>110</td>\n      <td>160</td>\n      <td>110</td>\n      <td>110</td>\n      <td>6</td>\n      <td>True</td>\n    </tr>\n  </tbody>\n</table>\n<p>91 rows × 12 columns</p>\n</div>"
          },
          "metadata": {}
        }
      ],
      "execution_count": 18
    },
    {
      "cell_type": "code",
      "source": "",
      "metadata": {
        "trusted": true
      },
      "outputs": [],
      "execution_count": null
    }
  ]
}