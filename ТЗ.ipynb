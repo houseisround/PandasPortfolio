{
  "nbformat": 4,
  "nbformat_minor": 0,
  "metadata": {
    "colab": {
      "provenance": []
    },
    "kernelspec": {
      "name": "python3",
      "display_name": "Python 3"
    },
    "language_info": {
      "name": "python"
    }
  },
  "cells": [
    {
      "cell_type": "code",
      "execution_count": null,
      "metadata": {
        "id": "gvgcJjAsLWk7"
      },
      "outputs": [],
      "source": [
        "import pandas as pd\n",
        "\n",
        "import numpy as np\n",
        "\n",
        "data = pd.DataFrame(np.random.randint(0,9999,size=(10000,4)), columns=list('ABCD'))\n",
        "\n",
        "data"
      ]
    },
    {
      "cell_type": "code",
      "source": [
        "data_feature = data.rename(columns={\"A\": \"feature_a\", \"B\": \"feature_b\", \"C\": \"feature_c\", \"D\": \"feature_d\"})\n",
        "\n",
        "data_feature"
      ],
      "metadata": {
        "id": "VuCCG24yOugn"
      },
      "execution_count": null,
      "outputs": []
    },
    {
      "cell_type": "code",
      "source": [
        "data_feature.describe([.25, .5, .75, .95, .99])"
      ],
      "metadata": {
        "id": "FVvEijc1K-cB"
      },
      "execution_count": null,
      "outputs": []
    },
    {
      "cell_type": "code",
      "source": [
        "data_feature['agg_feature'] = data_feature.apply(np.mean, axis=1)\n",
        "\n",
        "data_feature"
      ],
      "metadata": {
        "id": "wf-xY1gVUjOn"
      },
      "execution_count": null,
      "outputs": []
    },
    {
      "cell_type": "code",
      "source": [
        "data_feature.to_csv(index=False, sep=';')"
      ],
      "metadata": {
        "id": "kxEPKt64cIwT"
      },
      "execution_count": null,
      "outputs": []
    }
  ]
}